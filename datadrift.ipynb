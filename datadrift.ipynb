{
 "cells": [
  {
   "cell_type": "code",
   "execution_count": 9,
   "metadata": {},
   "outputs": [],
   "source": [
    "#pip install evidently\n"
   ]
  },
  {
   "cell_type": "code",
   "execution_count": 10,
   "metadata": {},
   "outputs": [],
   "source": [
    "import pandas as pd\n",
    "from evidently.report import Report\n",
    "from evidently.metric_preset import DataDriftPreset"
   ]
  },
  {
   "cell_type": "code",
   "execution_count": 11,
   "metadata": {},
   "outputs": [],
   "source": [
    "import glob"
   ]
  },
  {
   "cell_type": "code",
   "execution_count": 12,
   "metadata": {},
   "outputs": [
    {
     "data": {
      "text/plain": [
       "['input\\\\application_test.csv',\n",
       " 'input\\\\application_train.csv',\n",
       " 'input\\\\bureau.csv',\n",
       " 'input\\\\bureau_balance.csv',\n",
       " 'input\\\\credit_card_balance.csv',\n",
       " 'input\\\\HomeCredit_columns_description.csv',\n",
       " 'input\\\\installments_payments.csv',\n",
       " 'input\\\\POS_CASH_balance.csv',\n",
       " 'input\\\\previous_application.csv',\n",
       " 'input\\\\sample_submission.csv']"
      ]
     },
     "execution_count": 12,
     "metadata": {},
     "output_type": "execute_result"
    }
   ],
   "source": [
    "glob.glob('input/*.csv')"
   ]
  },
  {
   "cell_type": "code",
   "execution_count": 13,
   "metadata": {},
   "outputs": [],
   "source": [
    "# Charger les données\n",
    "train_data = pd.read_csv('./input/application_train.csv')\n",
    "test_data = pd.read_csv('./input/application_test.csv')"
   ]
  },
  {
   "cell_type": "code",
   "execution_count": 14,
   "metadata": {},
   "outputs": [],
   "source": [
    "\n",
    "train_data = train_data.drop(columns=['TARGET'])"
   ]
  },
  {
   "cell_type": "code",
   "execution_count": 15,
   "metadata": {},
   "outputs": [],
   "source": [
    "\n",
    "# Créer un rapport de drift de données\n",
    "report = Report(metrics=[DataDriftPreset()])"
   ]
  },
  {
   "cell_type": "code",
   "execution_count": 16,
   "metadata": {},
   "outputs": [],
   "source": [
    "\n",
    "report.run(current_data=test_data, reference_data=train_data)\n",
    "\n"
   ]
  },
  {
   "cell_type": "code",
   "execution_count": 17,
   "metadata": {},
   "outputs": [],
   "source": [
    "# Générer un rapport HTML\n",
    "report.save_html(\"data_drift_report.html\")\n"
   ]
  },
  {
   "cell_type": "code",
   "execution_count": 25,
   "metadata": {},
   "outputs": [
    {
     "name": "stdout",
     "output_type": "stream",
     "text": [
      "['__abstractmethods__', '__annotations__', '__class__', '__delattr__', '__dict__', '__dir__', '__doc__', '__eq__', '__format__', '__ge__', '__getattribute__', '__getstate__', '__gt__', '__hash__', '__init__', '__init_subclass__', '__le__', '__lt__', '__module__', '__ne__', '__new__', '__reduce__', '__reduce_ex__', '__repr__', '__setattr__', '__sizeof__', '__slots__', '__str__', '__subclasshook__', '__weakref__', '_abc_impl', '_build_dashboard_info', '_first_level_metrics', '_get_json_content', '_get_snapshot', '_inner_suite', '_parse_snapshot', '_render', '_repr_html_', '_timestamp', 'as_dataframe', 'as_dict', 'datasets', 'get_column_mapping', 'get_html', 'has_descriptors', 'id', 'json', 'load', 'metadata', 'metrics', 'name', 'options', 'run', 'save', 'save_html', 'save_json', 'set_batch_size', 'set_dataset_id', 'set_model_id', 'set_reference_id', 'show', 'tags', 'timestamp', 'to_snapshot']\n"
     ]
    }
   ],
   "source": [
    "\n",
    "print(dir(report))  # Affiche les méthodes et attributs de l'objet\n",
    "\n"
   ]
  }
 ],
 "metadata": {
  "kernelspec": {
   "display_name": "Python 3",
   "language": "python",
   "name": "python3"
  },
  "language_info": {
   "codemirror_mode": {
    "name": "ipython",
    "version": 3
   },
   "file_extension": ".py",
   "mimetype": "text/x-python",
   "name": "python",
   "nbconvert_exporter": "python",
   "pygments_lexer": "ipython3",
   "version": "3.11.3"
  }
 },
 "nbformat": 4,
 "nbformat_minor": 2
}
