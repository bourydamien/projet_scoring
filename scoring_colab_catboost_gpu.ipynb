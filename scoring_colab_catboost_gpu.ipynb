{
  "cells": [
    {
      "cell_type": "markdown",
      "metadata": {
        "id": "view-in-github",
        "colab_type": "text"
      },
      "source": [
        "<a href=\"https://colab.research.google.com/github/bourydamien/projet_scoring/blob/master/scoring_colab_catboost_gpu.ipynb\" target=\"_parent\"><img src=\"https://colab.research.google.com/assets/colab-badge.svg\" alt=\"Open In Colab\"/></a>"
      ]
    },
    {
      "cell_type": "code",
      "execution_count": null,
      "metadata": {
        "id": "q7vGSM8CGoOJ"
      },
      "outputs": [],
      "source": []
    },
    {
      "cell_type": "markdown",
      "metadata": {
        "id": "5oM3oaIKPsOV"
      },
      "source": [
        "Installation des requirements stockés sur mon dépot git"
      ]
    },
    {
      "cell_type": "code",
      "execution_count": 1,
      "metadata": {
        "id": "ep05DuayLByj"
      },
      "outputs": [],
      "source": [
        "import subprocess\n",
        "\n",
        "def install_requirements_from_github(url):\n",
        "    # Télécharger le fichier requirements.txt depuis GitHub\n",
        "    subprocess.run(['curl', '-o', 'requirements.txt', url])\n",
        "\n",
        "    # Installer les bibliothèques listées dans requirements.txt\n",
        "    subprocess.run(['pip', 'install', '-r', 'requirements.txt'])\n",
        "\n",
        "# URL du fichier requirements.txt sur GitHub\n",
        "requirements_url = 'https://raw.githubusercontent.com/bourydamien/projet_scoring/master/requirements.txt'\n",
        "\n",
        "# Appeler la fonction pour installer les bibliothèques\n",
        "install_requirements_from_github(requirements_url)\n",
        "\n"
      ]
    },
    {
      "cell_type": "markdown",
      "metadata": {
        "id": "z8povVytPy8f"
      },
      "source": [
        "imports des fonctions installées"
      ]
    },
    {
      "cell_type": "code",
      "execution_count": 2,
      "metadata": {
        "id": "qrkPYOBXDm7x"
      },
      "outputs": [],
      "source": [
        "import numpy as np\n",
        "import pandas as pd\n",
        "import glob\n",
        "import optuna\n",
        "\n",
        "# Suppress warnings\n",
        "import warnings\n",
        "warnings.filterwarnings('ignore')\n",
        "\n",
        "# matplotlib and seaborn for plotting\n",
        "import matplotlib.pyplot as plt\n",
        "import seaborn as sns\n",
        "\n",
        "from catboost import CatBoostClassifier, Pool, utils\n",
        "\n",
        "from sklearn.model_selection import KFold\n",
        "from sklearn.metrics import roc_auc_score\n",
        "import mlflow\n",
        "import mlflow.sklearn\n",
        "import gc\n",
        "import pandas as pd\n",
        "from sklearn.preprocessing import LabelEncoder\n",
        "from sklearn.preprocessing import StandardScaler\n",
        "import gdown\n",
        "import numpy as np\n",
        "import pandas as pd\n",
        "from scipy.stats import boxcox\n",
        "from scipy.stats import skew\n",
        "from google.colab import drive\n",
        "import catboost\n",
        "from catboost.utils import get_gpu_device_count\n",
        "import os\n",
        "import pickle\n",
        "import joblib\n",
        "from datetime import datetime\n",
        "import json\n",
        "\n",
        "\n",
        "from catboost.utils import get_gpu_device_count"
      ]
    },
    {
      "cell_type": "markdown",
      "metadata": {
        "id": "kLE7qhQpAEhR"
      },
      "source": [
        "Chemin ou je dois enregistrer les modeles sur le drive"
      ]
    },
    {
      "cell_type": "code",
      "execution_count": 3,
      "metadata": {
        "colab": {
          "base_uri": "https://localhost:8080/"
        },
        "id": "UJTWqu_18zuB",
        "outputId": "2cd1382a-0230-418f-a064-564d921db131"
      },
      "outputs": [
        {
          "output_type": "stream",
          "name": "stdout",
          "text": [
            "Mounted at /content/drive\n"
          ]
        }
      ],
      "source": [
        "drive.mount('/content/drive')"
      ]
    },
    {
      "cell_type": "code",
      "execution_count": 4,
      "metadata": {
        "id": "xrLz8ROh9Syd"
      },
      "outputs": [],
      "source": [
        "\n",
        "scoring_folder = '/content/drive/MyDrive/Colab Notebooks/data_scoring'\n",
        "\n",
        "# Créer un sous-dossier avec la date et l'heure\n",
        "timestamp = datetime.now().strftime(\"%Y%m%d_%H%M%S\")\n",
        "model_folder = f'{scoring_folder}/model_{timestamp}'\n",
        "os.makedirs(model_folder, exist_ok=True)\n"
      ]
    },
    {
      "cell_type": "markdown",
      "metadata": {
        "id": "S_MYtceRP74X"
      },
      "source": [
        "chargement des fichiers d'entrainements et de test. ( Pour plus de facilité, je les aient stockés sur le drive google)"
      ]
    },
    {
      "cell_type": "code",
      "execution_count": 5,
      "metadata": {
        "colab": {
          "base_uri": "https://localhost:8080/"
        },
        "id": "3HLY6MbAOeZ2",
        "outputId": "0c4313c2-df99-4444-b3c7-99cbb67ca534"
      },
      "outputs": [
        {
          "output_type": "stream",
          "name": "stderr",
          "text": [
            "Downloading...\n",
            "From (original): https://drive.google.com/uc?id=1oElrtY8GECJGLFpcB8-P5H5nwTvfhcYk\n",
            "From (redirected): https://drive.google.com/uc?id=1oElrtY8GECJGLFpcB8-P5H5nwTvfhcYk&confirm=t&uuid=5034e1a1-6f3d-4309-a477-f6057308b005\n",
            "To: /content/train_data.csv\n",
            "100%|██████████| 166M/166M [00:04<00:00, 41.4MB/s]\n",
            "Downloading...\n",
            "From: https://drive.google.com/uc?id=1OnzEHhlJqNASnP1FHiHPnb2554agP9cZ\n",
            "To: /content/test_data.csv\n",
            "100%|██████████| 26.6M/26.6M [00:00<00:00, 32.1MB/s]\n"
          ]
        }
      ],
      "source": [
        "def download_data():\n",
        "    # URLs des fichiers sur Google Drive\n",
        "    train_url = 'https://drive.google.com/uc?id=1oElrtY8GECJGLFpcB8-P5H5nwTvfhcYk'\n",
        "    test_url = 'https://drive.google.com/uc?id=1OnzEHhlJqNASnP1FHiHPnb2554agP9cZ'\n",
        "\n",
        "    # Chemins de sauvegarde locaux\n",
        "    train_output = 'train_data.csv'\n",
        "    test_output = 'test_data.csv'\n",
        "\n",
        "    # Télécharger les fichiers\n",
        "    gdown.download(train_url, train_output, quiet=False)\n",
        "    gdown.download(test_url, test_output, quiet=False)\n",
        "\n",
        "# Appeler la fonction pour télécharger les données\n",
        "download_data()\n"
      ]
    },
    {
      "cell_type": "markdown",
      "metadata": {
        "id": "PpwvuTxWQIDp"
      },
      "source": [
        "Chargement des données en dataframe"
      ]
    },
    {
      "cell_type": "code",
      "execution_count": 6,
      "metadata": {
        "colab": {
          "base_uri": "https://localhost:8080/"
        },
        "id": "L21Ksw5xOyTA",
        "outputId": "814cbe45-0318-4d11-b3b2-a7361075d914"
      },
      "outputs": [
        {
          "output_type": "stream",
          "name": "stdout",
          "text": [
            "Training data shape:  (307511, 122)\n",
            "Testing data shape:  (48744, 121)\n"
          ]
        }
      ],
      "source": [
        "#importation des données de train\n",
        "app_train = pd.read_csv('/content/train_data.csv')\n",
        "print('Training data shape: ', app_train.shape)\n",
        "# Testing data features\n",
        "app_test = pd.read_csv('/content/test_data.csv')\n",
        "print('Testing data shape: ', app_test.shape)\n"
      ]
    },
    {
      "cell_type": "markdown",
      "metadata": {
        "id": "s2r724TQQdx2"
      },
      "source": [
        "Feature engeneering et correction des anomalies"
      ]
    },
    {
      "cell_type": "code",
      "execution_count": 7,
      "metadata": {
        "id": "0y0US_KCPmL0"
      },
      "outputs": [],
      "source": [
        "def add_domain_features_with_anomaly(train_df, test_df):\n",
        "    \"\"\"\n",
        "    Ajoute une colonne d'anomalie pour 'DAYS_EMPLOYED' et remplace les valeurs anormales,\n",
        "    puis applique les transformations sur les DataFrames de train et de test.\n",
        "\n",
        "    Args:\n",
        "        train_df (pd.DataFrame): Le DataFrame d'entraînement.\n",
        "        test_df (pd.DataFrame): Le DataFrame de test.\n",
        "\n",
        "    Returns:\n",
        "        train_df (pd.DataFrame): Le DataFrame d'entraînement avec les modifications.\n",
        "        test_df (pd.DataFrame): Le DataFrame de test avec les modifications.\n",
        "    \"\"\"\n",
        "\n",
        "    # Ajouter une colonne 'DAYS_EMPLOYED_ANOM' (anomalie) et remplacer 365243 par NaN\n",
        "    for df in [train_df, test_df]:\n",
        "        df['DAYS_EMPLOYED_ANOM'] = df[\"DAYS_EMPLOYED\"] == 365243\n",
        "        df['DAYS_EMPLOYED'].replace({365243: np.nan}, inplace=True)\n",
        "\n",
        "        # Ajouter les colonnes dérivées\n",
        "        df['CREDIT_INCOME_PERCENT'] = df['AMT_CREDIT'] / df['AMT_INCOME_TOTAL']\n",
        "        df['ANNUITY_INCOME_PERCENT'] = df['AMT_ANNUITY'] / df['AMT_INCOME_TOTAL']\n",
        "        df['CREDIT_TERM'] = df['AMT_ANNUITY'] / df['AMT_CREDIT']\n",
        "        df['DAYS_EMPLOYED_PERCENT'] = df['DAYS_EMPLOYED'] / df['DAYS_BIRTH']\n",
        "    print(\"Nouvelles colonnes ajoutées et anomalies corrigées\")\n",
        "\n",
        "    return train_df, test_df"
      ]
    },
    {
      "cell_type": "code",
      "execution_count": 8,
      "metadata": {
        "colab": {
          "base_uri": "https://localhost:8080/"
        },
        "id": "LKrQCtGpQoIt",
        "outputId": "cf9e79c2-f7d0-44ba-a234-7ca09b860bd4"
      },
      "outputs": [
        {
          "output_type": "stream",
          "name": "stdout",
          "text": [
            "Nouvelles colonnes ajoutées et anomalies corrigées\n"
          ]
        }
      ],
      "source": [
        "app_train, app_test = add_domain_features_with_anomaly(app_train,app_test)"
      ]
    },
    {
      "cell_type": "code",
      "execution_count": 9,
      "metadata": {
        "colab": {
          "base_uri": "https://localhost:8080/"
        },
        "id": "oR62kBh0Qwl8",
        "outputId": "2b0986db-7789-4ab4-e2f7-7ccbdd4b8911"
      },
      "outputs": [
        {
          "output_type": "execute_result",
          "data": {
            "text/plain": [
              "{'TARGET'}"
            ]
          },
          "metadata": {},
          "execution_count": 9
        }
      ],
      "source": [
        "set(app_train.columns)-set(app_test.columns)"
      ]
    },
    {
      "cell_type": "markdown",
      "metadata": {
        "id": "sAAd2WYMRTG0"
      },
      "source": [
        "Encodage des variables catégorielles"
      ]
    },
    {
      "cell_type": "code",
      "execution_count": 10,
      "metadata": {
        "id": "zDMmf_J3RWne"
      },
      "outputs": [],
      "source": [
        "def encode_categorical_variables(train_data, test_data, target_column, model_folder):\n",
        "    \"\"\"\n",
        "    Encode les variables catégorielles en deux étapes :\n",
        "    1. Utilise Label Encoding pour les colonnes avec 2 catégories ou moins.\n",
        "    2. Utilise One-Hot Encoding pour toutes les autres variables catégorielles.\n",
        "    Puis aligne les colonnes des jeux de données et réinsère la variable cible.\n",
        "\n",
        "    Les objets utilisés pour l'encodage (LabelEncoder, colonnes One-Hot) sont enregistrés dans `model_folder`.\n",
        "\n",
        "    :param train_data: DataFrame des données d'entraînement\n",
        "    :param test_data: DataFrame des données de test\n",
        "    :param target_column: Nom de la colonne cible dans les données d'entraînement\n",
        "    :param model_folder: Dossier où enregistrer les objets d'encodage\n",
        "    :return: DataFrames transformés (train_data, test_data)\n",
        "    \"\"\"\n",
        "\n",
        "    # Extraire la variable cible\n",
        "    train_labels = train_data[target_column]\n",
        "\n",
        "    # Initialiser le label encoder\n",
        "    le = LabelEncoder()\n",
        "    le_count = 0\n",
        "    label_encoded_columns = []\n",
        "\n",
        "    # Appliquer le Label Encoding pour les colonnes avec 2 catégories ou moins\n",
        "    for col in train_data:\n",
        "        if train_data[col].dtype == 'object':\n",
        "            # Si 2 catégories ou moins\n",
        "            if len(list(train_data[col].unique())) <= 2:\n",
        "                # Entraîner le label encoder sur les données d'entraînement\n",
        "                le.fit(train_data[col])\n",
        "                # Transformer les colonnes d'entraînement et de test\n",
        "                train_data[col] = le.transform(train_data[col])\n",
        "                test_data[col] = le.transform(test_data[col])\n",
        "\n",
        "                le_count += 1\n",
        "                label_encoded_columns.append(col)\n",
        "\n",
        "    print(f'{le_count} colonnes ont été label encodées.')\n",
        "\n",
        "    # Si des colonnes ont été label encodées, enregistrer le LabelEncoder\n",
        "    if label_encoded_columns:\n",
        "        with open(os.path.join(model_folder, 'label_encoder.pkl'), 'wb') as f:\n",
        "            pickle.dump(le, f)\n",
        "\n",
        "        # Enregistrer la liste des colonnes label encodées\n",
        "        with open(os.path.join(model_folder, 'label_encoded_columns.pkl'), 'wb') as f:\n",
        "            pickle.dump(label_encoded_columns, f)\n",
        "\n",
        "    # Appliquer le One-Hot Encoding sur toutes les autres colonnes catégorielles\n",
        "    train_data = pd.get_dummies(train_data)\n",
        "    test_data = pd.get_dummies(test_data)\n",
        "\n",
        "    # Enregistrer les colonnes utilisées pour le One-Hot Encoding\n",
        "    with open(os.path.join(model_folder, 'one_hot_columns.pkl'), 'wb') as f:\n",
        "        pickle.dump(train_data.columns.tolist(), f)\n",
        "\n",
        "    # Aligner les colonnes des jeux de données d'entraînement et de test\n",
        "    train_data, test_data = train_data.align(test_data, join='inner', axis=1)\n",
        "\n",
        "    # Réinsérer la colonne cible dans le jeu d'entraînement\n",
        "    train_data[target_column] = train_labels\n",
        "\n",
        "    print('Forme des données d\\'entraînement après One-Hot Encoding et alignement: ', train_data.shape)\n",
        "    print('Forme des données de test après One-Hot Encoding et alignement: ', test_data.shape)\n",
        "\n",
        "    return train_data, test_data\n",
        "\n"
      ]
    },
    {
      "cell_type": "code",
      "execution_count": 11,
      "metadata": {
        "colab": {
          "base_uri": "https://localhost:8080/"
        },
        "id": "J5eZbQW0Riud",
        "outputId": "6ba0eeff-e65e-42df-cd88-4b545ff83624"
      },
      "outputs": [
        {
          "output_type": "stream",
          "name": "stdout",
          "text": [
            "3 colonnes ont été label encodées.\n",
            "Forme des données d'entraînement après One-Hot Encoding et alignement:  (307511, 245)\n",
            "Forme des données de test après One-Hot Encoding et alignement:  (48744, 244)\n"
          ]
        }
      ],
      "source": [
        "app_train , app_test = encode_categorical_variables(app_train, app_test, \"TARGET\", model_folder)"
      ]
    },
    {
      "cell_type": "markdown",
      "metadata": {
        "id": "pMr01y5fR8nu"
      },
      "source": [
        "Transformation mathématique des colonnes avec un boxcox si les données sont asymétriques"
      ]
    },
    {
      "cell_type": "code",
      "execution_count": 12,
      "metadata": {
        "id": "kwvzLhHfSLyr"
      },
      "outputs": [],
      "source": [
        "def apply_boxcox_transformation(train_data, test_data, skew_threshold=0.75, save_path=model_folder):\n",
        "    \"\"\"\n",
        "    Applique la transformation Box-Cox sur les colonnes numériques du DataFrame qui sont asymétriques (skewed)\n",
        "    dans les jeux d'entraînement et de test, et enregistre les informations utiles (colonnes transformées et lambdas).\n",
        "\n",
        "    :param train_data: DataFrame d'entraînement\n",
        "    :param test_data: DataFrame de test\n",
        "    :param skew_threshold: Seuil de skewness pour décider de l'application de la transformation Box-Cox\n",
        "    :param save_path: Chemin où enregistrer les informations du modèle (colonnes et lambdas)\n",
        "    :return: DataFrames transformés (train_data, test_data) et liste des colonnes transformées avec lambda\n",
        "    \"\"\"\n",
        "\n",
        "    # Sélectionner les colonnes numériques dans les deux datasets\n",
        "    numeric_cols = train_data.select_dtypes(include=[np.number]).columns\n",
        "\n",
        "    # Initialiser une liste pour garder la trace des colonnes transformées\n",
        "    transformed_cols = []\n",
        "    lambda_params = {}\n",
        "\n",
        "    # Appliquer la transformation sur chaque colonne numérique\n",
        "    for col in numeric_cols:\n",
        "        # Vérifier que toutes les valeurs dans les deux jeux de données sont strictement positives\n",
        "        if (train_data[col] > 0).all() and (test_data[col] > 0).all():\n",
        "            # Calculer la skewness sur le jeu d'entraînement\n",
        "            col_skew = skew(train_data[col])\n",
        "\n",
        "            # Appliquer Box-Cox si l'asymétrie dépasse le seuil\n",
        "            if abs(col_skew) > skew_threshold:\n",
        "                # Appliquer la transformation Box-Cox sur le jeu d'entraînement\n",
        "                train_data[col], fitted_lambda = boxcox(train_data[col])\n",
        "\n",
        "                # Appliquer la transformation Box-Cox sur le jeu de test avec le même lambda\n",
        "                test_data[col] = boxcox(test_data[col], lmbda=fitted_lambda)\n",
        "\n",
        "                # Ajouter la colonne transformée et le lambda à la liste\n",
        "                transformed_cols.append(col)\n",
        "                lambda_params[col] = fitted_lambda\n",
        "\n",
        "    # Afficher les colonnes transformées et les paramètres lambda utilisés\n",
        "    print(f\"Colonnes transformées avec Box-Cox : {transformed_cols}\")\n",
        "    print(f\"Paramètres lambda utilisés : {lambda_params}\")\n",
        "\n",
        "    # Sauvegarder les colonnes transformées et les paramètres lambda dans des fichiers JSON\n",
        "    with open(f'{save_path}/transformed_columns.json', 'w') as f:\n",
        "        json.dump(transformed_cols, f)\n",
        "\n",
        "    with open(f'{save_path}/lambda_params.json', 'w') as f:\n",
        "        json.dump(lambda_params, f)\n",
        "\n",
        "    return train_data, test_data, transformed_cols, lambda_params"
      ]
    },
    {
      "cell_type": "code",
      "execution_count": 13,
      "metadata": {
        "colab": {
          "base_uri": "https://localhost:8080/"
        },
        "id": "LFjVlwJ5ST9u",
        "outputId": "1af32bdc-471c-4f42-cb7e-1bbc593fc0ab"
      },
      "outputs": [
        {
          "output_type": "stream",
          "name": "stdout",
          "text": [
            "Colonnes transformées avec Box-Cox : ['AMT_INCOME_TOTAL', 'AMT_CREDIT', 'REGION_POPULATION_RELATIVE', 'CREDIT_INCOME_PERCENT']\n",
            "Paramètres lambda utilisés : {'AMT_INCOME_TOTAL': -0.09313337743754035, 'AMT_CREDIT': 0.1920818791540177, 'REGION_POPULATION_RELATIVE': 0.26957000753727645, 'CREDIT_INCOME_PERCENT': 0.1355584126403995}\n"
          ]
        }
      ],
      "source": [
        "train_data, test_data, transformed_cols, lambda_params = apply_boxcox_transformation(app_train,app_test, save_path=model_folder)"
      ]
    },
    {
      "cell_type": "markdown",
      "metadata": {
        "id": "q7a0M0-2SdyB"
      },
      "source": [
        "Normalisation des données"
      ]
    },
    {
      "cell_type": "code",
      "execution_count": 14,
      "metadata": {
        "id": "r_6xxff0SgN-"
      },
      "outputs": [],
      "source": [
        "import pandas as pd\n",
        "from sklearn.preprocessing import StandardScaler\n",
        "import joblib\n",
        "\n",
        "def normalize_train_test(train_data, test_data, save_path=model_folder):\n",
        "    \"\"\"\n",
        "    Normalise les données d'entraînement et de test en ajustant le scaler sur les données d'entraînement\n",
        "    et enregistre les paramètres de standardisation pour réutilisation dans le pipeline d'inférence.\n",
        "\n",
        "    :param train_data: DataFrame d'entraînement\n",
        "    :param test_data: DataFrame de test\n",
        "    :param save_path: Chemin où enregistrer le scaler et les informations de normalisation\n",
        "    :return: DataFrames normalisés (train_features_scaled, test_features_scaled)\n",
        "    \"\"\"\n",
        "\n",
        "    # Séparer la colonne TARGET des données d'entraînement\n",
        "    train_target = train_data['TARGET']\n",
        "    train_features = train_data.drop(columns=['TARGET'])\n",
        "\n",
        "    # Initialiser le scaler\n",
        "    scaler = StandardScaler()\n",
        "\n",
        "    # Ajuster le scaler sur les données d'entraînement et transformer les données d'entraînement\n",
        "    train_features_scaled = scaler.fit_transform(train_features)\n",
        "\n",
        "    # Transformer les données de test\n",
        "    test_features_scaled = scaler.transform(test_data)\n",
        "\n",
        "    # Convertir les données normalisées en DataFrame\n",
        "    train_features_scaled = pd.DataFrame(train_features_scaled, columns=train_features.columns)\n",
        "    test_features_scaled = pd.DataFrame(test_features_scaled, columns=test_data.columns)\n",
        "\n",
        "    # Ajouter la colonne TARGET aux données d'entraînement normalisées\n",
        "    train_features_scaled['TARGET'] = train_target.values\n",
        "\n",
        "    # Sauvegarder le scaler pour réutilisation\n",
        "    scaler_path = f'{save_path}/scaler.pkl'\n",
        "    joblib.dump(scaler, scaler_path)\n",
        "    print(f\"Scaler sauvegardé à : {scaler_path}\")\n",
        "\n",
        "    return train_features_scaled, test_features_scaled\n",
        "\n",
        "\n",
        "\n"
      ]
    },
    {
      "cell_type": "code",
      "execution_count": 15,
      "metadata": {
        "colab": {
          "base_uri": "https://localhost:8080/"
        },
        "id": "98bNotvRSnkW",
        "outputId": "0bb236b5-21a1-4612-ddb4-106aaf2e4fef"
      },
      "outputs": [
        {
          "output_type": "stream",
          "name": "stdout",
          "text": [
            "Scaler sauvegardé à : /content/drive/MyDrive/Colab Notebooks/data_scoring/model_20240917_193333/scaler.pkl\n"
          ]
        }
      ],
      "source": [
        "app_train , app_test = normalize_train_test(train_data,test_data, save_path=model_folder)"
      ]
    },
    {
      "cell_type": "markdown",
      "metadata": {
        "id": "UTLeuJmSWoiK"
      },
      "source": [
        "Entrainement du modèle"
      ]
    },
    {
      "cell_type": "code",
      "execution_count": 16,
      "metadata": {
        "colab": {
          "base_uri": "https://localhost:8080/"
        },
        "id": "b9YE4RUTXq-_",
        "outputId": "3caceef1-8f3c-4f01-afbe-09a53154c58d"
      },
      "outputs": [
        {
          "output_type": "stream",
          "name": "stdout",
          "text": [
            "List of categorical features: []\n"
          ]
        }
      ],
      "source": [
        "categorical_features = app_train.select_dtypes(include=['object', 'category']).columns.tolist()\n",
        "print('List of categorical features:', categorical_features)"
      ]
    },
    {
      "cell_type": "code",
      "execution_count": 17,
      "metadata": {
        "id": "KkDvkr0mWift"
      },
      "outputs": [],
      "source": [
        "\n",
        "def catboost_model_with_mlflow_optimise(features, test_features, cat_features, n_folds=5, save_path=model_folder):\n",
        "    \"\"\"\n",
        "    Entraîne et teste un modèle CatBoost en utilisant la validation croisée avec suivi MLflow et optimisation Optuna.\n",
        "    Enregistre le modèle, les importances des caractéristiques et les métriques dans un dossier.\n",
        "\n",
        "    Paramètres\n",
        "    ----------\n",
        "    features (pd.DataFrame): DataFrame des caractéristiques d'entraînement avec la colonne TARGET.\n",
        "    test_features (pd.DataFrame): DataFrame des caractéristiques de test.\n",
        "    cat_features (list): Liste des noms des caractéristiques catégorielles.\n",
        "    n_folds (int, optionnel): Nombre de plis à utiliser pour la validation croisée (défaut: 5).\n",
        "    save_path (str, optionnel): Dossier dans lequel enregistrer le modèle et les informations.\n",
        "\n",
        "    Retourne\n",
        "    -------\n",
        "    submission (pd.DataFrame): Prédictions sur les données de test.\n",
        "    feature_importances (pd.DataFrame): Importances des caractéristiques du modèle.\n",
        "    metrics (pd.DataFrame): Métriques AUC de validation et d'entraînement pour chaque pli.\n",
        "    \"\"\"\n",
        "\n",
        "    # Créer le dossier de sauvegarde s'il n'existe pas\n",
        "    os.makedirs(save_path, exist_ok=True)\n",
        "\n",
        "    # Extraire les identifiants\n",
        "    train_ids = features['SK_ID_CURR']\n",
        "    test_ids = test_features['SK_ID_CURR']\n",
        "\n",
        "    # Extraire les étiquettes pour l'entraînement\n",
        "    labels = features['TARGET']\n",
        "\n",
        "    # Supprimer les identifiants et la cible\n",
        "    features = features.drop(columns=['SK_ID_CURR', 'TARGET'])\n",
        "    test_features = test_features.drop(columns=['SK_ID_CURR'])\n",
        "\n",
        "    # Remplacer les valeurs NaN dans les caractéristiques catégorielles par 'missing'\n",
        "    for cat_feature in cat_features:\n",
        "        features[cat_feature].fillna('missing', inplace=True)\n",
        "        test_features[cat_feature].fillna('missing', inplace=True)\n",
        "\n",
        "    def objective(trial):\n",
        "        \"\"\"Fonction objectif pour l'optimisation Optuna.\"\"\"\n",
        "        model = CatBoostClassifier(\n",
        "            iterations=trial.suggest_int('iterations', 5000, 10000),\n",
        "            learning_rate=trial.suggest_loguniform('learning_rate', 0.01, 0.1),\n",
        "            depth=trial.suggest_int('depth', 4, 10),\n",
        "            l2_leaf_reg=trial.suggest_loguniform('l2_leaf_reg', 1, 10),\n",
        "            loss_function='Logloss',\n",
        "            eval_metric='AUC',\n",
        "            random_seed=50,\n",
        "            cat_features=cat_features,\n",
        "            logging_level='Silent',\n",
        "            early_stopping_rounds=100,\n",
        "            task_type='GPU' if get_gpu_device_count() > 0 else 'CPU'\n",
        "        )\n",
        "\n",
        "        out_of_fold = np.zeros(features.shape[0])\n",
        "        valid_scores = []\n",
        "        train_scores = []\n",
        "\n",
        "        k_fold = KFold(n_splits=n_folds, shuffle=True, random_state=50)\n",
        "\n",
        "        for fold, (train_indices, valid_indices) in enumerate(k_fold.split(features)):\n",
        "            print(f\"Entraînement du pli {fold+1}/{n_folds}...\")\n",
        "\n",
        "            train_features, train_labels = features.iloc[train_indices], labels.iloc[train_indices]\n",
        "            valid_features, valid_labels = features.iloc[valid_indices], labels.iloc[valid_indices]\n",
        "\n",
        "            model.fit(\n",
        "                train_features, train_labels,\n",
        "                eval_set=(valid_features, valid_labels),\n",
        "                use_best_model=True\n",
        "            )\n",
        "\n",
        "            out_of_fold[valid_indices] = model.predict_proba(valid_features)[:, 1]\n",
        "\n",
        "            valid_auc = roc_auc_score(valid_labels, out_of_fold[valid_indices])\n",
        "            train_auc = roc_auc_score(train_labels, model.predict_proba(train_features)[:, 1])\n",
        "            valid_scores.append(valid_auc)\n",
        "            train_scores.append(train_auc)\n",
        "\n",
        "        overall_valid_auc = roc_auc_score(labels, out_of_fold)\n",
        "        mean_train_auc = np.mean(train_scores)\n",
        "\n",
        "        return overall_valid_auc\n",
        "\n",
        "    # Exécuter l'optimisation Optuna\n",
        "    study = optuna.create_study(direction='maximize')\n",
        "    study.optimize(objective, n_trials=10)\n",
        "\n",
        "    # Meilleurs paramètres trouvés\n",
        "    best_params = study.best_params\n",
        "    print(f\"Meilleurs paramètres trouvés : {best_params}\")\n",
        "\n",
        "    # Entraîner le modèle final avec les meilleurs paramètres\n",
        "    model = CatBoostClassifier(\n",
        "        **best_params,\n",
        "        loss_function='Logloss',\n",
        "        eval_metric='AUC',\n",
        "        random_seed=50,\n",
        "        cat_features=cat_features,\n",
        "        logging_level='Silent',\n",
        "        early_stopping_rounds=100,\n",
        "        task_type='GPU' if get_gpu_device_count() > 0 else 'CPU'\n",
        "    )\n",
        "\n",
        "    out_of_fold = np.zeros(features.shape[0])\n",
        "    valid_scores = []\n",
        "    train_scores = []\n",
        "    feature_importances = pd.DataFrame()\n",
        "\n",
        "    k_fold = KFold(n_splits=n_folds, shuffle=True, random_state=50)\n",
        "\n",
        "    for fold, (train_indices, valid_indices) in enumerate(k_fold.split(features)):\n",
        "        print(f\"Entraînement du pli {fold+1}/{n_folds}...\")\n",
        "\n",
        "        train_features, train_labels = features.iloc[train_indices], labels.iloc[train_indices]\n",
        "        valid_features, valid_labels = features.iloc[valid_indices], labels.iloc[valid_indices]\n",
        "\n",
        "        model.fit(\n",
        "            train_features, train_labels,\n",
        "            eval_set=(valid_features, valid_labels),\n",
        "            use_best_model=True\n",
        "        )\n",
        "\n",
        "        out_of_fold[valid_indices] = model.predict_proba(valid_features)[:, 1]\n",
        "\n",
        "        valid_auc = roc_auc_score(valid_labels, out_of_fold[valid_indices])\n",
        "        train_auc = roc_auc_score(train_labels, model.predict_proba(train_features)[:, 1])\n",
        "        valid_scores.append(valid_auc)\n",
        "        train_scores.append(train_auc)\n",
        "\n",
        "        # Stocker les importances des caractéristiques\n",
        "        fold_importances = pd.DataFrame()\n",
        "        fold_importances['feature'] = features.columns\n",
        "        fold_importances['importance'] = model.get_feature_importance()\n",
        "        fold_importances['fold'] = fold + 1\n",
        "        feature_importances = pd.concat([feature_importances, fold_importances], axis=0)\n",
        "\n",
        "    overall_valid_auc = roc_auc_score(labels, out_of_fold)\n",
        "    mean_train_auc = np.mean(train_scores)\n",
        "\n",
        "    test_predictions = model.predict_proba(test_features)[:, 1]\n",
        "    submission = pd.DataFrame({'SK_ID_CURR': test_ids, 'TARGET': test_predictions})\n",
        "\n",
        "    metrics = pd.DataFrame({\n",
        "        'fold': list(range(1, n_folds + 1)),\n",
        "        'train_auc': train_scores,\n",
        "        'valid_auc': valid_scores\n",
        "    })\n",
        "\n",
        "    # Sauvegarder le modèle, les FI et les métriques\n",
        "    model_path = f'{save_path}/best_model.cbm'\n",
        "    model.save_model(model_path)\n",
        "    print(f\"Modèle CatBoost sauvegardé à : {model_path}\")\n",
        "\n",
        "    feature_importances_path = f'{save_path}/feature_importances.csv'\n",
        "    feature_importances.to_csv(feature_importances_path, index=False)\n",
        "    print(f\"Importances des caractéristiques sauvegardées à : {feature_importances_path}\")\n",
        "\n",
        "    metrics_path = f'{save_path}/metrics.csv'\n",
        "    metrics.to_csv(metrics_path, index=False)\n",
        "    print(f\"Métriques sauvegardées à : {metrics_path}\")\n",
        "\n",
        "    return submission, feature_importances, metrics\n",
        "\n",
        "\n",
        "\n"
      ]
    },
    {
      "cell_type": "code",
      "execution_count": 18,
      "metadata": {
        "id": "CYezl6wLYea9"
      },
      "outputs": [],
      "source": [
        "import catboost\n",
        "from catboost.utils import get_gpu_device_count\n"
      ]
    },
    {
      "cell_type": "code",
      "execution_count": 19,
      "metadata": {
        "colab": {
          "base_uri": "https://localhost:8080/"
        },
        "id": "jv6I2wHgXHLE",
        "outputId": "c2f95f99-8207-4844-ce7d-d2504dbe3e2d"
      },
      "outputs": [
        {
          "output_type": "stream",
          "name": "stderr",
          "text": [
            "[I 2024-09-17 19:34:04,363] A new study created in memory with name: no-name-84f1ef7b-dc8a-4ad6-9d83-58f08160861e\n"
          ]
        },
        {
          "output_type": "stream",
          "name": "stdout",
          "text": [
            "Entraînement du pli 1/5...\n"
          ]
        },
        {
          "output_type": "stream",
          "name": "stderr",
          "text": [
            "Default metric period is 5 because AUC is/are not implemented for GPU\n"
          ]
        },
        {
          "output_type": "stream",
          "name": "stdout",
          "text": [
            "Entraînement du pli 2/5...\n"
          ]
        },
        {
          "output_type": "stream",
          "name": "stderr",
          "text": [
            "Default metric period is 5 because AUC is/are not implemented for GPU\n"
          ]
        },
        {
          "output_type": "stream",
          "name": "stdout",
          "text": [
            "Entraînement du pli 3/5...\n"
          ]
        },
        {
          "output_type": "stream",
          "name": "stderr",
          "text": [
            "Default metric period is 5 because AUC is/are not implemented for GPU\n"
          ]
        },
        {
          "output_type": "stream",
          "name": "stdout",
          "text": [
            "Entraînement du pli 4/5...\n"
          ]
        },
        {
          "output_type": "stream",
          "name": "stderr",
          "text": [
            "Default metric period is 5 because AUC is/are not implemented for GPU\n"
          ]
        },
        {
          "output_type": "stream",
          "name": "stdout",
          "text": [
            "Entraînement du pli 5/5...\n"
          ]
        },
        {
          "output_type": "stream",
          "name": "stderr",
          "text": [
            "Default metric period is 5 because AUC is/are not implemented for GPU\n",
            "[I 2024-09-17 19:35:49,784] Trial 0 finished with value: 0.7643744997233737 and parameters: {'iterations': 9028, 'learning_rate': 0.03556238706096957, 'depth': 10, 'l2_leaf_reg': 5.300346529646977}. Best is trial 0 with value: 0.7643744997233737.\n"
          ]
        },
        {
          "output_type": "stream",
          "name": "stdout",
          "text": [
            "Entraînement du pli 1/5...\n"
          ]
        },
        {
          "output_type": "stream",
          "name": "stderr",
          "text": [
            "Default metric period is 5 because AUC is/are not implemented for GPU\n"
          ]
        },
        {
          "output_type": "stream",
          "name": "stdout",
          "text": [
            "Entraînement du pli 2/5...\n"
          ]
        },
        {
          "output_type": "stream",
          "name": "stderr",
          "text": [
            "Default metric period is 5 because AUC is/are not implemented for GPU\n"
          ]
        },
        {
          "output_type": "stream",
          "name": "stdout",
          "text": [
            "Entraînement du pli 3/5...\n"
          ]
        },
        {
          "output_type": "stream",
          "name": "stderr",
          "text": [
            "Default metric period is 5 because AUC is/are not implemented for GPU\n"
          ]
        },
        {
          "output_type": "stream",
          "name": "stdout",
          "text": [
            "Entraînement du pli 4/5...\n"
          ]
        },
        {
          "output_type": "stream",
          "name": "stderr",
          "text": [
            "Default metric period is 5 because AUC is/are not implemented for GPU\n"
          ]
        },
        {
          "output_type": "stream",
          "name": "stdout",
          "text": [
            "Entraînement du pli 5/5...\n"
          ]
        },
        {
          "output_type": "stream",
          "name": "stderr",
          "text": [
            "Default metric period is 5 because AUC is/are not implemented for GPU\n",
            "[I 2024-09-17 19:37:53,530] Trial 1 finished with value: 0.767098126354423 and parameters: {'iterations': 7213, 'learning_rate': 0.02125445248089999, 'depth': 7, 'l2_leaf_reg': 3.1856411752210483}. Best is trial 1 with value: 0.767098126354423.\n"
          ]
        },
        {
          "output_type": "stream",
          "name": "stdout",
          "text": [
            "Entraînement du pli 1/5...\n"
          ]
        },
        {
          "output_type": "stream",
          "name": "stderr",
          "text": [
            "Default metric period is 5 because AUC is/are not implemented for GPU\n"
          ]
        },
        {
          "output_type": "stream",
          "name": "stdout",
          "text": [
            "Entraînement du pli 2/5...\n"
          ]
        },
        {
          "output_type": "stream",
          "name": "stderr",
          "text": [
            "Default metric period is 5 because AUC is/are not implemented for GPU\n"
          ]
        },
        {
          "output_type": "stream",
          "name": "stdout",
          "text": [
            "Entraînement du pli 3/5...\n"
          ]
        },
        {
          "output_type": "stream",
          "name": "stderr",
          "text": [
            "Default metric period is 5 because AUC is/are not implemented for GPU\n"
          ]
        },
        {
          "output_type": "stream",
          "name": "stdout",
          "text": [
            "Entraînement du pli 4/5...\n"
          ]
        },
        {
          "output_type": "stream",
          "name": "stderr",
          "text": [
            "Default metric period is 5 because AUC is/are not implemented for GPU\n"
          ]
        },
        {
          "output_type": "stream",
          "name": "stdout",
          "text": [
            "Entraînement du pli 5/5...\n"
          ]
        },
        {
          "output_type": "stream",
          "name": "stderr",
          "text": [
            "Default metric period is 5 because AUC is/are not implemented for GPU\n",
            "[I 2024-09-17 19:40:24,299] Trial 2 finished with value: 0.7651020418792395 and parameters: {'iterations': 7372, 'learning_rate': 0.022645538384989693, 'depth': 10, 'l2_leaf_reg': 6.363519001927335}. Best is trial 1 with value: 0.767098126354423.\n"
          ]
        },
        {
          "output_type": "stream",
          "name": "stdout",
          "text": [
            "Entraînement du pli 1/5...\n"
          ]
        },
        {
          "output_type": "stream",
          "name": "stderr",
          "text": [
            "Default metric period is 5 because AUC is/are not implemented for GPU\n"
          ]
        },
        {
          "output_type": "stream",
          "name": "stdout",
          "text": [
            "Entraînement du pli 2/5...\n"
          ]
        },
        {
          "output_type": "stream",
          "name": "stderr",
          "text": [
            "Default metric period is 5 because AUC is/are not implemented for GPU\n"
          ]
        },
        {
          "output_type": "stream",
          "name": "stdout",
          "text": [
            "Entraînement du pli 3/5...\n"
          ]
        },
        {
          "output_type": "stream",
          "name": "stderr",
          "text": [
            "Default metric period is 5 because AUC is/are not implemented for GPU\n"
          ]
        },
        {
          "output_type": "stream",
          "name": "stdout",
          "text": [
            "Entraînement du pli 4/5...\n"
          ]
        },
        {
          "output_type": "stream",
          "name": "stderr",
          "text": [
            "Default metric period is 5 because AUC is/are not implemented for GPU\n"
          ]
        },
        {
          "output_type": "stream",
          "name": "stdout",
          "text": [
            "Entraînement du pli 5/5...\n"
          ]
        },
        {
          "output_type": "stream",
          "name": "stderr",
          "text": [
            "Default metric period is 5 because AUC is/are not implemented for GPU\n",
            "[I 2024-09-17 19:42:25,973] Trial 3 finished with value: 0.7670622328680008 and parameters: {'iterations': 5404, 'learning_rate': 0.018903331541547563, 'depth': 5, 'l2_leaf_reg': 4.610260680955294}. Best is trial 1 with value: 0.767098126354423.\n"
          ]
        },
        {
          "output_type": "stream",
          "name": "stdout",
          "text": [
            "Entraînement du pli 1/5...\n"
          ]
        },
        {
          "output_type": "stream",
          "name": "stderr",
          "text": [
            "Default metric period is 5 because AUC is/are not implemented for GPU\n"
          ]
        },
        {
          "output_type": "stream",
          "name": "stdout",
          "text": [
            "Entraînement du pli 2/5...\n"
          ]
        },
        {
          "output_type": "stream",
          "name": "stderr",
          "text": [
            "Default metric period is 5 because AUC is/are not implemented for GPU\n"
          ]
        },
        {
          "output_type": "stream",
          "name": "stdout",
          "text": [
            "Entraînement du pli 3/5...\n"
          ]
        },
        {
          "output_type": "stream",
          "name": "stderr",
          "text": [
            "Default metric period is 5 because AUC is/are not implemented for GPU\n"
          ]
        },
        {
          "output_type": "stream",
          "name": "stdout",
          "text": [
            "Entraînement du pli 4/5...\n"
          ]
        },
        {
          "output_type": "stream",
          "name": "stderr",
          "text": [
            "Default metric period is 5 because AUC is/are not implemented for GPU\n"
          ]
        },
        {
          "output_type": "stream",
          "name": "stdout",
          "text": [
            "Entraînement du pli 5/5...\n"
          ]
        },
        {
          "output_type": "stream",
          "name": "stderr",
          "text": [
            "Default metric period is 5 because AUC is/are not implemented for GPU\n",
            "[I 2024-09-17 19:45:12,567] Trial 4 finished with value: 0.7662617592014865 and parameters: {'iterations': 7630, 'learning_rate': 0.016501414373711217, 'depth': 9, 'l2_leaf_reg': 3.1185010308567214}. Best is trial 1 with value: 0.767098126354423.\n"
          ]
        },
        {
          "output_type": "stream",
          "name": "stdout",
          "text": [
            "Entraînement du pli 1/5...\n"
          ]
        },
        {
          "output_type": "stream",
          "name": "stderr",
          "text": [
            "Default metric period is 5 because AUC is/are not implemented for GPU\n"
          ]
        },
        {
          "output_type": "stream",
          "name": "stdout",
          "text": [
            "Entraînement du pli 2/5...\n"
          ]
        },
        {
          "output_type": "stream",
          "name": "stderr",
          "text": [
            "Default metric period is 5 because AUC is/are not implemented for GPU\n"
          ]
        },
        {
          "output_type": "stream",
          "name": "stdout",
          "text": [
            "Entraînement du pli 3/5...\n"
          ]
        },
        {
          "output_type": "stream",
          "name": "stderr",
          "text": [
            "Default metric period is 5 because AUC is/are not implemented for GPU\n"
          ]
        },
        {
          "output_type": "stream",
          "name": "stdout",
          "text": [
            "Entraînement du pli 4/5...\n"
          ]
        },
        {
          "output_type": "stream",
          "name": "stderr",
          "text": [
            "Default metric period is 5 because AUC is/are not implemented for GPU\n"
          ]
        },
        {
          "output_type": "stream",
          "name": "stdout",
          "text": [
            "Entraînement du pli 5/5...\n"
          ]
        },
        {
          "output_type": "stream",
          "name": "stderr",
          "text": [
            "Default metric period is 5 because AUC is/are not implemented for GPU\n",
            "[I 2024-09-17 19:46:21,597] Trial 5 finished with value: 0.7670027703386503 and parameters: {'iterations': 9839, 'learning_rate': 0.03775273172764342, 'depth': 5, 'l2_leaf_reg': 3.095279500189374}. Best is trial 1 with value: 0.767098126354423.\n"
          ]
        },
        {
          "output_type": "stream",
          "name": "stdout",
          "text": [
            "Entraînement du pli 1/5...\n"
          ]
        },
        {
          "output_type": "stream",
          "name": "stderr",
          "text": [
            "Default metric period is 5 because AUC is/are not implemented for GPU\n"
          ]
        },
        {
          "output_type": "stream",
          "name": "stdout",
          "text": [
            "Entraînement du pli 2/5...\n"
          ]
        },
        {
          "output_type": "stream",
          "name": "stderr",
          "text": [
            "Default metric period is 5 because AUC is/are not implemented for GPU\n"
          ]
        },
        {
          "output_type": "stream",
          "name": "stdout",
          "text": [
            "Entraînement du pli 3/5...\n"
          ]
        },
        {
          "output_type": "stream",
          "name": "stderr",
          "text": [
            "Default metric period is 5 because AUC is/are not implemented for GPU\n"
          ]
        },
        {
          "output_type": "stream",
          "name": "stdout",
          "text": [
            "Entraînement du pli 4/5...\n"
          ]
        },
        {
          "output_type": "stream",
          "name": "stderr",
          "text": [
            "Default metric period is 5 because AUC is/are not implemented for GPU\n"
          ]
        },
        {
          "output_type": "stream",
          "name": "stdout",
          "text": [
            "Entraînement du pli 5/5...\n"
          ]
        },
        {
          "output_type": "stream",
          "name": "stderr",
          "text": [
            "Default metric period is 5 because AUC is/are not implemented for GPU\n",
            "[I 2024-09-17 19:49:08,804] Trial 6 finished with value: 0.7642529153812435 and parameters: {'iterations': 7161, 'learning_rate': 0.017311115293019732, 'depth': 10, 'l2_leaf_reg': 1.71877823242338}. Best is trial 1 with value: 0.767098126354423.\n"
          ]
        },
        {
          "output_type": "stream",
          "name": "stdout",
          "text": [
            "Entraînement du pli 1/5...\n"
          ]
        },
        {
          "output_type": "stream",
          "name": "stderr",
          "text": [
            "Default metric period is 5 because AUC is/are not implemented for GPU\n"
          ]
        },
        {
          "output_type": "stream",
          "name": "stdout",
          "text": [
            "Entraînement du pli 2/5...\n"
          ]
        },
        {
          "output_type": "stream",
          "name": "stderr",
          "text": [
            "Default metric period is 5 because AUC is/are not implemented for GPU\n"
          ]
        },
        {
          "output_type": "stream",
          "name": "stdout",
          "text": [
            "Entraînement du pli 3/5...\n"
          ]
        },
        {
          "output_type": "stream",
          "name": "stderr",
          "text": [
            "Default metric period is 5 because AUC is/are not implemented for GPU\n"
          ]
        },
        {
          "output_type": "stream",
          "name": "stdout",
          "text": [
            "Entraînement du pli 4/5...\n"
          ]
        },
        {
          "output_type": "stream",
          "name": "stderr",
          "text": [
            "Default metric period is 5 because AUC is/are not implemented for GPU\n"
          ]
        },
        {
          "output_type": "stream",
          "name": "stdout",
          "text": [
            "Entraînement du pli 5/5...\n"
          ]
        },
        {
          "output_type": "stream",
          "name": "stderr",
          "text": [
            "Default metric period is 5 because AUC is/are not implemented for GPU\n",
            "[I 2024-09-17 19:50:36,989] Trial 7 finished with value: 0.7664828703110064 and parameters: {'iterations': 6229, 'learning_rate': 0.022057118767457196, 'depth': 6, 'l2_leaf_reg': 1.1386974431412384}. Best is trial 1 with value: 0.767098126354423.\n"
          ]
        },
        {
          "output_type": "stream",
          "name": "stdout",
          "text": [
            "Entraînement du pli 1/5...\n"
          ]
        },
        {
          "output_type": "stream",
          "name": "stderr",
          "text": [
            "Default metric period is 5 because AUC is/are not implemented for GPU\n"
          ]
        },
        {
          "output_type": "stream",
          "name": "stdout",
          "text": [
            "Entraînement du pli 2/5...\n"
          ]
        },
        {
          "output_type": "stream",
          "name": "stderr",
          "text": [
            "Default metric period is 5 because AUC is/are not implemented for GPU\n"
          ]
        },
        {
          "output_type": "stream",
          "name": "stdout",
          "text": [
            "Entraînement du pli 3/5...\n"
          ]
        },
        {
          "output_type": "stream",
          "name": "stderr",
          "text": [
            "Default metric period is 5 because AUC is/are not implemented for GPU\n"
          ]
        },
        {
          "output_type": "stream",
          "name": "stdout",
          "text": [
            "Entraînement du pli 4/5...\n"
          ]
        },
        {
          "output_type": "stream",
          "name": "stderr",
          "text": [
            "Default metric period is 5 because AUC is/are not implemented for GPU\n"
          ]
        },
        {
          "output_type": "stream",
          "name": "stdout",
          "text": [
            "Entraînement du pli 5/5...\n"
          ]
        },
        {
          "output_type": "stream",
          "name": "stderr",
          "text": [
            "Default metric period is 5 because AUC is/are not implemented for GPU\n",
            "[I 2024-09-17 19:51:36,539] Trial 8 finished with value: 0.7671308397300165 and parameters: {'iterations': 6282, 'learning_rate': 0.052150759610801574, 'depth': 4, 'l2_leaf_reg': 3.08308690872198}. Best is trial 8 with value: 0.7671308397300165.\n"
          ]
        },
        {
          "output_type": "stream",
          "name": "stdout",
          "text": [
            "Entraînement du pli 1/5...\n"
          ]
        },
        {
          "output_type": "stream",
          "name": "stderr",
          "text": [
            "Default metric period is 5 because AUC is/are not implemented for GPU\n"
          ]
        },
        {
          "output_type": "stream",
          "name": "stdout",
          "text": [
            "Entraînement du pli 2/5...\n"
          ]
        },
        {
          "output_type": "stream",
          "name": "stderr",
          "text": [
            "Default metric period is 5 because AUC is/are not implemented for GPU\n"
          ]
        },
        {
          "output_type": "stream",
          "name": "stdout",
          "text": [
            "Entraînement du pli 3/5...\n"
          ]
        },
        {
          "output_type": "stream",
          "name": "stderr",
          "text": [
            "Default metric period is 5 because AUC is/are not implemented for GPU\n"
          ]
        },
        {
          "output_type": "stream",
          "name": "stdout",
          "text": [
            "Entraînement du pli 4/5...\n"
          ]
        },
        {
          "output_type": "stream",
          "name": "stderr",
          "text": [
            "Default metric period is 5 because AUC is/are not implemented for GPU\n"
          ]
        },
        {
          "output_type": "stream",
          "name": "stdout",
          "text": [
            "Entraînement du pli 5/5...\n"
          ]
        },
        {
          "output_type": "stream",
          "name": "stderr",
          "text": [
            "Default metric period is 5 because AUC is/are not implemented for GPU\n",
            "[I 2024-09-17 19:53:05,904] Trial 9 finished with value: 0.7669365297857449 and parameters: {'iterations': 9111, 'learning_rate': 0.02897871489658302, 'depth': 4, 'l2_leaf_reg': 1.2234993912652214}. Best is trial 8 with value: 0.7671308397300165.\n"
          ]
        },
        {
          "output_type": "stream",
          "name": "stdout",
          "text": [
            "Meilleurs paramètres trouvés : {'iterations': 6282, 'learning_rate': 0.052150759610801574, 'depth': 4, 'l2_leaf_reg': 3.08308690872198}\n",
            "Entraînement du pli 1/5...\n"
          ]
        },
        {
          "output_type": "stream",
          "name": "stderr",
          "text": [
            "Default metric period is 5 because AUC is/are not implemented for GPU\n"
          ]
        },
        {
          "output_type": "stream",
          "name": "stdout",
          "text": [
            "Entraînement du pli 2/5...\n"
          ]
        },
        {
          "output_type": "stream",
          "name": "stderr",
          "text": [
            "Default metric period is 5 because AUC is/are not implemented for GPU\n"
          ]
        },
        {
          "output_type": "stream",
          "name": "stdout",
          "text": [
            "Entraînement du pli 3/5...\n"
          ]
        },
        {
          "output_type": "stream",
          "name": "stderr",
          "text": [
            "Default metric period is 5 because AUC is/are not implemented for GPU\n"
          ]
        },
        {
          "output_type": "stream",
          "name": "stdout",
          "text": [
            "Entraînement du pli 4/5...\n"
          ]
        },
        {
          "output_type": "stream",
          "name": "stderr",
          "text": [
            "Default metric period is 5 because AUC is/are not implemented for GPU\n"
          ]
        },
        {
          "output_type": "stream",
          "name": "stdout",
          "text": [
            "Entraînement du pli 5/5...\n"
          ]
        },
        {
          "output_type": "stream",
          "name": "stderr",
          "text": [
            "Default metric period is 5 because AUC is/are not implemented for GPU\n"
          ]
        },
        {
          "output_type": "stream",
          "name": "stdout",
          "text": [
            "Modèle CatBoost sauvegardé à : /content/drive/MyDrive/Colab Notebooks/data_scoring/model_20240917_193333/best_model.cbm\n",
            "Importances des caractéristiques sauvegardées à : /content/drive/MyDrive/Colab Notebooks/data_scoring/model_20240917_193333/feature_importances.csv\n",
            "Métriques sauvegardées à : /content/drive/MyDrive/Colab Notebooks/data_scoring/model_20240917_193333/metrics.csv\n",
            "Baseline metrics\n",
            "   fold  train_auc  valid_auc\n",
            "0     1   0.797377   0.764254\n",
            "1     2   0.805616   0.767005\n",
            "2     3   0.792345   0.770836\n",
            "3     4   0.794899   0.766753\n",
            "4     5   0.794915   0.767208\n"
          ]
        }
      ],
      "source": [
        "submission, fi, metrics = catboost_model_with_mlflow_optimise(app_train, app_test, categorical_features, n_folds=5, save_path=model_folder)\n",
        "print('Baseline metrics')\n",
        "print(metrics)"
      ]
    },
    {
      "cell_type": "code",
      "execution_count": 20,
      "metadata": {
        "id": "gVzBQKiIjie1",
        "colab": {
          "base_uri": "https://localhost:8080/",
          "height": 423
        },
        "outputId": "5b58ebd4-78d4-444a-ea89-23dadf3fdff5"
      },
      "outputs": [
        {
          "output_type": "execute_result",
          "data": {
            "text/plain": [
              "                             feature  importance  fold\n",
              "0                 NAME_CONTRACT_TYPE    0.832038     1\n",
              "1                       FLAG_OWN_CAR    0.489192     1\n",
              "2                    FLAG_OWN_REALTY    0.144370     1\n",
              "3                       CNT_CHILDREN    0.154767     1\n",
              "4                   AMT_INCOME_TOTAL    0.814430     1\n",
              "..                               ...         ...   ...\n",
              "238         WALLSMATERIAL_MODE_Panel    0.035243     5\n",
              "239  WALLSMATERIAL_MODE_Stone, brick    0.122203     5\n",
              "240        WALLSMATERIAL_MODE_Wooden    0.027773     5\n",
              "241           EMERGENCYSTATE_MODE_No    0.008467     5\n",
              "242          EMERGENCYSTATE_MODE_Yes    0.051107     5\n",
              "\n",
              "[1215 rows x 3 columns]"
            ],
            "text/html": [
              "\n",
              "  <div id=\"df-a9bb7f7c-bdb5-49b6-ac26-0bcab2d6933f\" class=\"colab-df-container\">\n",
              "    <div>\n",
              "<style scoped>\n",
              "    .dataframe tbody tr th:only-of-type {\n",
              "        vertical-align: middle;\n",
              "    }\n",
              "\n",
              "    .dataframe tbody tr th {\n",
              "        vertical-align: top;\n",
              "    }\n",
              "\n",
              "    .dataframe thead th {\n",
              "        text-align: right;\n",
              "    }\n",
              "</style>\n",
              "<table border=\"1\" class=\"dataframe\">\n",
              "  <thead>\n",
              "    <tr style=\"text-align: right;\">\n",
              "      <th></th>\n",
              "      <th>feature</th>\n",
              "      <th>importance</th>\n",
              "      <th>fold</th>\n",
              "    </tr>\n",
              "  </thead>\n",
              "  <tbody>\n",
              "    <tr>\n",
              "      <th>0</th>\n",
              "      <td>NAME_CONTRACT_TYPE</td>\n",
              "      <td>0.832038</td>\n",
              "      <td>1</td>\n",
              "    </tr>\n",
              "    <tr>\n",
              "      <th>1</th>\n",
              "      <td>FLAG_OWN_CAR</td>\n",
              "      <td>0.489192</td>\n",
              "      <td>1</td>\n",
              "    </tr>\n",
              "    <tr>\n",
              "      <th>2</th>\n",
              "      <td>FLAG_OWN_REALTY</td>\n",
              "      <td>0.144370</td>\n",
              "      <td>1</td>\n",
              "    </tr>\n",
              "    <tr>\n",
              "      <th>3</th>\n",
              "      <td>CNT_CHILDREN</td>\n",
              "      <td>0.154767</td>\n",
              "      <td>1</td>\n",
              "    </tr>\n",
              "    <tr>\n",
              "      <th>4</th>\n",
              "      <td>AMT_INCOME_TOTAL</td>\n",
              "      <td>0.814430</td>\n",
              "      <td>1</td>\n",
              "    </tr>\n",
              "    <tr>\n",
              "      <th>...</th>\n",
              "      <td>...</td>\n",
              "      <td>...</td>\n",
              "      <td>...</td>\n",
              "    </tr>\n",
              "    <tr>\n",
              "      <th>238</th>\n",
              "      <td>WALLSMATERIAL_MODE_Panel</td>\n",
              "      <td>0.035243</td>\n",
              "      <td>5</td>\n",
              "    </tr>\n",
              "    <tr>\n",
              "      <th>239</th>\n",
              "      <td>WALLSMATERIAL_MODE_Stone, brick</td>\n",
              "      <td>0.122203</td>\n",
              "      <td>5</td>\n",
              "    </tr>\n",
              "    <tr>\n",
              "      <th>240</th>\n",
              "      <td>WALLSMATERIAL_MODE_Wooden</td>\n",
              "      <td>0.027773</td>\n",
              "      <td>5</td>\n",
              "    </tr>\n",
              "    <tr>\n",
              "      <th>241</th>\n",
              "      <td>EMERGENCYSTATE_MODE_No</td>\n",
              "      <td>0.008467</td>\n",
              "      <td>5</td>\n",
              "    </tr>\n",
              "    <tr>\n",
              "      <th>242</th>\n",
              "      <td>EMERGENCYSTATE_MODE_Yes</td>\n",
              "      <td>0.051107</td>\n",
              "      <td>5</td>\n",
              "    </tr>\n",
              "  </tbody>\n",
              "</table>\n",
              "<p>1215 rows × 3 columns</p>\n",
              "</div>\n",
              "    <div class=\"colab-df-buttons\">\n",
              "\n",
              "  <div class=\"colab-df-container\">\n",
              "    <button class=\"colab-df-convert\" onclick=\"convertToInteractive('df-a9bb7f7c-bdb5-49b6-ac26-0bcab2d6933f')\"\n",
              "            title=\"Convert this dataframe to an interactive table.\"\n",
              "            style=\"display:none;\">\n",
              "\n",
              "  <svg xmlns=\"http://www.w3.org/2000/svg\" height=\"24px\" viewBox=\"0 -960 960 960\">\n",
              "    <path d=\"M120-120v-720h720v720H120Zm60-500h600v-160H180v160Zm220 220h160v-160H400v160Zm0 220h160v-160H400v160ZM180-400h160v-160H180v160Zm440 0h160v-160H620v160ZM180-180h160v-160H180v160Zm440 0h160v-160H620v160Z\"/>\n",
              "  </svg>\n",
              "    </button>\n",
              "\n",
              "  <style>\n",
              "    .colab-df-container {\n",
              "      display:flex;\n",
              "      gap: 12px;\n",
              "    }\n",
              "\n",
              "    .colab-df-convert {\n",
              "      background-color: #E8F0FE;\n",
              "      border: none;\n",
              "      border-radius: 50%;\n",
              "      cursor: pointer;\n",
              "      display: none;\n",
              "      fill: #1967D2;\n",
              "      height: 32px;\n",
              "      padding: 0 0 0 0;\n",
              "      width: 32px;\n",
              "    }\n",
              "\n",
              "    .colab-df-convert:hover {\n",
              "      background-color: #E2EBFA;\n",
              "      box-shadow: 0px 1px 2px rgba(60, 64, 67, 0.3), 0px 1px 3px 1px rgba(60, 64, 67, 0.15);\n",
              "      fill: #174EA6;\n",
              "    }\n",
              "\n",
              "    .colab-df-buttons div {\n",
              "      margin-bottom: 4px;\n",
              "    }\n",
              "\n",
              "    [theme=dark] .colab-df-convert {\n",
              "      background-color: #3B4455;\n",
              "      fill: #D2E3FC;\n",
              "    }\n",
              "\n",
              "    [theme=dark] .colab-df-convert:hover {\n",
              "      background-color: #434B5C;\n",
              "      box-shadow: 0px 1px 3px 1px rgba(0, 0, 0, 0.15);\n",
              "      filter: drop-shadow(0px 1px 2px rgba(0, 0, 0, 0.3));\n",
              "      fill: #FFFFFF;\n",
              "    }\n",
              "  </style>\n",
              "\n",
              "    <script>\n",
              "      const buttonEl =\n",
              "        document.querySelector('#df-a9bb7f7c-bdb5-49b6-ac26-0bcab2d6933f button.colab-df-convert');\n",
              "      buttonEl.style.display =\n",
              "        google.colab.kernel.accessAllowed ? 'block' : 'none';\n",
              "\n",
              "      async function convertToInteractive(key) {\n",
              "        const element = document.querySelector('#df-a9bb7f7c-bdb5-49b6-ac26-0bcab2d6933f');\n",
              "        const dataTable =\n",
              "          await google.colab.kernel.invokeFunction('convertToInteractive',\n",
              "                                                    [key], {});\n",
              "        if (!dataTable) return;\n",
              "\n",
              "        const docLinkHtml = 'Like what you see? Visit the ' +\n",
              "          '<a target=\"_blank\" href=https://colab.research.google.com/notebooks/data_table.ipynb>data table notebook</a>'\n",
              "          + ' to learn more about interactive tables.';\n",
              "        element.innerHTML = '';\n",
              "        dataTable['output_type'] = 'display_data';\n",
              "        await google.colab.output.renderOutput(dataTable, element);\n",
              "        const docLink = document.createElement('div');\n",
              "        docLink.innerHTML = docLinkHtml;\n",
              "        element.appendChild(docLink);\n",
              "      }\n",
              "    </script>\n",
              "  </div>\n",
              "\n",
              "\n",
              "<div id=\"df-cb353f76-78dd-4ec6-a721-c319b06d6316\">\n",
              "  <button class=\"colab-df-quickchart\" onclick=\"quickchart('df-cb353f76-78dd-4ec6-a721-c319b06d6316')\"\n",
              "            title=\"Suggest charts\"\n",
              "            style=\"display:none;\">\n",
              "\n",
              "<svg xmlns=\"http://www.w3.org/2000/svg\" height=\"24px\"viewBox=\"0 0 24 24\"\n",
              "     width=\"24px\">\n",
              "    <g>\n",
              "        <path d=\"M19 3H5c-1.1 0-2 .9-2 2v14c0 1.1.9 2 2 2h14c1.1 0 2-.9 2-2V5c0-1.1-.9-2-2-2zM9 17H7v-7h2v7zm4 0h-2V7h2v10zm4 0h-2v-4h2v4z\"/>\n",
              "    </g>\n",
              "</svg>\n",
              "  </button>\n",
              "\n",
              "<style>\n",
              "  .colab-df-quickchart {\n",
              "      --bg-color: #E8F0FE;\n",
              "      --fill-color: #1967D2;\n",
              "      --hover-bg-color: #E2EBFA;\n",
              "      --hover-fill-color: #174EA6;\n",
              "      --disabled-fill-color: #AAA;\n",
              "      --disabled-bg-color: #DDD;\n",
              "  }\n",
              "\n",
              "  [theme=dark] .colab-df-quickchart {\n",
              "      --bg-color: #3B4455;\n",
              "      --fill-color: #D2E3FC;\n",
              "      --hover-bg-color: #434B5C;\n",
              "      --hover-fill-color: #FFFFFF;\n",
              "      --disabled-bg-color: #3B4455;\n",
              "      --disabled-fill-color: #666;\n",
              "  }\n",
              "\n",
              "  .colab-df-quickchart {\n",
              "    background-color: var(--bg-color);\n",
              "    border: none;\n",
              "    border-radius: 50%;\n",
              "    cursor: pointer;\n",
              "    display: none;\n",
              "    fill: var(--fill-color);\n",
              "    height: 32px;\n",
              "    padding: 0;\n",
              "    width: 32px;\n",
              "  }\n",
              "\n",
              "  .colab-df-quickchart:hover {\n",
              "    background-color: var(--hover-bg-color);\n",
              "    box-shadow: 0 1px 2px rgba(60, 64, 67, 0.3), 0 1px 3px 1px rgba(60, 64, 67, 0.15);\n",
              "    fill: var(--button-hover-fill-color);\n",
              "  }\n",
              "\n",
              "  .colab-df-quickchart-complete:disabled,\n",
              "  .colab-df-quickchart-complete:disabled:hover {\n",
              "    background-color: var(--disabled-bg-color);\n",
              "    fill: var(--disabled-fill-color);\n",
              "    box-shadow: none;\n",
              "  }\n",
              "\n",
              "  .colab-df-spinner {\n",
              "    border: 2px solid var(--fill-color);\n",
              "    border-color: transparent;\n",
              "    border-bottom-color: var(--fill-color);\n",
              "    animation:\n",
              "      spin 1s steps(1) infinite;\n",
              "  }\n",
              "\n",
              "  @keyframes spin {\n",
              "    0% {\n",
              "      border-color: transparent;\n",
              "      border-bottom-color: var(--fill-color);\n",
              "      border-left-color: var(--fill-color);\n",
              "    }\n",
              "    20% {\n",
              "      border-color: transparent;\n",
              "      border-left-color: var(--fill-color);\n",
              "      border-top-color: var(--fill-color);\n",
              "    }\n",
              "    30% {\n",
              "      border-color: transparent;\n",
              "      border-left-color: var(--fill-color);\n",
              "      border-top-color: var(--fill-color);\n",
              "      border-right-color: var(--fill-color);\n",
              "    }\n",
              "    40% {\n",
              "      border-color: transparent;\n",
              "      border-right-color: var(--fill-color);\n",
              "      border-top-color: var(--fill-color);\n",
              "    }\n",
              "    60% {\n",
              "      border-color: transparent;\n",
              "      border-right-color: var(--fill-color);\n",
              "    }\n",
              "    80% {\n",
              "      border-color: transparent;\n",
              "      border-right-color: var(--fill-color);\n",
              "      border-bottom-color: var(--fill-color);\n",
              "    }\n",
              "    90% {\n",
              "      border-color: transparent;\n",
              "      border-bottom-color: var(--fill-color);\n",
              "    }\n",
              "  }\n",
              "</style>\n",
              "\n",
              "  <script>\n",
              "    async function quickchart(key) {\n",
              "      const quickchartButtonEl =\n",
              "        document.querySelector('#' + key + ' button');\n",
              "      quickchartButtonEl.disabled = true;  // To prevent multiple clicks.\n",
              "      quickchartButtonEl.classList.add('colab-df-spinner');\n",
              "      try {\n",
              "        const charts = await google.colab.kernel.invokeFunction(\n",
              "            'suggestCharts', [key], {});\n",
              "      } catch (error) {\n",
              "        console.error('Error during call to suggestCharts:', error);\n",
              "      }\n",
              "      quickchartButtonEl.classList.remove('colab-df-spinner');\n",
              "      quickchartButtonEl.classList.add('colab-df-quickchart-complete');\n",
              "    }\n",
              "    (() => {\n",
              "      let quickchartButtonEl =\n",
              "        document.querySelector('#df-cb353f76-78dd-4ec6-a721-c319b06d6316 button');\n",
              "      quickchartButtonEl.style.display =\n",
              "        google.colab.kernel.accessAllowed ? 'block' : 'none';\n",
              "    })();\n",
              "  </script>\n",
              "</div>\n",
              "\n",
              "  <div id=\"id_cfd8085c-80c6-4e4a-a6a3-2ba60ae09b90\">\n",
              "    <style>\n",
              "      .colab-df-generate {\n",
              "        background-color: #E8F0FE;\n",
              "        border: none;\n",
              "        border-radius: 50%;\n",
              "        cursor: pointer;\n",
              "        display: none;\n",
              "        fill: #1967D2;\n",
              "        height: 32px;\n",
              "        padding: 0 0 0 0;\n",
              "        width: 32px;\n",
              "      }\n",
              "\n",
              "      .colab-df-generate:hover {\n",
              "        background-color: #E2EBFA;\n",
              "        box-shadow: 0px 1px 2px rgba(60, 64, 67, 0.3), 0px 1px 3px 1px rgba(60, 64, 67, 0.15);\n",
              "        fill: #174EA6;\n",
              "      }\n",
              "\n",
              "      [theme=dark] .colab-df-generate {\n",
              "        background-color: #3B4455;\n",
              "        fill: #D2E3FC;\n",
              "      }\n",
              "\n",
              "      [theme=dark] .colab-df-generate:hover {\n",
              "        background-color: #434B5C;\n",
              "        box-shadow: 0px 1px 3px 1px rgba(0, 0, 0, 0.15);\n",
              "        filter: drop-shadow(0px 1px 2px rgba(0, 0, 0, 0.3));\n",
              "        fill: #FFFFFF;\n",
              "      }\n",
              "    </style>\n",
              "    <button class=\"colab-df-generate\" onclick=\"generateWithVariable('fi')\"\n",
              "            title=\"Generate code using this dataframe.\"\n",
              "            style=\"display:none;\">\n",
              "\n",
              "  <svg xmlns=\"http://www.w3.org/2000/svg\" height=\"24px\"viewBox=\"0 0 24 24\"\n",
              "       width=\"24px\">\n",
              "    <path d=\"M7,19H8.4L18.45,9,17,7.55,7,17.6ZM5,21V16.75L18.45,3.32a2,2,0,0,1,2.83,0l1.4,1.43a1.91,1.91,0,0,1,.58,1.4,1.91,1.91,0,0,1-.58,1.4L9.25,21ZM18.45,9,17,7.55Zm-12,3A5.31,5.31,0,0,0,4.9,8.1,5.31,5.31,0,0,0,1,6.5,5.31,5.31,0,0,0,4.9,4.9,5.31,5.31,0,0,0,6.5,1,5.31,5.31,0,0,0,8.1,4.9,5.31,5.31,0,0,0,12,6.5,5.46,5.46,0,0,0,6.5,12Z\"/>\n",
              "  </svg>\n",
              "    </button>\n",
              "    <script>\n",
              "      (() => {\n",
              "      const buttonEl =\n",
              "        document.querySelector('#id_cfd8085c-80c6-4e4a-a6a3-2ba60ae09b90 button.colab-df-generate');\n",
              "      buttonEl.style.display =\n",
              "        google.colab.kernel.accessAllowed ? 'block' : 'none';\n",
              "\n",
              "      buttonEl.onclick = () => {\n",
              "        google.colab.notebook.generateWithVariable('fi');\n",
              "      }\n",
              "      })();\n",
              "    </script>\n",
              "  </div>\n",
              "\n",
              "    </div>\n",
              "  </div>\n"
            ],
            "application/vnd.google.colaboratory.intrinsic+json": {
              "type": "dataframe",
              "variable_name": "fi",
              "summary": "{\n  \"name\": \"fi\",\n  \"rows\": 1215,\n  \"fields\": [\n    {\n      \"column\": \"feature\",\n      \"properties\": {\n        \"dtype\": \"category\",\n        \"num_unique_values\": 243,\n        \"samples\": [\n          \"REG_REGION_NOT_LIVE_REGION\",\n          \"AMT_ANNUITY\",\n          \"OCCUPATION_TYPE_Laborers\"\n        ],\n        \"semantic_type\": \"\",\n        \"description\": \"\"\n      }\n    },\n    {\n      \"column\": \"importance\",\n      \"properties\": {\n        \"dtype\": \"number\",\n        \"std\": 1.7821216686472363,\n        \"min\": 0.0,\n        \"max\": 20.225214479069617,\n        \"num_unique_values\": 1176,\n        \"samples\": [\n          9.879317575747331,\n          0.0007014090508251119,\n          0.020664097162694094\n        ],\n        \"semantic_type\": \"\",\n        \"description\": \"\"\n      }\n    },\n    {\n      \"column\": \"fold\",\n      \"properties\": {\n        \"dtype\": \"number\",\n        \"std\": 1,\n        \"min\": 1,\n        \"max\": 5,\n        \"num_unique_values\": 5,\n        \"samples\": [\n          2,\n          5,\n          3\n        ],\n        \"semantic_type\": \"\",\n        \"description\": \"\"\n      }\n    }\n  ]\n}"
            }
          },
          "metadata": {},
          "execution_count": 20
        }
      ],
      "source": [
        "fi"
      ]
    },
    {
      "cell_type": "code",
      "execution_count": 21,
      "metadata": {
        "id": "A-lGmYPjHwRh",
        "colab": {
          "base_uri": "https://localhost:8080/"
        },
        "outputId": "87bf6cab-3c0f-4b27-8e2b-9d85dbe37247"
      },
      "outputs": [
        {
          "output_type": "stream",
          "name": "stdout",
          "text": [
            "Drive already mounted at /content/drive; to attempt to forcibly remount, call drive.mount(\"/content/drive\", force_remount=True).\n",
            "Dépôt cloné dans projet_scoring\n",
            "Dossier modèle trouvé : /content/drive/MyDrive/Colab Notebooks/data_scoring/model_20240917_080839\n",
            "Fichiers copiés de /content/drive/MyDrive/Colab Notebooks/data_scoring/model_20240917_080839 vers projet_scoring/modeles/model_20240917_080839\n",
            "Une erreur s'est produite lors de l'exécution de la commande Git : Command '['git', 'commit', '-m', 'Ajout du dossier modèle avec les fichiers de scoring']' returned non-zero exit status 128.\n"
          ]
        }
      ],
      "source": [
        "import os\n",
        "import subprocess\n",
        "from datetime import datetime\n",
        "import shutil  # Pour la copie des dossiers\n",
        "\n",
        "# 1. Monter Google Drive (si ce n'est pas déjà fait)\n",
        "from google.colab import drive\n",
        "drive.mount('/content/drive')\n",
        "\n",
        "# 2. Cloner le dépôt GitHub dans Google Colab\n",
        "repo_url = \"https://YOUR_TOKEN@github.com/bourydamien/projet_scoring.git\"\n",
        "repo_name = \"projet_scoring\"\n",
        "branch = \"main\"  # Branche par défaut\n",
        "\n",
        "# Remplacer `YOUR_TOKEN` par ton token GitHub personnel\n",
        "repo_url = repo_url.replace(\"YOUR_TOKEN\", \"ton_token_github\")  # Mets ici ton token GitHub\n",
        "\n",
        "# Cloner le dépôt s'il n'est pas déjà cloné\n",
        "if not os.path.exists(repo_name):\n",
        "    subprocess.run([\"git\", \"clone\", repo_url])\n",
        "    print(f\"Dépôt cloné dans {repo_name}\")\n",
        "\n",
        "# 3. Déterminer le nom du dossier le plus récent dans `scoring_folder`\n",
        "scoring_folder = '/content/drive/MyDrive/Colab Notebooks/data_scoring'\n",
        "timestamp = datetime.now().strftime(\"%Y%m%d_%H%M%S\")\n",
        "model_folder = f'{scoring_folder}/model_{timestamp}'\n",
        "\n",
        "# Trouver le dossier le plus récent\n",
        "folders = [f for f in os.listdir(scoring_folder) if os.path.isdir(os.path.join(scoring_folder, f))]\n",
        "model_folders = [f for f in folders if f.startswith('model_')]\n",
        "\n",
        "if model_folders:\n",
        "    latest_folder = max(model_folders, key=lambda f: os.path.getctime(os.path.join(scoring_folder, f)))\n",
        "    model_folder_path = os.path.join(scoring_folder, latest_folder)\n",
        "else:\n",
        "    raise FileNotFoundError(\"Aucun dossier modèle trouvé dans `scoring_folder`.\")\n",
        "\n",
        "print(f\"Dossier modèle trouvé : {model_folder_path}\")\n",
        "\n",
        "# 4. Créer un dossier 'modeles' dans le dépôt s'il n'existe pas déjà\n",
        "destination_folder = f'{repo_name}/modeles'\n",
        "os.makedirs(destination_folder, exist_ok=True)\n",
        "\n",
        "# 5. Copier tout le contenu du dossier `model_folder_path` vers `modeles` dans le dépôt\n",
        "# Utiliser shutil pour copier tout le contenu\n",
        "shutil.copytree(model_folder_path, os.path.join(destination_folder, latest_folder), dirs_exist_ok=True)\n",
        "\n",
        "print(f\"Fichiers copiés de {model_folder_path} vers {os.path.join(destination_folder, latest_folder)}\")\n",
        "\n",
        "# 6. Ajouter, committer et pousser les fichiers vers GitHub\n",
        "def push_to_github(commit_message, repo_name, branch='main'):\n",
        "    \"\"\"\n",
        "    Pousse les fichiers sur GitHub via Git après les avoir ajoutés et committés.\n",
        "\n",
        "    :param commit_message: Message de commit Git\n",
        "    :param repo_name: Nom du répertoire local Git\n",
        "    :param branch: Branche du dépôt GitHub vers laquelle pousser (par défaut: 'main')\n",
        "    \"\"\"\n",
        "    # Se déplacer dans le répertoire du dépôt\n",
        "    os.chdir(repo_name)\n",
        "\n",
        "    try:\n",
        "        # Ajouter les fichiers au dépôt\n",
        "        subprocess.run([\"git\", \"add\", \".\"], check=True)\n",
        "\n",
        "        # Committer les fichiers avec un message\n",
        "        subprocess.run([\"git\", \"commit\", \"-m\", commit_message], check=True)\n",
        "\n",
        "        # Pousser les changements sur la branche spécifiée\n",
        "        subprocess.run([\"git\", \"push\", \"origin\", branch], check=True)\n",
        "\n",
        "        print(\"Les fichiers ont été poussés avec succès sur GitHub.\")\n",
        "\n",
        "    except subprocess.CalledProcessError as e:\n",
        "        print(f\"Une erreur s'est produite lors de l'exécution de la commande Git : {e}\")\n",
        "\n",
        "    # Revenir au répertoire principal\n",
        "    os.chdir('..')\n",
        "\n",
        "# 7. Appeler la fonction pour pousser sur GitHub\n",
        "push_to_github(\"Ajout du dossier modèle avec les fichiers de scoring\", repo_name, branch)\n"
      ]
    },
    {
      "cell_type": "code",
      "source": [],
      "metadata": {
        "id": "TDN4nW45fLFD"
      },
      "execution_count": null,
      "outputs": []
    },
    {
      "cell_type": "code",
      "execution_count": 22,
      "metadata": {
        "colab": {
          "base_uri": "https://localhost:8080/"
        },
        "id": "23TOba33L4qf",
        "outputId": "aab7f44a-dbfb-4081-8b4a-0b3d84349b49"
      },
      "outputs": [
        {
          "output_type": "stream",
          "name": "stdout",
          "text": [
            "Tue Sep 17 19:54:16 2024       \n",
            "+---------------------------------------------------------------------------------------+\n",
            "| NVIDIA-SMI 535.104.05             Driver Version: 535.104.05   CUDA Version: 12.2     |\n",
            "|-----------------------------------------+----------------------+----------------------+\n",
            "| GPU  Name                 Persistence-M | Bus-Id        Disp.A | Volatile Uncorr. ECC |\n",
            "| Fan  Temp   Perf          Pwr:Usage/Cap |         Memory-Usage | GPU-Util  Compute M. |\n",
            "|                                         |                      |               MIG M. |\n",
            "|=========================================+======================+======================|\n",
            "|   0  NVIDIA A100-SXM4-40GB          Off | 00000000:00:04.0 Off |                    0 |\n",
            "| N/A   33C    P0              49W / 400W |    425MiB / 40960MiB |      0%      Default |\n",
            "|                                         |                      |             Disabled |\n",
            "+-----------------------------------------+----------------------+----------------------+\n",
            "                                                                                         \n",
            "+---------------------------------------------------------------------------------------+\n",
            "| Processes:                                                                            |\n",
            "|  GPU   GI   CI        PID   Type   Process name                            GPU Memory |\n",
            "|        ID   ID                                                             Usage      |\n",
            "|=======================================================================================|\n",
            "+---------------------------------------------------------------------------------------+\n"
          ]
        }
      ],
      "source": [
        "gpu_info = !nvidia-smi\n",
        "gpu_info = '\\n'.join(gpu_info)\n",
        "if gpu_info.find('failed') >= 0:\n",
        "  print('Not connected to a GPU')\n",
        "else:\n",
        "  print(gpu_info)"
      ]
    }
  ],
  "metadata": {
    "accelerator": "GPU",
    "colab": {
      "gpuType": "A100",
      "provenance": [],
      "machine_shape": "hm",
      "authorship_tag": "ABX9TyOf8MFyZKrEG1qbDo2BuC6X",
      "include_colab_link": true
    },
    "kernelspec": {
      "display_name": "Python 3",
      "name": "python3"
    },
    "language_info": {
      "name": "python"
    }
  },
  "nbformat": 4,
  "nbformat_minor": 0
}