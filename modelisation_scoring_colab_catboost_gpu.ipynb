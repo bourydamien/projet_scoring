{
  "cells": [
    {
      "cell_type": "code",
      "execution_count": null,
      "metadata": {
        "id": "q7vGSM8CGoOJ"
      },
      "outputs": [],
      "source": []
    },
    {
      "cell_type": "markdown",
      "metadata": {
        "id": "5oM3oaIKPsOV"
      },
      "source": [
        "Installation des requirements stockés sur mon dépot git"
      ]
    },
    {
      "cell_type": "code",
      "execution_count": 1,
      "metadata": {
        "id": "ep05DuayLByj"
      },
      "outputs": [],
      "source": [
        "import subprocess\n",
        "\n",
        "def install_requirements_from_github(url):\n",
        "    # Télécharger le fichier requirements.txt depuis GitHub\n",
        "    subprocess.run(['curl', '-o', 'requirements.txt', url])\n",
        "\n",
        "    # Installer les bibliothèques listées dans requirements.txt\n",
        "    subprocess.run(['pip', 'install', '-r', 'requirements.txt'])\n",
        "\n",
        "# URL du fichier requirements.txt sur GitHub\n",
        "requirements_url = 'https://raw.githubusercontent.com/bourydamien/projet_scoring/master/requirements.txt'\n",
        "\n",
        "# Appeler la fonction pour installer les bibliothèques\n",
        "install_requirements_from_github(requirements_url)\n",
        "\n"
      ]
    },
    {
      "cell_type": "markdown",
      "metadata": {
        "id": "z8povVytPy8f"
      },
      "source": [
        "imports des fonctions installées"
      ]
    },
    {
      "cell_type": "code",
      "execution_count": 2,
      "metadata": {
        "colab": {
          "base_uri": "https://localhost:8080/"
        },
        "id": "1KA3ciMpoAwj",
        "outputId": "40f876d6-4926-47c7-8dc1-4298fd3a7212"
      },
      "outputs": [
        {
          "output_type": "stream",
          "name": "stdout",
          "text": [
            "Collecting h2O\n",
            "  Downloading h2o-3.46.0.5.tar.gz (265.6 MB)\n",
            "\u001b[2K     \u001b[90m━━━━━━━━━━━━━━━━━━━━━━━━━━━━━━━━━━━━━━━━\u001b[0m \u001b[32m265.6/265.6 MB\u001b[0m \u001b[31m5.4 MB/s\u001b[0m eta \u001b[36m0:00:00\u001b[0m\n",
            "\u001b[?25h  Preparing metadata (setup.py) ... \u001b[?25l\u001b[?25hdone\n",
            "Requirement already satisfied: requests in /usr/local/lib/python3.10/dist-packages (from h2O) (2.32.3)\n",
            "Requirement already satisfied: tabulate in /usr/local/lib/python3.10/dist-packages (from h2O) (0.9.0)\n",
            "Requirement already satisfied: charset-normalizer<4,>=2 in /usr/local/lib/python3.10/dist-packages (from requests->h2O) (3.3.2)\n",
            "Requirement already satisfied: idna<4,>=2.5 in /usr/local/lib/python3.10/dist-packages (from requests->h2O) (3.10)\n",
            "Requirement already satisfied: urllib3<3,>=1.21.1 in /usr/local/lib/python3.10/dist-packages (from requests->h2O) (2.2.3)\n",
            "Requirement already satisfied: certifi>=2017.4.17 in /usr/local/lib/python3.10/dist-packages (from requests->h2O) (2024.8.30)\n",
            "Building wheels for collected packages: h2O\n",
            "  Building wheel for h2O (setup.py) ... \u001b[?25l\u001b[?25hdone\n",
            "  Created wheel for h2O: filename=h2o-3.46.0.5-py2.py3-none-any.whl size=265646558 sha256=87bea20139a7336b1834372ae3a86841fb63c33a9a0c327aef9f38eb185a44b2\n",
            "  Stored in directory: /root/.cache/pip/wheels/1a/46/4f/9b366522399306d7849672d58aefb44c9b73378d710bde2853\n",
            "Successfully built h2O\n",
            "Installing collected packages: h2O\n",
            "Successfully installed h2O-3.46.0.5\n"
          ]
        }
      ],
      "source": [
        "pip install h2O"
      ]
    },
    {
      "cell_type": "code",
      "execution_count": 3,
      "metadata": {
        "colab": {
          "base_uri": "https://localhost:8080/"
        },
        "id": "PEidN7JZP_Sj",
        "outputId": "ff461c37-e180-44b3-9ece-3d2d584c7425"
      },
      "outputs": [
        {
          "output_type": "stream",
          "name": "stdout",
          "text": [
            "Collecting pyngrok\n",
            "  Downloading pyngrok-7.2.0-py3-none-any.whl.metadata (7.4 kB)\n",
            "Requirement already satisfied: PyYAML>=5.1 in /usr/local/lib/python3.10/dist-packages (from pyngrok) (6.0.2)\n",
            "Downloading pyngrok-7.2.0-py3-none-any.whl (22 kB)\n",
            "Installing collected packages: pyngrok\n",
            "Successfully installed pyngrok-7.2.0\n"
          ]
        }
      ],
      "source": [
        "pip install pyngrok\n"
      ]
    },
    {
      "cell_type": "code",
      "execution_count": 4,
      "metadata": {
        "id": "qrkPYOBXDm7x"
      },
      "outputs": [],
      "source": [
        "import numpy as np\n",
        "import pandas as pd\n",
        "import glob\n",
        "import optuna\n",
        "#import cuml\n",
        "#from cuml.linear_model import LogisticRegression\n",
        "# Suppress warnings\n",
        "import warnings\n",
        "warnings.filterwarnings('ignore')\n",
        "\n",
        "# matplotlib and seaborn for plotting\n",
        "import matplotlib.pyplot as plt\n",
        "import seaborn as sns\n",
        "\n",
        "from catboost import CatBoostClassifier, Pool, utils\n",
        "\n",
        "from sklearn.model_selection import KFold\n",
        "from sklearn.metrics import roc_auc_score\n",
        "import mlflow\n",
        "import mlflow.sklearn\n",
        "import gc\n",
        "import pandas as pd\n",
        "from sklearn.preprocessing import LabelEncoder\n",
        "from sklearn.preprocessing import StandardScaler\n",
        "import gdown\n",
        "import numpy as np\n",
        "import pandas as pd\n",
        "from scipy.stats import boxcox\n",
        "from scipy.stats import skew\n",
        "from google.colab import drive\n",
        "import catboost\n",
        "from catboost.utils import get_gpu_device_count\n",
        "import os\n",
        "import pickle\n",
        "import joblib\n",
        "from datetime import datetime\n",
        "import json\n",
        "from sklearn.dummy import DummyClassifier\n",
        "from sklearn.model_selection import cross_val_score\n",
        "from sklearn.metrics import roc_auc_score, confusion_matrix, accuracy_score\n",
        "\n",
        "\n",
        "import mlflow.catboost\n",
        "\n",
        "\n",
        "\n",
        "from catboost.utils import get_gpu_device_count\n",
        "\n",
        "from sklearn.metrics import confusion_matrix\n",
        "import h2o\n",
        "from h2o.estimators.glm import H2OGeneralizedLinearEstimator"
      ]
    },
    {
      "cell_type": "markdown",
      "metadata": {
        "id": "kLE7qhQpAEhR"
      },
      "source": [
        "Chemin ou je dois enregistrer les modeles sur le drive"
      ]
    },
    {
      "cell_type": "code",
      "execution_count": 5,
      "metadata": {
        "colab": {
          "base_uri": "https://localhost:8080/"
        },
        "id": "UJTWqu_18zuB",
        "outputId": "73c8b9dd-eba0-4417-93a0-951005e276d2"
      },
      "outputs": [
        {
          "output_type": "stream",
          "name": "stdout",
          "text": [
            "Mounted at /content/drive\n"
          ]
        }
      ],
      "source": [
        "drive.mount('/content/drive')"
      ]
    },
    {
      "cell_type": "code",
      "execution_count": 6,
      "metadata": {
        "colab": {
          "base_uri": "https://localhost:8080/"
        },
        "id": "GBAA8yC-F6lH",
        "outputId": "e335502f-51a2-4693-d958-2950d4ec22eb"
      },
      "outputs": [
        {
          "output_type": "stream",
          "name": "stdout",
          "text": [
            "MLflow Tracking UI: https://65f9-34-105-8-242.ngrok-free.app\n"
          ]
        }
      ],
      "source": [
        "\n",
        "from pyngrok import ngrok\n",
        "\n",
        "# Démarrer l'UI MLflow sur le port 5000\n",
        "get_ipython().system_raw(\"mlflow ui --port 5000 &\")\n",
        "\n",
        "# Terminer les tunnels ngrok existants\n",
        "ngrok.kill()\n",
        "\n",
        "# authentification\n",
        "NGROK_AUTH_TOKEN = \"2mQhc8YiUoUK6QUqgKogSMKs4rA_3Xp1NRRb6KNvokubaWec4\"\n",
        "ngrok.set_auth_token(NGROK_AUTH_TOKEN)\n",
        "\n",
        "# Créer un tunnel HTTP sur le port 5000\n",
        "ngrok_tunnel = ngrok.connect(addr=\"5000\", proto=\"http\", bind_tls=True)\n",
        "print(\"MLflow Tracking UI:\", ngrok_tunnel.public_url)\n"
      ]
    },
    {
      "cell_type": "code",
      "execution_count": 6,
      "metadata": {
        "id": "opmJfANvH5dx"
      },
      "outputs": [],
      "source": []
    },
    {
      "cell_type": "code",
      "execution_count": 7,
      "metadata": {
        "id": "xrLz8ROh9Syd"
      },
      "outputs": [],
      "source": [
        "\n",
        "scoring_folder = '/content/drive/MyDrive/Colab Notebooks/data_scoring'\n",
        "\n",
        "# Créer un sous-dossier avec la date et l'heure\n",
        "timestamp = datetime.now().strftime(\"%Y%m%d_%H%M%S\")\n",
        "model_folder = f'{scoring_folder}/model_{timestamp}'\n",
        "os.makedirs(model_folder, exist_ok=True)\n",
        "\n",
        "# Création du deuxième dossier avec le suffixe '_weighted'\n",
        "weighted_model_folder = f'{model_folder}_weighted'\n",
        "os.makedirs(weighted_model_folder, exist_ok=True)"
      ]
    },
    {
      "cell_type": "markdown",
      "metadata": {
        "id": "S_MYtceRP74X"
      },
      "source": [
        "chargement des fichiers d'entrainements et de test. ( Pour plus de facilité, je les aient stockés sur le drive google)"
      ]
    },
    {
      "cell_type": "code",
      "execution_count": 8,
      "metadata": {
        "colab": {
          "base_uri": "https://localhost:8080/"
        },
        "id": "3HLY6MbAOeZ2",
        "outputId": "dc36a0d8-ca46-40ca-d504-cb7c82cfb869"
      },
      "outputs": [
        {
          "output_type": "stream",
          "name": "stderr",
          "text": [
            "Downloading...\n",
            "From (original): https://drive.google.com/uc?id=1oElrtY8GECJGLFpcB8-P5H5nwTvfhcYk\n",
            "From (redirected): https://drive.google.com/uc?id=1oElrtY8GECJGLFpcB8-P5H5nwTvfhcYk&confirm=t&uuid=34b8a0ab-dc59-401a-bf0e-31ae1cef6dbb\n",
            "To: /content/train_data.csv\n",
            "100%|██████████| 166M/166M [00:07<00:00, 23.5MB/s]\n",
            "Downloading...\n",
            "From: https://drive.google.com/uc?id=1OnzEHhlJqNASnP1FHiHPnb2554agP9cZ\n",
            "To: /content/test_data.csv\n",
            "100%|██████████| 26.6M/26.6M [00:00<00:00, 41.1MB/s]\n"
          ]
        }
      ],
      "source": [
        "def download_data():\n",
        "    # URLs des fichiers sur Google Drive\n",
        "    train_url = 'https://drive.google.com/uc?id=1oElrtY8GECJGLFpcB8-P5H5nwTvfhcYk'\n",
        "    test_url = 'https://drive.google.com/uc?id=1OnzEHhlJqNASnP1FHiHPnb2554agP9cZ'\n",
        "\n",
        "    # Chemins de sauvegarde locaux\n",
        "    train_output = 'train_data.csv'\n",
        "    test_output = 'test_data.csv'\n",
        "\n",
        "    # Télécharger les fichiers\n",
        "    gdown.download(train_url, train_output, quiet=False)\n",
        "    gdown.download(test_url, test_output, quiet=False)\n",
        "\n",
        "# Appeler la fonction pour télécharger les données\n",
        "download_data()\n"
      ]
    },
    {
      "cell_type": "markdown",
      "metadata": {
        "id": "PpwvuTxWQIDp"
      },
      "source": [
        "Chargement des données en dataframe"
      ]
    },
    {
      "cell_type": "code",
      "execution_count": 9,
      "metadata": {
        "colab": {
          "base_uri": "https://localhost:8080/"
        },
        "id": "L21Ksw5xOyTA",
        "outputId": "bac2c7ce-6255-4a2b-b0a5-cc1fe68e1702"
      },
      "outputs": [
        {
          "output_type": "stream",
          "name": "stdout",
          "text": [
            "Training data shape:  (307511, 122)\n",
            "Testing data shape:  (48744, 121)\n"
          ]
        }
      ],
      "source": [
        "#importation des données de train\n",
        "app_train = pd.read_csv('/content/train_data.csv')\n",
        "print('Training data shape: ', app_train.shape)\n",
        "# Testing data features\n",
        "app_test = pd.read_csv('/content/test_data.csv')\n",
        "print('Testing data shape: ', app_test.shape)\n"
      ]
    },
    {
      "cell_type": "markdown",
      "metadata": {
        "id": "0UZmx9AmaJDg"
      },
      "source": [
        "Création d'une métrique personnalisée"
      ]
    },
    {
      "cell_type": "code",
      "execution_count": 10,
      "metadata": {
        "id": "nWjUHR2laRTo"
      },
      "outputs": [],
      "source": [
        "\n",
        "def weighted_cost_metric(y_true, y_pred, fp_weight=10, fn_weight=1):\n",
        "    \"\"\"\n",
        "    Fonction de coût personnalisée qui pénalise les faux positifs (FP) avec un poids plus élevé.\n",
        "\n",
        "    :param y_true: Labels réels.\n",
        "    :param y_pred: Labels prédits.\n",
        "    :param fp_weight: Poids appliqué aux faux positifs.\n",
        "    :param fn_weight: Poids appliqué aux faux négatifs.\n",
        "    :return: Score du coût pondéré.\n",
        "    \"\"\"\n",
        "    # Calculer la matrice de confusion\n",
        "    tn, fp, fn, tp = confusion_matrix(y_true, y_pred).ravel()\n",
        "\n",
        "    # Calcul du coût total\n",
        "    weighted_cost = (fp_weight * fp) + (fn_weight * fn)\n",
        "\n",
        "    return weighted_cost\n"
      ]
    },
    {
      "cell_type": "markdown",
      "metadata": {
        "id": "s2r724TQQdx2"
      },
      "source": [
        "Feature engeneering et correction des anomalies"
      ]
    },
    {
      "cell_type": "code",
      "execution_count": 11,
      "metadata": {
        "id": "0y0US_KCPmL0"
      },
      "outputs": [],
      "source": [
        "def add_domain_features_with_anomaly(train_df, test_df):\n",
        "    \"\"\"\n",
        "    Ajoute une colonne d'anomalie pour 'DAYS_EMPLOYED' et remplace les valeurs anormales,\n",
        "    puis applique les transformations sur les DataFrames de train et de test.\n",
        "\n",
        "    Args:\n",
        "        train_df (pd.DataFrame): Le DataFrame d'entraînement.\n",
        "        test_df (pd.DataFrame): Le DataFrame de test.\n",
        "\n",
        "    Returns:\n",
        "        train_df (pd.DataFrame): Le DataFrame d'entraînement avec les modifications.\n",
        "        test_df (pd.DataFrame): Le DataFrame de test avec les modifications.\n",
        "    \"\"\"\n",
        "\n",
        "    # Ajouter une colonne 'DAYS_EMPLOYED_ANOM' (anomalie) et remplacer 365243 par NaN\n",
        "    for df in [train_df, test_df]:\n",
        "        df['DAYS_EMPLOYED_ANOM'] = df[\"DAYS_EMPLOYED\"] == 365243\n",
        "        df['DAYS_EMPLOYED'].replace({365243: np.nan}, inplace=True)\n",
        "\n",
        "        # Ajouter les colonnes dérivées\n",
        "        df['CREDIT_INCOME_PERCENT'] = df['AMT_CREDIT'] / df['AMT_INCOME_TOTAL']\n",
        "        df['ANNUITY_INCOME_PERCENT'] = df['AMT_ANNUITY'] / df['AMT_INCOME_TOTAL']\n",
        "        df['CREDIT_TERM'] = df['AMT_ANNUITY'] / df['AMT_CREDIT']\n",
        "        df['DAYS_EMPLOYED_PERCENT'] = df['DAYS_EMPLOYED'] / df['DAYS_BIRTH']\n",
        "    print(\"Nouvelles colonnes ajoutées et anomalies corrigées\")\n",
        "\n",
        "    return train_df, test_df"
      ]
    },
    {
      "cell_type": "code",
      "execution_count": 12,
      "metadata": {
        "colab": {
          "base_uri": "https://localhost:8080/"
        },
        "id": "LKrQCtGpQoIt",
        "outputId": "baa1138d-8943-4d84-ca4c-6ce9968e1784"
      },
      "outputs": [
        {
          "output_type": "stream",
          "name": "stdout",
          "text": [
            "Nouvelles colonnes ajoutées et anomalies corrigées\n"
          ]
        }
      ],
      "source": [
        "app_train, app_test = add_domain_features_with_anomaly(app_train,app_test)"
      ]
    },
    {
      "cell_type": "code",
      "execution_count": 13,
      "metadata": {
        "colab": {
          "base_uri": "https://localhost:8080/"
        },
        "id": "oR62kBh0Qwl8",
        "outputId": "1f299c00-b375-4458-c148-051d4758ccdb"
      },
      "outputs": [
        {
          "output_type": "execute_result",
          "data": {
            "text/plain": [
              "{'TARGET'}"
            ]
          },
          "metadata": {},
          "execution_count": 13
        }
      ],
      "source": [
        "set(app_train.columns)-set(app_test.columns)"
      ]
    },
    {
      "cell_type": "code",
      "execution_count": 14,
      "metadata": {
        "colab": {
          "base_uri": "https://localhost:8080/"
        },
        "id": "HHr0GU6KbszM",
        "outputId": "95c50f2f-2f59-4a9f-a3f2-f08634057d64"
      },
      "outputs": [
        {
          "output_type": "execute_result",
          "data": {
            "text/plain": [
              "((307511, 127), (48744, 126))"
            ]
          },
          "metadata": {},
          "execution_count": 14
        }
      ],
      "source": [
        "(app_train.shape , app_test.shape)"
      ]
    },
    {
      "cell_type": "markdown",
      "metadata": {
        "id": "sAAd2WYMRTG0"
      },
      "source": [
        "Encodage des variables catégorielles"
      ]
    },
    {
      "cell_type": "code",
      "execution_count": 15,
      "metadata": {
        "id": "zDMmf_J3RWne"
      },
      "outputs": [],
      "source": [
        "import os\n",
        "import pickle\n",
        "import pandas as pd\n",
        "from sklearn.preprocessing import LabelEncoder\n",
        "\n",
        "def encode_categorical_variables(train_data, test_data, target_column, model_folder):\n",
        "    \"\"\"\n",
        "    Encode les variables catégorielles en deux étapes :\n",
        "    1. Utilise Label Encoding pour les colonnes avec 2 catégories ou moins.\n",
        "    2. Utilise One-Hot Encoding pour toutes les autres variables catégorielles.\n",
        "    Puis aligne les colonnes des jeux de données et réinsère la variable cible.\n",
        "\n",
        "    Les objets utilisés pour l'encodage (dictionnaire de LabelEncoders, colonnes One-Hot) sont enregistrés dans `model_folder`.\n",
        "\n",
        "    :param train_data: DataFrame des données d'entraînement\n",
        "    :param test_data: DataFrame des données de test\n",
        "    :param target_column: Nom de la colonne cible dans les données d'entraînement\n",
        "    :param model_folder: Dossier où enregistrer les objets d'encodage\n",
        "    :return: DataFrames transformés (train_data, test_data)\n",
        "    \"\"\"\n",
        "\n",
        "    # Extraire la variable cible\n",
        "    train_labels = train_data[target_column]\n",
        "\n",
        "    # Initialiser le dictionnaire des LabelEncoders\n",
        "    label_encoders = {}\n",
        "    le_count = 0\n",
        "\n",
        "    # Appliquer le Label Encoding pour les colonnes avec 2 catégories ou moins\n",
        "    for col in train_data.columns:\n",
        "        if train_data[col].dtype == 'object':\n",
        "            # Si 2 catégories ou moins\n",
        "            if len(train_data[col].unique()) <= 2:\n",
        "                le = LabelEncoder()\n",
        "                # Entraîner le label encoder sur les données d'entraînement\n",
        "                le.fit(train_data[col])\n",
        "                # Transformer les colonnes d'entraînement et de test\n",
        "                train_data[col] = le.transform(train_data[col])\n",
        "                test_data[col] = le.transform(test_data[col])\n",
        "\n",
        "                # Ajouter le LabelEncoder au dictionnaire\n",
        "                label_encoders[col] = le\n",
        "                le_count += 1\n",
        "\n",
        "    print(f'{le_count} colonnes ont été label encodées.')\n",
        "\n",
        "    # Si des colonnes ont été label encodées, enregistrer le dictionnaire de LabelEncoders\n",
        "    if label_encoders:\n",
        "        with open(os.path.join(model_folder, 'label_encoders.pkl'), 'wb') as f:\n",
        "            pickle.dump(label_encoders, f)\n",
        "\n",
        "    # Appliquer le One-Hot Encoding sur toutes les autres colonnes catégorielles\n",
        "    train_data = pd.get_dummies(train_data)\n",
        "    test_data = pd.get_dummies(test_data)\n",
        "\n",
        "    # Enregistrer les colonnes utilisées pour le One-Hot Encoding\n",
        "    with open(os.path.join(model_folder, 'one_hot_columns.pkl'), 'wb') as f:\n",
        "        pickle.dump(train_data.columns.tolist(), f)\n",
        "\n",
        "    # Aligner les colonnes des jeux de données d'entraînement et de test\n",
        "    train_data, test_data = train_data.align(test_data, join='inner', axis=1)\n",
        "    # Enregistrer les colonnes alignées (une seule fois)\n",
        "    aligned_columns = {\n",
        "    'aligned_columns': train_data.columns.tolist()  # train_data et test_data ont les mêmes colonnes ici\n",
        "      }\n",
        "    with open(os.path.join(model_folder, 'aligned_columns.json'), 'w') as f:\n",
        "      json.dump(aligned_columns, f)\n",
        "    # Réinsérer la colonne cible dans le jeu d'entraînement\n",
        "    train_data[target_column] = train_labels\n",
        "\n",
        "    print('Forme des données d\\'entraînement après One-Hot Encoding et alignement: ', train_data.shape)\n",
        "    print('Forme des données de test après One-Hot Encoding et alignement: ', test_data.shape)\n",
        "\n",
        "    return train_data, test_data\n",
        "\n",
        "\n"
      ]
    },
    {
      "cell_type": "code",
      "execution_count": 16,
      "metadata": {
        "colab": {
          "base_uri": "https://localhost:8080/"
        },
        "id": "J5eZbQW0Riud",
        "outputId": "862a9925-1f4e-4917-865f-43637044efd0"
      },
      "outputs": [
        {
          "output_type": "stream",
          "name": "stdout",
          "text": [
            "3 colonnes ont été label encodées.\n",
            "Forme des données d'entraînement après One-Hot Encoding et alignement:  (307511, 245)\n",
            "Forme des données de test après One-Hot Encoding et alignement:  (48744, 244)\n"
          ]
        }
      ],
      "source": [
        "app_train , app_test = encode_categorical_variables(app_train, app_test, \"TARGET\", model_folder)"
      ]
    },
    {
      "cell_type": "code",
      "execution_count": 17,
      "metadata": {
        "colab": {
          "base_uri": "https://localhost:8080/"
        },
        "id": "1tF_VqY6b4PT",
        "outputId": "96a2fc3c-b384-42d5-f127-82bf8d90270b"
      },
      "outputs": [
        {
          "output_type": "execute_result",
          "data": {
            "text/plain": [
              "((307511, 245), (48744, 244))"
            ]
          },
          "metadata": {},
          "execution_count": 17
        }
      ],
      "source": [
        "(app_train.shape , app_test.shape)"
      ]
    },
    {
      "cell_type": "markdown",
      "metadata": {
        "id": "pMr01y5fR8nu"
      },
      "source": [
        "Transformation mathématique des colonnes avec un boxcox si les données sont asymétriques"
      ]
    },
    {
      "cell_type": "code",
      "execution_count": 18,
      "metadata": {
        "id": "kwvzLhHfSLyr"
      },
      "outputs": [],
      "source": [
        "def apply_boxcox_transformation(train_data, test_data, skew_threshold=0.75, save_path=model_folder):\n",
        "    \"\"\"\n",
        "    Applique la transformation Box-Cox sur les colonnes numériques du DataFrame qui sont asymétriques (skewed)\n",
        "    dans les jeux d'entraînement et de test, et enregistre les informations utiles (colonnes transformées et lambdas).\n",
        "\n",
        "    :param train_data: DataFrame d'entraînement\n",
        "    :param test_data: DataFrame de test\n",
        "    :param skew_threshold: Seuil de skewness pour décider de l'application de la transformation Box-Cox\n",
        "    :param save_path: Chemin où enregistrer les informations du modèle (colonnes et lambdas)\n",
        "    :return: DataFrames transformés (train_data, test_data) et liste des colonnes transformées avec lambda\n",
        "    \"\"\"\n",
        "\n",
        "    # Sélectionner les colonnes numériques dans les deux datasets\n",
        "    numeric_cols = train_data.select_dtypes(include=[np.number]).columns\n",
        "\n",
        "    # Initialiser une liste pour garder la trace des colonnes transformées\n",
        "    transformed_cols = []\n",
        "    lambda_params = {}\n",
        "\n",
        "    # Appliquer la transformation sur chaque colonne numérique\n",
        "    for col in numeric_cols:\n",
        "        # Vérifier que toutes les valeurs dans les deux jeux de données sont strictement positives\n",
        "        if (train_data[col] > 0).all() and (test_data[col] > 0).all():\n",
        "            # Calculer la skewness sur le jeu d'entraînement\n",
        "            col_skew = skew(train_data[col])\n",
        "\n",
        "            # Appliquer Box-Cox si l'asymétrie dépasse le seuil\n",
        "            if abs(col_skew) > skew_threshold:\n",
        "                # Appliquer la transformation Box-Cox sur le jeu d'entraînement\n",
        "                train_data[col], fitted_lambda = boxcox(train_data[col])\n",
        "\n",
        "                # Appliquer la transformation Box-Cox sur le jeu de test avec le même lambda\n",
        "                test_data[col] = boxcox(test_data[col], lmbda=fitted_lambda)\n",
        "\n",
        "                # Ajouter la colonne transformée et le lambda à la liste\n",
        "                transformed_cols.append(col)\n",
        "                lambda_params[col] = fitted_lambda\n",
        "\n",
        "    # Afficher les colonnes transformées et les paramètres lambda utilisés\n",
        "    print(f\"Colonnes transformées avec Box-Cox : {transformed_cols}\")\n",
        "    print(f\"Paramètres lambda utilisés : {lambda_params}\")\n",
        "\n",
        "    # Sauvegarder les colonnes transformées et les paramètres lambda dans des fichiers JSON\n",
        "    with open(f'{save_path}/transformed_columns.json', 'w') as f:\n",
        "        json.dump(transformed_cols, f)\n",
        "\n",
        "    with open(f'{save_path}/lambda_params.json', 'w') as f:\n",
        "        json.dump(lambda_params, f)\n",
        "\n",
        "    return train_data, test_data, transformed_cols, lambda_params"
      ]
    },
    {
      "cell_type": "code",
      "execution_count": 19,
      "metadata": {
        "colab": {
          "base_uri": "https://localhost:8080/"
        },
        "id": "LFjVlwJ5ST9u",
        "outputId": "7893254a-8862-4625-f578-0ffa54d6df51"
      },
      "outputs": [
        {
          "output_type": "stream",
          "name": "stdout",
          "text": [
            "Colonnes transformées avec Box-Cox : ['AMT_INCOME_TOTAL', 'AMT_CREDIT', 'REGION_POPULATION_RELATIVE', 'CREDIT_INCOME_PERCENT']\n",
            "Paramètres lambda utilisés : {'AMT_INCOME_TOTAL': -0.09313337858337999, 'AMT_CREDIT': 0.19208190760257246, 'REGION_POPULATION_RELATIVE': 0.26957001547446924, 'CREDIT_INCOME_PERCENT': 0.13555837759354478}\n"
          ]
        }
      ],
      "source": [
        "train_data, test_data, transformed_cols, lambda_params = apply_boxcox_transformation(app_train,app_test, save_path=model_folder)"
      ]
    },
    {
      "cell_type": "code",
      "execution_count": 20,
      "metadata": {
        "colab": {
          "base_uri": "https://localhost:8080/"
        },
        "id": "_Xy0FZ6Lb8bI",
        "outputId": "00246b7f-aa85-4858-8dd8-2e6985178f77"
      },
      "outputs": [
        {
          "output_type": "execute_result",
          "data": {
            "text/plain": [
              "((307511, 245), (48744, 244))"
            ]
          },
          "metadata": {},
          "execution_count": 20
        }
      ],
      "source": [
        "(app_train.shape , app_test.shape)"
      ]
    },
    {
      "cell_type": "code",
      "source": [
        "correlation_matrix = train_data.corr()\n",
        "\n",
        "# Extraire les corrélations avec la variable 'TARGET'\n",
        "target_correlation = correlation_matrix['TARGET']\n",
        "\n",
        "# Filtrer les corrélations avec un seuil\n",
        "threshold = 0.9\n",
        "high_corr_with_target = target_correlation[abs(target_correlation) > threshold]"
      ],
      "metadata": {
        "id": "stX0KPvwiM1w"
      },
      "execution_count": 21,
      "outputs": []
    },
    {
      "cell_type": "code",
      "source": [
        "print(len(high_corr_with_target))"
      ],
      "metadata": {
        "colab": {
          "base_uri": "https://localhost:8080/"
        },
        "id": "PBnA0QZziny2",
        "outputId": "022fbef8-3729-40ca-ea2f-3a474ea29af9"
      },
      "execution_count": 22,
      "outputs": [
        {
          "output_type": "stream",
          "name": "stdout",
          "text": [
            "1\n"
          ]
        }
      ]
    },
    {
      "cell_type": "code",
      "source": [
        "print(high_corr_with_target)"
      ],
      "metadata": {
        "colab": {
          "base_uri": "https://localhost:8080/"
        },
        "id": "iopnRvofkFle",
        "outputId": "5b4f2fc6-414d-48fd-89bc-f49a63684702"
      },
      "execution_count": 23,
      "outputs": [
        {
          "output_type": "stream",
          "name": "stdout",
          "text": [
            "TARGET    1.0\n",
            "Name: TARGET, dtype: float64\n"
          ]
        }
      ]
    },
    {
      "cell_type": "markdown",
      "metadata": {
        "id": "q7a0M0-2SdyB"
      },
      "source": [
        "Normalisation des données"
      ]
    },
    {
      "cell_type": "code",
      "execution_count": 24,
      "metadata": {
        "id": "r_6xxff0SgN-"
      },
      "outputs": [],
      "source": [
        "import pandas as pd\n",
        "from sklearn.preprocessing import StandardScaler\n",
        "import joblib\n",
        "\n",
        "def normalize_train_test(train_data, test_data, save_path=model_folder):\n",
        "    \"\"\"\n",
        "    Normalise les données d'entraînement et de test en ajustant le scaler sur les données d'entraînement\n",
        "    et enregistre les paramètres de standardisation pour réutilisation dans le pipeline d'inférence.\n",
        "\n",
        "    :param train_data: DataFrame d'entraînement\n",
        "    :param test_data: DataFrame de test\n",
        "    :param save_path: Chemin où enregistrer le scaler et les informations de normalisation\n",
        "    :return: DataFrames normalisés (train_features_scaled, test_features_scaled)\n",
        "    \"\"\"\n",
        "\n",
        "    # Séparer la colonne TARGET des données d'entraînement\n",
        "    train_target = train_data['TARGET']\n",
        "    train_features = train_data.drop(columns=['TARGET'])\n",
        "\n",
        "    # Initialiser le scaler\n",
        "    scaler = StandardScaler()\n",
        "\n",
        "    # Ajuster le scaler sur les données d'entraînement et transformer les données d'entraînement\n",
        "    train_features_scaled = scaler.fit_transform(train_features)\n",
        "    # ajout des colonnes utilisées par le scaler\n",
        "    train_columns = train_features.columns.tolist()\n",
        "    # Transformer les données de test\n",
        "    test_features_scaled = scaler.transform(test_data)\n",
        "\n",
        "    # Convertir les données normalisées en DataFrame\n",
        "    train_features_scaled = pd.DataFrame(train_features_scaled, columns=train_features.columns)\n",
        "    test_features_scaled = pd.DataFrame(test_features_scaled, columns=test_data.columns)\n",
        "\n",
        "    # Ajouter la colonne TARGET aux données d'entraînement normalisées\n",
        "    train_features_scaled['TARGET'] = train_target.values\n",
        "\n",
        "    # Sauvegarder le scaler pour réutilisation\n",
        "    scaler_path = f'{save_path}/scaler.pkl'\n",
        "    joblib.dump(scaler, scaler_path)\n",
        "    print(f\"Scaler sauvegardé à : {scaler_path}\")\n",
        "    scaler_columns_path = f'{save_path}/scaler_columns.json'\n",
        "    with open(scaler_columns_path, 'w') as f:\n",
        "        json.dump(train_columns, f)\n",
        "    return train_features_scaled, test_features_scaled\n",
        "\n",
        "\n",
        "\n"
      ]
    },
    {
      "cell_type": "code",
      "execution_count": 25,
      "metadata": {
        "colab": {
          "base_uri": "https://localhost:8080/"
        },
        "id": "98bNotvRSnkW",
        "outputId": "6b7b771d-8626-40aa-83bf-8c2798790406"
      },
      "outputs": [
        {
          "output_type": "stream",
          "name": "stdout",
          "text": [
            "Scaler sauvegardé à : /content/drive/MyDrive/Colab Notebooks/data_scoring/model_20241007_111048/scaler.pkl\n"
          ]
        }
      ],
      "source": [
        "app_train , app_test = normalize_train_test(train_data,test_data, save_path=model_folder)"
      ]
    },
    {
      "cell_type": "markdown",
      "metadata": {
        "id": "UTLeuJmSWoiK"
      },
      "source": [
        "Entrainement du modèle avec dummy classifier"
      ]
    },
    {
      "cell_type": "code",
      "execution_count": 26,
      "metadata": {
        "colab": {
          "base_uri": "https://localhost:8080/"
        },
        "id": "b9YE4RUTXq-_",
        "outputId": "5b5da7b2-30fd-4e9a-d088-47d1a6e0ebf0"
      },
      "outputs": [
        {
          "output_type": "stream",
          "name": "stdout",
          "text": [
            "List of categorical features: []\n"
          ]
        }
      ],
      "source": [
        "categorical_features = app_train.select_dtypes(include=['object', 'category']).columns.tolist()\n",
        "print('List of categorical features:', categorical_features)"
      ]
    },
    {
      "cell_type": "code",
      "execution_count": 27,
      "metadata": {
        "id": "od186SUiHk5M"
      },
      "outputs": [],
      "source": [
        "\n",
        "\n",
        "def dummy_classifier_with_mlflow_optimise(features, cat_features=None, save_path=\"model_folder\", exp_name=\"dummies_classifier_exp\"):\n",
        "    \"\"\"\n",
        "    Entraîne un DummyClassifier et enregistre les résultats dans MLflow.\n",
        "\n",
        "    :param features: DataFrame contenant les features et la colonne cible 'TARGET'.\n",
        "    :param cat_features: Ignoré pour DummyClassifier mais inclus pour la cohérence.\n",
        "    :param save_path: Chemin pour sauvegarder le modèle.\n",
        "    :param exp_name: Nom de l'expérience MLflow.\n",
        "    \"\"\"\n",
        "\n",
        "    # Séparer les features et la cible\n",
        "    X = features.drop(columns=['TARGET'])\n",
        "    y = features['TARGET']\n",
        "\n",
        "    # Créer un DummyClassifier avec une stratégie simple (most_frequent)\n",
        "    dummy_clf = DummyClassifier(strategy=\"most_frequent\", random_state=42)\n",
        "\n",
        "    # Démarrer une expérience MLflow\n",
        "    mlflow.set_experiment(exp_name)\n",
        "    with mlflow.start_run(run_name=\"dummy_classifier_run\"):\n",
        "        # Entraîner sur l'ensemble des données d'entraînement\n",
        "        dummy_clf.fit(X, y)\n",
        "\n",
        "        # Prédictions sur les données d'entraînement\n",
        "        y_pred = dummy_clf.predict(X)\n",
        "\n",
        "        # Calculer la métrique AUC\n",
        "        auc_score = roc_auc_score(y, dummy_clf.predict_proba(X)[:, 1]) if len(set(y)) == 2 else None\n",
        "\n",
        "        # Calculer l'accuracy sur l'ensemble des données\n",
        "        accuracy = accuracy_score(y, y_pred)\n",
        "\n",
        "        # Calculer la métrique de coût pondéré\n",
        "        weighted_cost = weighted_cost_metric(y, y_pred, fp_weight=10)\n",
        "\n",
        "        # Log des paramètres et métriques dans MLflow\n",
        "        mlflow.log_param(\"strategy\", \"most_frequent\")\n",
        "        mlflow.log_metric(\"auc_score\", auc_score if auc_score is not None else 0)\n",
        "        mlflow.log_metric(\"accuracy\", accuracy)\n",
        "        mlflow.log_metric(\"weighted_cost\", weighted_cost)\n",
        "\n",
        "        # Créer une DataFrame avec les métriques\n",
        "        metrics_df = pd.DataFrame({\n",
        "            'Metric': ['AUC', 'Accuracy', 'Weighted Cost'],\n",
        "            'Score': [auc_score if auc_score is not None else 0, accuracy, weighted_cost]\n",
        "        })\n",
        "\n",
        "        print(metrics_df)  # Afficher les résultats\n",
        "        metrics_df.to_csv(\"metrics_df.csv\", index=False)  # Sauvegarder la DataFrame en CSV\n",
        "        mlflow.log_artifact(\"metrics_df.csv\")\n",
        "\n",
        "        # Créer le répertoire de sauvegarde si nécessaire\n",
        "        if not os.path.exists(save_path):\n",
        "            os.makedirs(save_path)\n",
        "\n",
        "        # Sauvegarder le modèle localement\n",
        "        model_save_path = os.path.join(save_path, \"dummy_classifier_model.pkl\")\n",
        "        joblib.dump(dummy_clf, model_save_path)\n",
        "\n",
        "        # Logger le modèle dans MLflow\n",
        "        mlflow.sklearn.log_model(dummy_clf, \"dummy_model\")\n",
        "        mlflow.log_artifact(model_save_path)\n",
        "\n",
        "        print(f\"Dummy classifier model logged under '{exp_name}' in MLflow and saved locally at {model_save_path}.\")\n",
        "\n",
        "    return dummy_clf, metrics_df\n"
      ]
    },
    {
      "cell_type": "code",
      "execution_count": 28,
      "metadata": {
        "colab": {
          "base_uri": "https://localhost:8080/"
        },
        "id": "DNNOVbi2Qy3A",
        "outputId": "505deabf-473d-4851-a3ba-71862f48f97c"
      },
      "outputs": [
        {
          "output_type": "stream",
          "name": "stderr",
          "text": [
            "2024/10/07 11:12:26 INFO mlflow.tracking.fluent: Experiment with name 'Dummie_classifier' does not exist. Creating a new experiment.\n"
          ]
        },
        {
          "output_type": "stream",
          "name": "stdout",
          "text": [
            "          Metric         Score\n",
            "0            AUC      0.500000\n",
            "1       Accuracy      0.919271\n",
            "2  Weighted Cost  24825.000000\n"
          ]
        },
        {
          "output_type": "stream",
          "name": "stderr",
          "text": [
            "2024/10/07 11:12:32 WARNING mlflow.models.model: Model logged without a signature and input example. Please set `input_example` parameter when logging the model to auto infer the model signature.\n"
          ]
        },
        {
          "output_type": "stream",
          "name": "stdout",
          "text": [
            "Dummy classifier model logged under 'Dummie_classifier' in MLflow and saved locally at model_folder/dummy_classifier_model.pkl.\n"
          ]
        },
        {
          "output_type": "execute_result",
          "data": {
            "text/plain": [
              "(DummyClassifier(random_state=42, strategy='most_frequent'),\n",
              "           Metric         Score\n",
              " 0            AUC      0.500000\n",
              " 1       Accuracy      0.919271\n",
              " 2  Weighted Cost  24825.000000)"
            ]
          },
          "metadata": {},
          "execution_count": 28
        }
      ],
      "source": [
        "dummy_classifier_with_mlflow_optimise(app_train, cat_features=categorical_features, save_path=\"model_folder\", exp_name=\"Dummie_classifier\")"
      ]
    },
    {
      "cell_type": "markdown",
      "metadata": {
        "id": "Yivu-7KLnmBr"
      },
      "source": [
        "entrainement avec une regrression logistique H20"
      ]
    },
    {
      "cell_type": "code",
      "execution_count": 29,
      "metadata": {
        "id": "sm-mN6KPnqna"
      },
      "outputs": [],
      "source": [
        "def logistic_regression_with_mlflow_optimise(features, cat_features=None, save_path=\"model_folder\", exp_name=\"logistic_regression_h2o_exp\"):\n",
        "    \"\"\"\n",
        "    Entraîne une régression logistique via H2O et enregistre les résultats dans MLflow.\n",
        "\n",
        "    :param features: DataFrame contenant les features et la colonne cible 'TARGET'.\n",
        "    :param cat_features: Liste des features catégoriques (non utilisé ici, mais ajouté pour cohérence).\n",
        "    :param save_path: Chemin pour sauvegarder le modèle.\n",
        "    :param exp_name: Nom de l'expérience MLflow.\n",
        "    \"\"\"\n",
        "\n",
        "    # Initialiser H2O\n",
        "    h2o.init()\n",
        "\n",
        "    # Convertir le DataFrame en H2OFrame\n",
        "    h2o_df = h2o.H2OFrame(features)\n",
        "\n",
        "    # Séparer les features et la cible\n",
        "    X = features.columns.difference(['TARGET']).tolist()\n",
        "    y = 'TARGET'\n",
        "\n",
        "    # Créer un modèle de régression logistique via H2O\n",
        "    logistic_model = H2OGeneralizedLinearEstimator(family=\"binomial\", lambda_=0.0)\n",
        "\n",
        "    # Démarrer une expérience MLflow\n",
        "    mlflow.set_experiment(exp_name)\n",
        "    with mlflow.start_run(run_name=\"logistic_regression_run\"):\n",
        "        # Entraîner le modèle sur l'ensemble des données\n",
        "        logistic_model.train(x=X, y=y, training_frame=h2o_df)\n",
        "\n",
        "        # Faire des prédictions sur l'ensemble d'entraînement\n",
        "        predictions = logistic_model.predict(h2o_df).as_data_frame()['p1']\n",
        "\n",
        "        # Prédictions binaires (classes) sur l'ensemble d'entraînement\n",
        "        y_pred = (predictions > 0.5).astype(int)\n",
        "\n",
        "        # Calculer les métriques\n",
        "        auc_score = roc_auc_score(features['TARGET'], predictions)\n",
        "        accuracy = accuracy_score(features['TARGET'], y_pred)\n",
        "        weighted_cost = weighted_cost_metric(features['TARGET'], y_pred, fp_weight=10)\n",
        "\n",
        "        # Log des paramètres et métriques dans MLflow\n",
        "        mlflow.log_param(\"lambda\", logistic_model.lambda_)\n",
        "        mlflow.log_param(\"family\", logistic_model.family)\n",
        "        mlflow.log_metric(\"auc_score\", auc_score)\n",
        "        mlflow.log_metric(\"accuracy\", accuracy)\n",
        "        mlflow.log_metric(\"weighted_cost\", weighted_cost)  # Logging weighted cost\n",
        "\n",
        "        # Créer une DataFrame avec les métriques\n",
        "        metrics_df = pd.DataFrame({\n",
        "            'Metric': ['AUC', 'Accuracy', 'Weighted Cost'],\n",
        "            'Score': [auc_score, accuracy, weighted_cost]\n",
        "        })\n",
        "\n",
        "        print(metrics_df)  # Afficher les résultats\n",
        "        metrics_df.to_csv(\"metrics_df.csv\", index=False)  # Sauvegarder la DataFrame en CSV\n",
        "        mlflow.log_artifact(\"metrics_df.csv\")\n",
        "\n",
        "        # Créer le répertoire de sauvegarde si nécessaire\n",
        "        if not os.path.exists(save_path):\n",
        "            os.makedirs(save_path)\n",
        "\n",
        "        # Sauvegarder le modèle H2O localement (il sera sauvegardé sous forme binaire)\n",
        "        model_save_path = os.path.join(save_path, \"logistic_regression_h2o_model\")\n",
        "        logistic_model.save_mojo(model_save_path)\n",
        "\n",
        "        # Logger le modèle dans MLflow\n",
        "        mlflow.log_artifact(model_save_path)\n",
        "\n",
        "        print(f\"Logistic regression model logged under '{exp_name}' in MLflow and saved locally at {model_save_path}.\")\n",
        "\n",
        "    # Arrêter H2O\n",
        "    h2o.shutdown(prompt=False)\n",
        "\n",
        "    return logistic_model, metrics_df\n"
      ]
    },
    {
      "cell_type": "code",
      "execution_count": 30,
      "metadata": {
        "colab": {
          "base_uri": "https://localhost:8080/",
          "height": 821
        },
        "id": "tGs1U2ggpsFl",
        "outputId": "330c8bc7-03d2-42cc-d56d-dd0e4210b6e9"
      },
      "outputs": [
        {
          "output_type": "stream",
          "name": "stdout",
          "text": [
            "Checking whether there is an H2O instance running at http://localhost:54321..... not found.\n",
            "Attempting to start a local H2O server...\n",
            "  Java Version: openjdk version \"11.0.24\" 2024-07-16; OpenJDK Runtime Environment (build 11.0.24+8-post-Ubuntu-1ubuntu322.04); OpenJDK 64-Bit Server VM (build 11.0.24+8-post-Ubuntu-1ubuntu322.04, mixed mode, sharing)\n",
            "  Starting server from /usr/local/lib/python3.10/dist-packages/h2o/backend/bin/h2o.jar\n",
            "  Ice root: /tmp/tmps_3mv1br\n",
            "  JVM stdout: /tmp/tmps_3mv1br/h2o_unknownUser_started_from_python.out\n",
            "  JVM stderr: /tmp/tmps_3mv1br/h2o_unknownUser_started_from_python.err\n",
            "  Server is running at http://127.0.0.1:54321\n",
            "Connecting to H2O server at http://127.0.0.1:54321 ... successful.\n"
          ]
        },
        {
          "output_type": "display_data",
          "data": {
            "text/plain": [
              "--------------------------  -----------------------------------------------------------------------------------------\n",
              "H2O_cluster_uptime:         02 secs\n",
              "H2O_cluster_timezone:       Etc/UTC\n",
              "H2O_data_parsing_timezone:  UTC\n",
              "H2O_cluster_version:        3.46.0.5\n",
              "H2O_cluster_version_age:    1 month and 7 days\n",
              "H2O_cluster_name:           H2O_from_python_unknownUser_werxji\n",
              "H2O_cluster_total_nodes:    1\n",
              "H2O_cluster_free_memory:    3.170 Gb\n",
              "H2O_cluster_total_cores:    2\n",
              "H2O_cluster_allowed_cores:  2\n",
              "H2O_cluster_status:         locked, healthy\n",
              "H2O_connection_url:         http://127.0.0.1:54321\n",
              "H2O_connection_proxy:       {\"http\": null, \"https\": null, \"colab_language_server\": \"/usr/colab/bin/language_service\"}\n",
              "H2O_internal_security:      False\n",
              "Python_version:             3.10.12 final\n",
              "--------------------------  -----------------------------------------------------------------------------------------"
            ],
            "text/html": [
              "\n",
              "<style>\n",
              "\n",
              "#h2o-table-1.h2o-container {\n",
              "  overflow-x: auto;\n",
              "}\n",
              "#h2o-table-1 .h2o-table {\n",
              "  /* width: 100%; */\n",
              "  margin-top: 1em;\n",
              "  margin-bottom: 1em;\n",
              "}\n",
              "#h2o-table-1 .h2o-table caption {\n",
              "  white-space: nowrap;\n",
              "  caption-side: top;\n",
              "  text-align: left;\n",
              "  /* margin-left: 1em; */\n",
              "  margin: 0;\n",
              "  font-size: larger;\n",
              "}\n",
              "#h2o-table-1 .h2o-table thead {\n",
              "  white-space: nowrap; \n",
              "  position: sticky;\n",
              "  top: 0;\n",
              "  box-shadow: 0 -1px inset;\n",
              "}\n",
              "#h2o-table-1 .h2o-table tbody {\n",
              "  overflow: auto;\n",
              "}\n",
              "#h2o-table-1 .h2o-table th,\n",
              "#h2o-table-1 .h2o-table td {\n",
              "  text-align: right;\n",
              "  /* border: 1px solid; */\n",
              "}\n",
              "#h2o-table-1 .h2o-table tr:nth-child(even) {\n",
              "  /* background: #F5F5F5 */\n",
              "}\n",
              "\n",
              "</style>      \n",
              "<div id=\"h2o-table-1\" class=\"h2o-container\">\n",
              "  <table class=\"h2o-table\">\n",
              "    <caption></caption>\n",
              "    <thead></thead>\n",
              "    <tbody><tr><td>H2O_cluster_uptime:</td>\n",
              "<td>02 secs</td></tr>\n",
              "<tr><td>H2O_cluster_timezone:</td>\n",
              "<td>Etc/UTC</td></tr>\n",
              "<tr><td>H2O_data_parsing_timezone:</td>\n",
              "<td>UTC</td></tr>\n",
              "<tr><td>H2O_cluster_version:</td>\n",
              "<td>3.46.0.5</td></tr>\n",
              "<tr><td>H2O_cluster_version_age:</td>\n",
              "<td>1 month and 7 days</td></tr>\n",
              "<tr><td>H2O_cluster_name:</td>\n",
              "<td>H2O_from_python_unknownUser_werxji</td></tr>\n",
              "<tr><td>H2O_cluster_total_nodes:</td>\n",
              "<td>1</td></tr>\n",
              "<tr><td>H2O_cluster_free_memory:</td>\n",
              "<td>3.170 Gb</td></tr>\n",
              "<tr><td>H2O_cluster_total_cores:</td>\n",
              "<td>2</td></tr>\n",
              "<tr><td>H2O_cluster_allowed_cores:</td>\n",
              "<td>2</td></tr>\n",
              "<tr><td>H2O_cluster_status:</td>\n",
              "<td>locked, healthy</td></tr>\n",
              "<tr><td>H2O_connection_url:</td>\n",
              "<td>http://127.0.0.1:54321</td></tr>\n",
              "<tr><td>H2O_connection_proxy:</td>\n",
              "<td>{\"http\": null, \"https\": null, \"colab_language_server\": \"/usr/colab/bin/language_service\"}</td></tr>\n",
              "<tr><td>H2O_internal_security:</td>\n",
              "<td>False</td></tr>\n",
              "<tr><td>Python_version:</td>\n",
              "<td>3.10.12 final</td></tr></tbody>\n",
              "  </table>\n",
              "</div>\n"
            ]
          },
          "metadata": {}
        },
        {
          "output_type": "stream",
          "name": "stdout",
          "text": [
            "Parse progress: |████████████████████████████████████████████████████████████████| (done) 100%\n"
          ]
        },
        {
          "output_type": "stream",
          "name": "stderr",
          "text": [
            "2024/10/07 11:15:24 INFO mlflow.tracking.fluent: Experiment with name 'logistic_regression_h2o_exp' does not exist. Creating a new experiment.\n"
          ]
        },
        {
          "output_type": "stream",
          "name": "stdout",
          "text": [
            "glm Model Build progress: |██████████████████████████████████████████████████████| (done) 100%\n",
            "glm prediction progress: |███████████████████████████████████████████████████████| (done) 100%\n"
          ]
        },
        {
          "output_type": "stream",
          "name": "stderr",
          "text": [
            "/usr/local/lib/python3.10/dist-packages/h2o/frame.py:1981: H2ODependencyWarning: Converting H2O frame to pandas dataframe using single-thread.  For faster conversion using multi-thread, install polars and pyarrow and use it as pandas_df = h2o_df.as_data_frame(use_multi_thread=True)\n",
            "\n",
            "  warnings.warn(\"Converting H2O frame to pandas dataframe using single-thread.  For faster conversion using\"\n"
          ]
        },
        {
          "output_type": "stream",
          "name": "stdout",
          "text": [
            "          Metric         Score\n",
            "0            AUC      0.767842\n",
            "1       Accuracy      0.919587\n",
            "2  Weighted Cost  28967.000000\n",
            "Logistic regression model logged under 'logistic_regression_h2o_exp' in MLflow and saved locally at /content/drive/MyDrive/Colab Notebooks/data_scoring/model_20241007_111048/logistic_regression_h2o_model.\n",
            "H2O session _sid_86aa closed.\n"
          ]
        },
        {
          "output_type": "stream",
          "name": "stderr",
          "text": [
            "<ipython-input-29-7ce275c8b63e>:72: H2ODeprecationWarning: Deprecated, use ``h2o.cluster().shutdown()``.\n",
            "  h2o.shutdown(prompt=False)\n"
          ]
        }
      ],
      "source": [
        "logistic_model , metrics_logistique_reg = logistic_regression_with_mlflow_optimise(app_train, cat_features=categorical_features, save_path=model_folder, exp_name=\"logistic_regression_h2o_exp\")"
      ]
    },
    {
      "cell_type": "code",
      "execution_count": 30,
      "metadata": {
        "id": "F6iTpaXdpuAE"
      },
      "outputs": [],
      "source": []
    },
    {
      "cell_type": "markdown",
      "metadata": {
        "id": "ySInS804ni4b"
      },
      "source": [
        "Entrainement avec catboost"
      ]
    },
    {
      "cell_type": "code",
      "execution_count": 31,
      "metadata": {
        "id": "KkDvkr0mWift"
      },
      "outputs": [],
      "source": [
        "\n",
        "\n",
        "def catboost_model_with_mlflow_optimise(features, test_features, cat_features, n_folds=5, save_path='model_folder', exp_name=\"experiment_name\", run=\"run name\"):\n",
        "    \"\"\"\n",
        "    Entraîne et teste un modèle CatBoost en utilisant la validation croisée avec suivi MLflow et optimisation Optuna.\n",
        "    Enregistre le modèle, les importances des caractéristiques et les métriques dans un dossier.\n",
        "\n",
        "    Paramètres\n",
        "    ----------\n",
        "    features (pd.DataFrame): DataFrame des caractéristiques d'entraînement avec la colonne TARGET.\n",
        "    test_features (pd.DataFrame): DataFrame des caractéristiques de test.\n",
        "    cat_features (list): Liste des noms des caractéristiques catégorielles.\n",
        "    n_folds (int, optionnel): Nombre de plis à utiliser pour la validation croisée (défaut: 5).\n",
        "    save_path (str, optionnel): Dossier dans lequel enregistrer le modèle et les informations.\n",
        "\n",
        "    Retourne\n",
        "    -------\n",
        "    submission (pd.DataFrame): Prédictions sur les données de test.\n",
        "    feature_importances (pd.DataFrame): Importances des caractéristiques du modèle.\n",
        "    metrics (pd.DataFrame): Métriques AUC de validation et d'entraînement pour chaque pli.\n",
        "    \"\"\"\n",
        "\n",
        "    # Configurer le suivi MLflow, les données seront stockées dans Google Drive\n",
        "    mlflow.set_experiment(exp_name)\n",
        "\n",
        "    with mlflow.start_run(run_name=run):\n",
        "        # Log des informations de base\n",
        "        mlflow.log_param('n_folds', n_folds)\n",
        "\n",
        "        # Créer le dossier de sauvegarde s'il n'existe pas\n",
        "        os.makedirs(save_path, exist_ok=True)\n",
        "\n",
        "        # Extraire les identifiants\n",
        "        train_ids = features['SK_ID_CURR']\n",
        "        test_ids = test_features['SK_ID_CURR']\n",
        "\n",
        "        # Extraire les étiquettes pour l'entraînement\n",
        "        labels = features['TARGET']\n",
        "\n",
        "        # Supprimer les identifiants et la cible\n",
        "        features = features.drop(columns=['SK_ID_CURR', 'TARGET'])\n",
        "        test_features = test_features.drop(columns=['SK_ID_CURR'])\n",
        "\n",
        "        # Remplacer les valeurs NaN dans les caractéristiques catégorielles par 'missing'\n",
        "        for cat_feature in cat_features:\n",
        "            features[cat_feature].fillna('missing', inplace=True)\n",
        "            test_features[cat_feature].fillna('missing', inplace=True)\n",
        "\n",
        "        def objective(trial):\n",
        "            \"\"\"Fonction objectif pour l'optimisation Optuna.\"\"\"\n",
        "            model = CatBoostClassifier(\n",
        "                iterations=trial.suggest_int('iterations', 5000, 10000),\n",
        "                learning_rate=trial.suggest_loguniform('learning_rate', 0.01, 0.1),\n",
        "                depth=trial.suggest_int('depth', 4, 10),\n",
        "                l2_leaf_reg=trial.suggest_loguniform('l2_leaf_reg', 1, 10),\n",
        "                loss_function='Logloss',\n",
        "                eval_metric='AUC',\n",
        "                random_seed=50,\n",
        "                cat_features=cat_features,\n",
        "                logging_level='Silent',\n",
        "                early_stopping_rounds=100,\n",
        "                task_type='GPU' if get_gpu_device_count() > 0 else 'CPU'\n",
        "            )\n",
        "\n",
        "            out_of_fold = np.zeros(features.shape[0])\n",
        "            valid_scores = []\n",
        "            train_scores = []\n",
        "\n",
        "            k_fold = KFold(n_splits=n_folds, shuffle=True, random_state=50)\n",
        "\n",
        "            for fold, (train_indices, valid_indices) in enumerate(k_fold.split(features)):\n",
        "                print(f\"Entraînement du pli {fold+1}/{n_folds}...\")\n",
        "\n",
        "                train_features, train_labels = features.iloc[train_indices], labels.iloc[train_indices]\n",
        "                valid_features, valid_labels = features.iloc[valid_indices], labels.iloc[valid_indices]\n",
        "\n",
        "                model.fit(\n",
        "                    train_features, train_labels,\n",
        "                    eval_set=(valid_features, valid_labels),\n",
        "                    use_best_model=True\n",
        "                )\n",
        "\n",
        "                out_of_fold[valid_indices] = model.predict_proba(valid_features)[:, 1]\n",
        "\n",
        "                valid_auc = roc_auc_score(valid_labels, out_of_fold[valid_indices])\n",
        "                train_auc = roc_auc_score(train_labels, model.predict_proba(train_features)[:, 1])\n",
        "                valid_scores.append(valid_auc)\n",
        "                train_scores.append(train_auc)\n",
        "\n",
        "            overall_valid_auc = roc_auc_score(labels, out_of_fold)\n",
        "            mean_train_auc = np.mean(train_scores)\n",
        "\n",
        "            return overall_valid_auc\n",
        "\n",
        "        # Exécuter l'optimisation Optuna\n",
        "        study = optuna.create_study(direction='maximize')\n",
        "        study.optimize(objective, n_trials=5)\n",
        "\n",
        "        # Meilleurs paramètres trouvés\n",
        "        best_params = study.best_params\n",
        "        print(f\"Meilleurs paramètres trouvés : {best_params}\")\n",
        "\n",
        "        # Log des meilleurs paramètres\n",
        "        mlflow.log_params(best_params)\n",
        "\n",
        "        # Entraîner le modèle final avec les meilleurs paramètres\n",
        "        model = CatBoostClassifier(\n",
        "            **best_params,\n",
        "            loss_function='Logloss',\n",
        "            eval_metric='AUC',\n",
        "            random_seed=50,\n",
        "            cat_features=cat_features,\n",
        "            logging_level='Silent',\n",
        "            early_stopping_rounds=100,\n",
        "            task_type='GPU' if get_gpu_device_count() > 0 else 'CPU'\n",
        "        )\n",
        "\n",
        "        out_of_fold = np.zeros(features.shape[0])\n",
        "        valid_scores = []\n",
        "        train_scores = []\n",
        "        weighted_costs = []  # Liste pour stocker les coûts pondérés de chaque pli\n",
        "        accuracies = []  # Liste pour stocker l'accuracy de chaque pli\n",
        "        feature_importances = pd.DataFrame()\n",
        "\n",
        "        k_fold = KFold(n_splits=n_folds, shuffle=True, random_state=50)\n",
        "\n",
        "        for fold, (train_indices, valid_indices) in enumerate(k_fold.split(features)):\n",
        "            print(f\"Entraînement du pli {fold+1}/{n_folds}...\")\n",
        "\n",
        "            train_features, train_labels = features.iloc[train_indices], labels.iloc[train_indices]\n",
        "            valid_features, valid_labels = features.iloc[valid_indices], labels.iloc[valid_indices]\n",
        "\n",
        "            model.fit(\n",
        "                train_features, train_labels,\n",
        "                eval_set=(valid_features, valid_labels),\n",
        "                use_best_model=True\n",
        "            )\n",
        "\n",
        "            out_of_fold[valid_indices] = model.predict_proba(valid_features)[:, 1]\n",
        "\n",
        "            valid_auc = roc_auc_score(valid_labels, out_of_fold[valid_indices])\n",
        "            train_auc = roc_auc_score(train_labels, model.predict_proba(train_features)[:, 1])\n",
        "            valid_scores.append(valid_auc)\n",
        "            train_scores.append(train_auc)\n",
        "\n",
        "            # Calcul du coût pondéré pour ce pli\n",
        "            valid_predictions = (out_of_fold[valid_indices] > 0.5).astype(int)\n",
        "            weighted_cost = weighted_cost_metric(valid_labels, valid_predictions)\n",
        "            weighted_costs.append(weighted_cost)  # Ajout du coût pondéré à la liste\n",
        "            mlflow.log_metric(f'weighted_cost_fold_{fold+1}', weighted_cost)\n",
        "\n",
        "            # Calcul et log de l'accuracy pour ce pli\n",
        "            accuracy = accuracy_score(valid_labels, valid_predictions)\n",
        "            accuracies.append(accuracy)  # Stocke l'accuracy pour chaque pli\n",
        "            mlflow.log_metric(f'accuracy_fold_{fold+1}', accuracy)  # Log de l'accuracy\n",
        "\n",
        "            # Stocker les importances des caractéristiques\n",
        "            fold_importances = pd.DataFrame()\n",
        "            fold_importances['feature'] = features.columns\n",
        "            fold_importances['importance'] = model.get_feature_importance()\n",
        "            fold_importances['fold'] = fold + 1\n",
        "            feature_importances = pd.concat([feature_importances, fold_importances], axis=0)\n",
        "\n",
        "        overall_valid_auc = roc_auc_score(labels, out_of_fold)\n",
        "        mean_train_auc = np.mean(train_scores)\n",
        "\n",
        "        # Calcul du Weighted Cost global moyen\n",
        "        mean_weighted_cost = np.mean(weighted_costs)  # Calcul du coût pondéré moyen\n",
        "        mlflow.log_metric('mean_weighted_cost', mean_weighted_cost)\n",
        "\n",
        "        # Calcul de l'accuracy moyenne\n",
        "        mean_accuracy = np.mean(accuracies)\n",
        "        mlflow.log_metric('mean_accuracy', mean_accuracy)  # Log de l'accuracy moyenne\n",
        "\n",
        "        # Log des scores AUC\n",
        "        mlflow.log_metric('mean_train_auc', mean_train_auc)\n",
        "        mlflow.log_metric('overall_valid_auc', overall_valid_auc)\n",
        "\n",
        "        # Prédictions sur les données de test\n",
        "        test_predictions = model.predict_proba(test_features)[:, 1]\n",
        "        submission = pd.DataFrame({'SK_ID_CURR': test_ids, 'TARGET': test_predictions})\n",
        "\n",
        "        metrics = pd.DataFrame({\n",
        "            'fold': list(range(1, n_folds + 1)),\n",
        "            'train_auc': train_scores,\n",
        "            'valid_auc': valid_scores,\n",
        "            'weighted_cost': weighted_costs,\n",
        "            'accuracy': accuracies\n",
        "        })\n",
        "\n",
        "        # Sauvegarder le modèle, les FI et les métriques\n",
        "        model_path = f'{save_path}/best_model.cbm'\n",
        "        model.save_model(model_path)\n",
        "        mlflow.log_artifact(model_path)\n",
        "        print(f\"Modèle CatBoost sauvegardé à : {model_path}\")\n",
        "\n",
        "        feature_importances_path = f'{save_path}/feature_importances.csv'\n",
        "        feature_importances.to_csv(feature_importances_path, index=False)\n",
        "        mlflow.log_artifact(feature_importances_path)\n",
        "        print(f\"Importances des caractéristiques sauvegardées à : {feature_importances_path}\")\n",
        "\n",
        "        metrics_path = f'{save_path}/metrics.csv'\n",
        "        metrics.to_csv(metrics_path, index=False)\n",
        "        mlflow.log_artifact(metrics_path)\n",
        "        print(f\"Métriques sauvegardées à : {metrics_path}\")\n",
        "\n",
        "    return submission, feature_importances, metrics\n",
        "\n",
        "\n",
        "\n",
        "\n"
      ]
    },
    {
      "cell_type": "code",
      "execution_count": 32,
      "metadata": {
        "colab": {
          "base_uri": "https://localhost:8080/",
          "height": 87
        },
        "id": "-g3pKretlCuy",
        "outputId": "f3bf3712-1cc4-4aee-d340-c1c4eb8a1d99"
      },
      "outputs": [
        {
          "output_type": "execute_result",
          "data": {
            "text/plain": [
              "'\\n# Fermer tous les tunnels Ngrok\\nngrok.kill()\\n\\n# Démarrer l\\'UI MLflow sur le port 5000\\nget_ipython().system_raw(\"mlflow ui --port 5000 &\")\\n\\n# Reconnecter Ngrok pour le nouveau tunnel\\nngrok_tunnel = ngrok.connect(addr=\"5000\", proto=\"http\", bind_tls=True)\\nprint(\"MLflow Tracking UI:\", ngrok_tunnel.public_url)\\n'"
            ],
            "application/vnd.google.colaboratory.intrinsic+json": {
              "type": "string"
            }
          },
          "metadata": {},
          "execution_count": 32
        }
      ],
      "source": [
        "'''\n",
        "# Fermer tous les tunnels Ngrok\n",
        "ngrok.kill()\n",
        "\n",
        "# Démarrer l'UI MLflow sur le port 5000\n",
        "get_ipython().system_raw(\"mlflow ui --port 5000 &\")\n",
        "\n",
        "# Reconnecter Ngrok pour le nouveau tunnel\n",
        "ngrok_tunnel = ngrok.connect(addr=\"5000\", proto=\"http\", bind_tls=True)\n",
        "print(\"MLflow Tracking UI:\", ngrok_tunnel.public_url)\n",
        "'''"
      ]
    },
    {
      "cell_type": "code",
      "execution_count": 33,
      "metadata": {
        "id": "CYezl6wLYea9"
      },
      "outputs": [],
      "source": [
        "import catboost\n",
        "from catboost.utils import get_gpu_device_count\n"
      ]
    },
    {
      "cell_type": "code",
      "execution_count": 34,
      "metadata": {
        "colab": {
          "base_uri": "https://localhost:8080/"
        },
        "id": "jv6I2wHgXHLE",
        "outputId": "54128864-cb73-4658-88c7-4b9e11f69abd"
      },
      "outputs": [
        {
          "output_type": "stream",
          "name": "stderr",
          "text": [
            "2024/10/07 11:17:42 INFO mlflow.tracking.fluent: Experiment with name 'scoring_catboost' does not exist. Creating a new experiment.\n",
            "[I 2024-10-07 11:17:43,258] A new study created in memory with name: no-name-902143fc-bfb4-4ac5-9125-a51790a65592\n"
          ]
        },
        {
          "output_type": "stream",
          "name": "stdout",
          "text": [
            "Entraînement du pli 1/4...\n"
          ]
        },
        {
          "output_type": "stream",
          "name": "stderr",
          "text": [
            "Default metric period is 5 because AUC is/are not implemented for GPU\n"
          ]
        },
        {
          "output_type": "stream",
          "name": "stdout",
          "text": [
            "Entraînement du pli 2/4...\n"
          ]
        },
        {
          "output_type": "stream",
          "name": "stderr",
          "text": [
            "Default metric period is 5 because AUC is/are not implemented for GPU\n"
          ]
        },
        {
          "output_type": "stream",
          "name": "stdout",
          "text": [
            "Entraînement du pli 3/4...\n"
          ]
        },
        {
          "output_type": "stream",
          "name": "stderr",
          "text": [
            "Default metric period is 5 because AUC is/are not implemented for GPU\n"
          ]
        },
        {
          "output_type": "stream",
          "name": "stdout",
          "text": [
            "Entraînement du pli 4/4...\n"
          ]
        },
        {
          "output_type": "stream",
          "name": "stderr",
          "text": [
            "Default metric period is 5 because AUC is/are not implemented for GPU\n",
            "[I 2024-10-07 11:18:50,167] Trial 0 finished with value: 0.759778353243368 and parameters: {'iterations': 5233, 'learning_rate': 0.08498718882463194, 'depth': 10, 'l2_leaf_reg': 2.762917313685441}. Best is trial 0 with value: 0.759778353243368.\n"
          ]
        },
        {
          "output_type": "stream",
          "name": "stdout",
          "text": [
            "Entraînement du pli 1/4...\n"
          ]
        },
        {
          "output_type": "stream",
          "name": "stderr",
          "text": [
            "Default metric period is 5 because AUC is/are not implemented for GPU\n"
          ]
        },
        {
          "output_type": "stream",
          "name": "stdout",
          "text": [
            "Entraînement du pli 2/4...\n"
          ]
        },
        {
          "output_type": "stream",
          "name": "stderr",
          "text": [
            "Default metric period is 5 because AUC is/are not implemented for GPU\n"
          ]
        },
        {
          "output_type": "stream",
          "name": "stdout",
          "text": [
            "Entraînement du pli 3/4...\n"
          ]
        },
        {
          "output_type": "stream",
          "name": "stderr",
          "text": [
            "Default metric period is 5 because AUC is/are not implemented for GPU\n"
          ]
        },
        {
          "output_type": "stream",
          "name": "stdout",
          "text": [
            "Entraînement du pli 4/4...\n"
          ]
        },
        {
          "output_type": "stream",
          "name": "stderr",
          "text": [
            "Default metric period is 5 because AUC is/are not implemented for GPU\n",
            "[I 2024-10-07 11:23:25,267] Trial 1 finished with value: 0.7666102384734717 and parameters: {'iterations': 8710, 'learning_rate': 0.013989215201718537, 'depth': 7, 'l2_leaf_reg': 4.59041186593951}. Best is trial 1 with value: 0.7666102384734717.\n"
          ]
        },
        {
          "output_type": "stream",
          "name": "stdout",
          "text": [
            "Entraînement du pli 1/4...\n"
          ]
        },
        {
          "output_type": "stream",
          "name": "stderr",
          "text": [
            "Default metric period is 5 because AUC is/are not implemented for GPU\n"
          ]
        },
        {
          "output_type": "stream",
          "name": "stdout",
          "text": [
            "Entraînement du pli 2/4...\n"
          ]
        },
        {
          "output_type": "stream",
          "name": "stderr",
          "text": [
            "Default metric period is 5 because AUC is/are not implemented for GPU\n"
          ]
        },
        {
          "output_type": "stream",
          "name": "stdout",
          "text": [
            "Entraînement du pli 3/4...\n"
          ]
        },
        {
          "output_type": "stream",
          "name": "stderr",
          "text": [
            "Default metric period is 5 because AUC is/are not implemented for GPU\n"
          ]
        },
        {
          "output_type": "stream",
          "name": "stdout",
          "text": [
            "Entraînement du pli 4/4...\n"
          ]
        },
        {
          "output_type": "stream",
          "name": "stderr",
          "text": [
            "Default metric period is 5 because AUC is/are not implemented for GPU\n",
            "[I 2024-10-07 11:24:39,381] Trial 2 finished with value: 0.7611413347512378 and parameters: {'iterations': 6133, 'learning_rate': 0.08548350386351411, 'depth': 10, 'l2_leaf_reg': 6.073613798509971}. Best is trial 1 with value: 0.7666102384734717.\n"
          ]
        },
        {
          "output_type": "stream",
          "name": "stdout",
          "text": [
            "Entraînement du pli 1/4...\n"
          ]
        },
        {
          "output_type": "stream",
          "name": "stderr",
          "text": [
            "Default metric period is 5 because AUC is/are not implemented for GPU\n"
          ]
        },
        {
          "output_type": "stream",
          "name": "stdout",
          "text": [
            "Entraînement du pli 2/4...\n"
          ]
        },
        {
          "output_type": "stream",
          "name": "stderr",
          "text": [
            "Default metric period is 5 because AUC is/are not implemented for GPU\n"
          ]
        },
        {
          "output_type": "stream",
          "name": "stdout",
          "text": [
            "Entraînement du pli 3/4...\n"
          ]
        },
        {
          "output_type": "stream",
          "name": "stderr",
          "text": [
            "Default metric period is 5 because AUC is/are not implemented for GPU\n"
          ]
        },
        {
          "output_type": "stream",
          "name": "stdout",
          "text": [
            "Entraînement du pli 4/4...\n"
          ]
        },
        {
          "output_type": "stream",
          "name": "stderr",
          "text": [
            "Default metric period is 5 because AUC is/are not implemented for GPU\n",
            "[I 2024-10-07 11:27:48,080] Trial 3 finished with value: 0.7647594159662411 and parameters: {'iterations': 6314, 'learning_rate': 0.022848725692877412, 'depth': 9, 'l2_leaf_reg': 2.767530049762401}. Best is trial 1 with value: 0.7666102384734717.\n"
          ]
        },
        {
          "output_type": "stream",
          "name": "stdout",
          "text": [
            "Entraînement du pli 1/4...\n"
          ]
        },
        {
          "output_type": "stream",
          "name": "stderr",
          "text": [
            "Default metric period is 5 because AUC is/are not implemented for GPU\n"
          ]
        },
        {
          "output_type": "stream",
          "name": "stdout",
          "text": [
            "Entraînement du pli 2/4...\n"
          ]
        },
        {
          "output_type": "stream",
          "name": "stderr",
          "text": [
            "Default metric period is 5 because AUC is/are not implemented for GPU\n"
          ]
        },
        {
          "output_type": "stream",
          "name": "stdout",
          "text": [
            "Entraînement du pli 3/4...\n"
          ]
        },
        {
          "output_type": "stream",
          "name": "stderr",
          "text": [
            "Default metric period is 5 because AUC is/are not implemented for GPU\n"
          ]
        },
        {
          "output_type": "stream",
          "name": "stdout",
          "text": [
            "Entraînement du pli 4/4...\n"
          ]
        },
        {
          "output_type": "stream",
          "name": "stderr",
          "text": [
            "Default metric period is 5 because AUC is/are not implemented for GPU\n",
            "[I 2024-10-07 11:28:40,915] Trial 4 finished with value: 0.7622727861791417 and parameters: {'iterations': 9937, 'learning_rate': 0.08748116204871478, 'depth': 8, 'l2_leaf_reg': 1.3867846964340491}. Best is trial 1 with value: 0.7666102384734717.\n"
          ]
        },
        {
          "output_type": "stream",
          "name": "stdout",
          "text": [
            "Meilleurs paramètres trouvés : {'iterations': 8710, 'learning_rate': 0.013989215201718537, 'depth': 7, 'l2_leaf_reg': 4.59041186593951}\n",
            "Entraînement du pli 1/4...\n"
          ]
        },
        {
          "output_type": "stream",
          "name": "stderr",
          "text": [
            "Default metric period is 5 because AUC is/are not implemented for GPU\n"
          ]
        },
        {
          "output_type": "stream",
          "name": "stdout",
          "text": [
            "Entraînement du pli 2/4...\n"
          ]
        },
        {
          "output_type": "stream",
          "name": "stderr",
          "text": [
            "Default metric period is 5 because AUC is/are not implemented for GPU\n"
          ]
        },
        {
          "output_type": "stream",
          "name": "stdout",
          "text": [
            "Entraînement du pli 3/4...\n"
          ]
        },
        {
          "output_type": "stream",
          "name": "stderr",
          "text": [
            "Default metric period is 5 because AUC is/are not implemented for GPU\n"
          ]
        },
        {
          "output_type": "stream",
          "name": "stdout",
          "text": [
            "Entraînement du pli 4/4...\n"
          ]
        },
        {
          "output_type": "stream",
          "name": "stderr",
          "text": [
            "Default metric period is 5 because AUC is/are not implemented for GPU\n"
          ]
        },
        {
          "output_type": "stream",
          "name": "stdout",
          "text": [
            "Modèle CatBoost sauvegardé à : /content/drive/MyDrive/Colab Notebooks/data_scoring/model_20241007_111048/best_model.cbm\n",
            "Importances des caractéristiques sauvegardées à : /content/drive/MyDrive/Colab Notebooks/data_scoring/model_20241007_111048/feature_importances.csv\n",
            "Métriques sauvegardées à : /content/drive/MyDrive/Colab Notebooks/data_scoring/model_20241007_111048/metrics.csv\n",
            "Baseline metrics\n",
            "   fold  train_auc  valid_auc  weighted_cost  accuracy\n",
            "0     1   0.825463   0.763029           6869  0.920836\n",
            "1     2   0.842178   0.768767           7548  0.918676\n",
            "2     3   0.822499   0.768699           7099  0.921356\n",
            "3     4   0.822724   0.766161           7339  0.917765\n"
          ]
        }
      ],
      "source": [
        "submission, fi, metrics = catboost_model_with_mlflow_optimise(app_train, app_test, categorical_features, n_folds=4, save_path=model_folder,  exp_name=\"scoring_catboost\", run=\"sans le param weighted\")\n",
        "print('Baseline metrics')\n",
        "print(metrics)"
      ]
    },
    {
      "cell_type": "code",
      "execution_count": 35,
      "metadata": {
        "colab": {
          "base_uri": "https://localhost:8080/",
          "height": 423
        },
        "id": "gVzBQKiIjie1",
        "outputId": "e88fbda9-78b2-400b-b694-657c47f2006c"
      },
      "outputs": [
        {
          "output_type": "execute_result",
          "data": {
            "text/plain": [
              "                             feature  importance  fold\n",
              "0                 NAME_CONTRACT_TYPE    0.749925     1\n",
              "1                       FLAG_OWN_CAR    0.690380     1\n",
              "2                    FLAG_OWN_REALTY    0.274565     1\n",
              "3                       CNT_CHILDREN    0.307429     1\n",
              "4                   AMT_INCOME_TOTAL    1.321716     1\n",
              "..                               ...         ...   ...\n",
              "238         WALLSMATERIAL_MODE_Panel    0.062414     4\n",
              "239  WALLSMATERIAL_MODE_Stone, brick    0.219386     4\n",
              "240        WALLSMATERIAL_MODE_Wooden    0.029181     4\n",
              "241           EMERGENCYSTATE_MODE_No    0.054004     4\n",
              "242          EMERGENCYSTATE_MODE_Yes    0.072346     4\n",
              "\n",
              "[972 rows x 3 columns]"
            ],
            "text/html": [
              "\n",
              "  <div id=\"df-bc904e24-cd96-402a-a73d-5c49f8838f6e\" class=\"colab-df-container\">\n",
              "    <div>\n",
              "<style scoped>\n",
              "    .dataframe tbody tr th:only-of-type {\n",
              "        vertical-align: middle;\n",
              "    }\n",
              "\n",
              "    .dataframe tbody tr th {\n",
              "        vertical-align: top;\n",
              "    }\n",
              "\n",
              "    .dataframe thead th {\n",
              "        text-align: right;\n",
              "    }\n",
              "</style>\n",
              "<table border=\"1\" class=\"dataframe\">\n",
              "  <thead>\n",
              "    <tr style=\"text-align: right;\">\n",
              "      <th></th>\n",
              "      <th>feature</th>\n",
              "      <th>importance</th>\n",
              "      <th>fold</th>\n",
              "    </tr>\n",
              "  </thead>\n",
              "  <tbody>\n",
              "    <tr>\n",
              "      <th>0</th>\n",
              "      <td>NAME_CONTRACT_TYPE</td>\n",
              "      <td>0.749925</td>\n",
              "      <td>1</td>\n",
              "    </tr>\n",
              "    <tr>\n",
              "      <th>1</th>\n",
              "      <td>FLAG_OWN_CAR</td>\n",
              "      <td>0.690380</td>\n",
              "      <td>1</td>\n",
              "    </tr>\n",
              "    <tr>\n",
              "      <th>2</th>\n",
              "      <td>FLAG_OWN_REALTY</td>\n",
              "      <td>0.274565</td>\n",
              "      <td>1</td>\n",
              "    </tr>\n",
              "    <tr>\n",
              "      <th>3</th>\n",
              "      <td>CNT_CHILDREN</td>\n",
              "      <td>0.307429</td>\n",
              "      <td>1</td>\n",
              "    </tr>\n",
              "    <tr>\n",
              "      <th>4</th>\n",
              "      <td>AMT_INCOME_TOTAL</td>\n",
              "      <td>1.321716</td>\n",
              "      <td>1</td>\n",
              "    </tr>\n",
              "    <tr>\n",
              "      <th>...</th>\n",
              "      <td>...</td>\n",
              "      <td>...</td>\n",
              "      <td>...</td>\n",
              "    </tr>\n",
              "    <tr>\n",
              "      <th>238</th>\n",
              "      <td>WALLSMATERIAL_MODE_Panel</td>\n",
              "      <td>0.062414</td>\n",
              "      <td>4</td>\n",
              "    </tr>\n",
              "    <tr>\n",
              "      <th>239</th>\n",
              "      <td>WALLSMATERIAL_MODE_Stone, brick</td>\n",
              "      <td>0.219386</td>\n",
              "      <td>4</td>\n",
              "    </tr>\n",
              "    <tr>\n",
              "      <th>240</th>\n",
              "      <td>WALLSMATERIAL_MODE_Wooden</td>\n",
              "      <td>0.029181</td>\n",
              "      <td>4</td>\n",
              "    </tr>\n",
              "    <tr>\n",
              "      <th>241</th>\n",
              "      <td>EMERGENCYSTATE_MODE_No</td>\n",
              "      <td>0.054004</td>\n",
              "      <td>4</td>\n",
              "    </tr>\n",
              "    <tr>\n",
              "      <th>242</th>\n",
              "      <td>EMERGENCYSTATE_MODE_Yes</td>\n",
              "      <td>0.072346</td>\n",
              "      <td>4</td>\n",
              "    </tr>\n",
              "  </tbody>\n",
              "</table>\n",
              "<p>972 rows × 3 columns</p>\n",
              "</div>\n",
              "    <div class=\"colab-df-buttons\">\n",
              "\n",
              "  <div class=\"colab-df-container\">\n",
              "    <button class=\"colab-df-convert\" onclick=\"convertToInteractive('df-bc904e24-cd96-402a-a73d-5c49f8838f6e')\"\n",
              "            title=\"Convert this dataframe to an interactive table.\"\n",
              "            style=\"display:none;\">\n",
              "\n",
              "  <svg xmlns=\"http://www.w3.org/2000/svg\" height=\"24px\" viewBox=\"0 -960 960 960\">\n",
              "    <path d=\"M120-120v-720h720v720H120Zm60-500h600v-160H180v160Zm220 220h160v-160H400v160Zm0 220h160v-160H400v160ZM180-400h160v-160H180v160Zm440 0h160v-160H620v160ZM180-180h160v-160H180v160Zm440 0h160v-160H620v160Z\"/>\n",
              "  </svg>\n",
              "    </button>\n",
              "\n",
              "  <style>\n",
              "    .colab-df-container {\n",
              "      display:flex;\n",
              "      gap: 12px;\n",
              "    }\n",
              "\n",
              "    .colab-df-convert {\n",
              "      background-color: #E8F0FE;\n",
              "      border: none;\n",
              "      border-radius: 50%;\n",
              "      cursor: pointer;\n",
              "      display: none;\n",
              "      fill: #1967D2;\n",
              "      height: 32px;\n",
              "      padding: 0 0 0 0;\n",
              "      width: 32px;\n",
              "    }\n",
              "\n",
              "    .colab-df-convert:hover {\n",
              "      background-color: #E2EBFA;\n",
              "      box-shadow: 0px 1px 2px rgba(60, 64, 67, 0.3), 0px 1px 3px 1px rgba(60, 64, 67, 0.15);\n",
              "      fill: #174EA6;\n",
              "    }\n",
              "\n",
              "    .colab-df-buttons div {\n",
              "      margin-bottom: 4px;\n",
              "    }\n",
              "\n",
              "    [theme=dark] .colab-df-convert {\n",
              "      background-color: #3B4455;\n",
              "      fill: #D2E3FC;\n",
              "    }\n",
              "\n",
              "    [theme=dark] .colab-df-convert:hover {\n",
              "      background-color: #434B5C;\n",
              "      box-shadow: 0px 1px 3px 1px rgba(0, 0, 0, 0.15);\n",
              "      filter: drop-shadow(0px 1px 2px rgba(0, 0, 0, 0.3));\n",
              "      fill: #FFFFFF;\n",
              "    }\n",
              "  </style>\n",
              "\n",
              "    <script>\n",
              "      const buttonEl =\n",
              "        document.querySelector('#df-bc904e24-cd96-402a-a73d-5c49f8838f6e button.colab-df-convert');\n",
              "      buttonEl.style.display =\n",
              "        google.colab.kernel.accessAllowed ? 'block' : 'none';\n",
              "\n",
              "      async function convertToInteractive(key) {\n",
              "        const element = document.querySelector('#df-bc904e24-cd96-402a-a73d-5c49f8838f6e');\n",
              "        const dataTable =\n",
              "          await google.colab.kernel.invokeFunction('convertToInteractive',\n",
              "                                                    [key], {});\n",
              "        if (!dataTable) return;\n",
              "\n",
              "        const docLinkHtml = 'Like what you see? Visit the ' +\n",
              "          '<a target=\"_blank\" href=https://colab.research.google.com/notebooks/data_table.ipynb>data table notebook</a>'\n",
              "          + ' to learn more about interactive tables.';\n",
              "        element.innerHTML = '';\n",
              "        dataTable['output_type'] = 'display_data';\n",
              "        await google.colab.output.renderOutput(dataTable, element);\n",
              "        const docLink = document.createElement('div');\n",
              "        docLink.innerHTML = docLinkHtml;\n",
              "        element.appendChild(docLink);\n",
              "      }\n",
              "    </script>\n",
              "  </div>\n",
              "\n",
              "\n",
              "<div id=\"df-c1a5d0d0-442f-4c13-ae66-b1c2e90c09b1\">\n",
              "  <button class=\"colab-df-quickchart\" onclick=\"quickchart('df-c1a5d0d0-442f-4c13-ae66-b1c2e90c09b1')\"\n",
              "            title=\"Suggest charts\"\n",
              "            style=\"display:none;\">\n",
              "\n",
              "<svg xmlns=\"http://www.w3.org/2000/svg\" height=\"24px\"viewBox=\"0 0 24 24\"\n",
              "     width=\"24px\">\n",
              "    <g>\n",
              "        <path d=\"M19 3H5c-1.1 0-2 .9-2 2v14c0 1.1.9 2 2 2h14c1.1 0 2-.9 2-2V5c0-1.1-.9-2-2-2zM9 17H7v-7h2v7zm4 0h-2V7h2v10zm4 0h-2v-4h2v4z\"/>\n",
              "    </g>\n",
              "</svg>\n",
              "  </button>\n",
              "\n",
              "<style>\n",
              "  .colab-df-quickchart {\n",
              "      --bg-color: #E8F0FE;\n",
              "      --fill-color: #1967D2;\n",
              "      --hover-bg-color: #E2EBFA;\n",
              "      --hover-fill-color: #174EA6;\n",
              "      --disabled-fill-color: #AAA;\n",
              "      --disabled-bg-color: #DDD;\n",
              "  }\n",
              "\n",
              "  [theme=dark] .colab-df-quickchart {\n",
              "      --bg-color: #3B4455;\n",
              "      --fill-color: #D2E3FC;\n",
              "      --hover-bg-color: #434B5C;\n",
              "      --hover-fill-color: #FFFFFF;\n",
              "      --disabled-bg-color: #3B4455;\n",
              "      --disabled-fill-color: #666;\n",
              "  }\n",
              "\n",
              "  .colab-df-quickchart {\n",
              "    background-color: var(--bg-color);\n",
              "    border: none;\n",
              "    border-radius: 50%;\n",
              "    cursor: pointer;\n",
              "    display: none;\n",
              "    fill: var(--fill-color);\n",
              "    height: 32px;\n",
              "    padding: 0;\n",
              "    width: 32px;\n",
              "  }\n",
              "\n",
              "  .colab-df-quickchart:hover {\n",
              "    background-color: var(--hover-bg-color);\n",
              "    box-shadow: 0 1px 2px rgba(60, 64, 67, 0.3), 0 1px 3px 1px rgba(60, 64, 67, 0.15);\n",
              "    fill: var(--button-hover-fill-color);\n",
              "  }\n",
              "\n",
              "  .colab-df-quickchart-complete:disabled,\n",
              "  .colab-df-quickchart-complete:disabled:hover {\n",
              "    background-color: var(--disabled-bg-color);\n",
              "    fill: var(--disabled-fill-color);\n",
              "    box-shadow: none;\n",
              "  }\n",
              "\n",
              "  .colab-df-spinner {\n",
              "    border: 2px solid var(--fill-color);\n",
              "    border-color: transparent;\n",
              "    border-bottom-color: var(--fill-color);\n",
              "    animation:\n",
              "      spin 1s steps(1) infinite;\n",
              "  }\n",
              "\n",
              "  @keyframes spin {\n",
              "    0% {\n",
              "      border-color: transparent;\n",
              "      border-bottom-color: var(--fill-color);\n",
              "      border-left-color: var(--fill-color);\n",
              "    }\n",
              "    20% {\n",
              "      border-color: transparent;\n",
              "      border-left-color: var(--fill-color);\n",
              "      border-top-color: var(--fill-color);\n",
              "    }\n",
              "    30% {\n",
              "      border-color: transparent;\n",
              "      border-left-color: var(--fill-color);\n",
              "      border-top-color: var(--fill-color);\n",
              "      border-right-color: var(--fill-color);\n",
              "    }\n",
              "    40% {\n",
              "      border-color: transparent;\n",
              "      border-right-color: var(--fill-color);\n",
              "      border-top-color: var(--fill-color);\n",
              "    }\n",
              "    60% {\n",
              "      border-color: transparent;\n",
              "      border-right-color: var(--fill-color);\n",
              "    }\n",
              "    80% {\n",
              "      border-color: transparent;\n",
              "      border-right-color: var(--fill-color);\n",
              "      border-bottom-color: var(--fill-color);\n",
              "    }\n",
              "    90% {\n",
              "      border-color: transparent;\n",
              "      border-bottom-color: var(--fill-color);\n",
              "    }\n",
              "  }\n",
              "</style>\n",
              "\n",
              "  <script>\n",
              "    async function quickchart(key) {\n",
              "      const quickchartButtonEl =\n",
              "        document.querySelector('#' + key + ' button');\n",
              "      quickchartButtonEl.disabled = true;  // To prevent multiple clicks.\n",
              "      quickchartButtonEl.classList.add('colab-df-spinner');\n",
              "      try {\n",
              "        const charts = await google.colab.kernel.invokeFunction(\n",
              "            'suggestCharts', [key], {});\n",
              "      } catch (error) {\n",
              "        console.error('Error during call to suggestCharts:', error);\n",
              "      }\n",
              "      quickchartButtonEl.classList.remove('colab-df-spinner');\n",
              "      quickchartButtonEl.classList.add('colab-df-quickchart-complete');\n",
              "    }\n",
              "    (() => {\n",
              "      let quickchartButtonEl =\n",
              "        document.querySelector('#df-c1a5d0d0-442f-4c13-ae66-b1c2e90c09b1 button');\n",
              "      quickchartButtonEl.style.display =\n",
              "        google.colab.kernel.accessAllowed ? 'block' : 'none';\n",
              "    })();\n",
              "  </script>\n",
              "</div>\n",
              "\n",
              "  <div id=\"id_ecef709c-7154-436a-b1ea-276edcb17230\">\n",
              "    <style>\n",
              "      .colab-df-generate {\n",
              "        background-color: #E8F0FE;\n",
              "        border: none;\n",
              "        border-radius: 50%;\n",
              "        cursor: pointer;\n",
              "        display: none;\n",
              "        fill: #1967D2;\n",
              "        height: 32px;\n",
              "        padding: 0 0 0 0;\n",
              "        width: 32px;\n",
              "      }\n",
              "\n",
              "      .colab-df-generate:hover {\n",
              "        background-color: #E2EBFA;\n",
              "        box-shadow: 0px 1px 2px rgba(60, 64, 67, 0.3), 0px 1px 3px 1px rgba(60, 64, 67, 0.15);\n",
              "        fill: #174EA6;\n",
              "      }\n",
              "\n",
              "      [theme=dark] .colab-df-generate {\n",
              "        background-color: #3B4455;\n",
              "        fill: #D2E3FC;\n",
              "      }\n",
              "\n",
              "      [theme=dark] .colab-df-generate:hover {\n",
              "        background-color: #434B5C;\n",
              "        box-shadow: 0px 1px 3px 1px rgba(0, 0, 0, 0.15);\n",
              "        filter: drop-shadow(0px 1px 2px rgba(0, 0, 0, 0.3));\n",
              "        fill: #FFFFFF;\n",
              "      }\n",
              "    </style>\n",
              "    <button class=\"colab-df-generate\" onclick=\"generateWithVariable('fi')\"\n",
              "            title=\"Generate code using this dataframe.\"\n",
              "            style=\"display:none;\">\n",
              "\n",
              "  <svg xmlns=\"http://www.w3.org/2000/svg\" height=\"24px\"viewBox=\"0 0 24 24\"\n",
              "       width=\"24px\">\n",
              "    <path d=\"M7,19H8.4L18.45,9,17,7.55,7,17.6ZM5,21V16.75L18.45,3.32a2,2,0,0,1,2.83,0l1.4,1.43a1.91,1.91,0,0,1,.58,1.4,1.91,1.91,0,0,1-.58,1.4L9.25,21ZM18.45,9,17,7.55Zm-12,3A5.31,5.31,0,0,0,4.9,8.1,5.31,5.31,0,0,0,1,6.5,5.31,5.31,0,0,0,4.9,4.9,5.31,5.31,0,0,0,6.5,1,5.31,5.31,0,0,0,8.1,4.9,5.31,5.31,0,0,0,12,6.5,5.46,5.46,0,0,0,6.5,12Z\"/>\n",
              "  </svg>\n",
              "    </button>\n",
              "    <script>\n",
              "      (() => {\n",
              "      const buttonEl =\n",
              "        document.querySelector('#id_ecef709c-7154-436a-b1ea-276edcb17230 button.colab-df-generate');\n",
              "      buttonEl.style.display =\n",
              "        google.colab.kernel.accessAllowed ? 'block' : 'none';\n",
              "\n",
              "      buttonEl.onclick = () => {\n",
              "        google.colab.notebook.generateWithVariable('fi');\n",
              "      }\n",
              "      })();\n",
              "    </script>\n",
              "  </div>\n",
              "\n",
              "    </div>\n",
              "  </div>\n"
            ],
            "application/vnd.google.colaboratory.intrinsic+json": {
              "type": "dataframe",
              "variable_name": "fi",
              "summary": "{\n  \"name\": \"fi\",\n  \"rows\": 972,\n  \"fields\": [\n    {\n      \"column\": \"feature\",\n      \"properties\": {\n        \"dtype\": \"category\",\n        \"num_unique_values\": 243,\n        \"samples\": [\n          \"REG_REGION_NOT_LIVE_REGION\",\n          \"AMT_ANNUITY\",\n          \"OCCUPATION_TYPE_Laborers\"\n        ],\n        \"semantic_type\": \"\",\n        \"description\": \"\"\n      }\n    },\n    {\n      \"column\": \"importance\",\n      \"properties\": {\n        \"dtype\": \"number\",\n        \"std\": 1.367627701969976,\n        \"min\": 0.0,\n        \"max\": 14.532523957479668,\n        \"num_unique_values\": 957,\n        \"samples\": [\n          0.08239401880561709,\n          0.03534201075309599,\n          1.042146316547456\n        ],\n        \"semantic_type\": \"\",\n        \"description\": \"\"\n      }\n    },\n    {\n      \"column\": \"fold\",\n      \"properties\": {\n        \"dtype\": \"number\",\n        \"std\": 1,\n        \"min\": 1,\n        \"max\": 4,\n        \"num_unique_values\": 4,\n        \"samples\": [\n          2,\n          4,\n          1\n        ],\n        \"semantic_type\": \"\",\n        \"description\": \"\"\n      }\n    }\n  ]\n}"
            }
          },
          "metadata": {},
          "execution_count": 35
        }
      ],
      "source": [
        "fi"
      ]
    },
    {
      "cell_type": "code",
      "execution_count": 35,
      "metadata": {
        "id": "ztD-z2Z0A3Le"
      },
      "outputs": [],
      "source": []
    },
    {
      "cell_type": "markdown",
      "metadata": {
        "id": "BJQJCRV7XMak"
      },
      "source": [
        "Test avec les class weight de catboost"
      ]
    },
    {
      "cell_type": "code",
      "execution_count": 36,
      "metadata": {
        "id": "hq_nmkWyXR_r"
      },
      "outputs": [],
      "source": [
        "def catboost_model_with_weights_and_mlflow_optimise(features, test_features, cat_features, n_folds=5, save_path='model_folder', exp_name=\"experiment_name\", run=\"run name\"):\n",
        "    \"\"\"\n",
        "    Entraîne et teste un modèle CatBoost en utilisant la validation croisée avec suivi MLflow et optimisation Optuna.\n",
        "    Enregistre le modèle, les importances des caractéristiques et les métriques dans un dossier.\n",
        "\n",
        "    Paramètres\n",
        "    ----------\n",
        "    features (pd.DataFrame): DataFrame des caractéristiques d'entraînement avec la colonne TARGET.\n",
        "    test_features (pd.DataFrame): DataFrame des caractéristiques de test.\n",
        "    cat_features (list): Liste des noms des caractéristiques catégorielles.\n",
        "    n_folds (int, optionnel): Nombre de plis à utiliser pour la validation croisée (défaut: 5).\n",
        "    save_path (str, optionnel): Dossier dans lequel enregistrer le modèle et les informations.\n",
        "\n",
        "    Retourne\n",
        "    -------\n",
        "    submission (pd.DataFrame): Prédictions sur les données de test.\n",
        "    feature_importances (pd.DataFrame): Importances des caractéristiques du modèle.\n",
        "    metrics (pd.DataFrame): Métriques AUC de validation et d'entraînement pour chaque pli.\n",
        "    \"\"\"\n",
        "\n",
        "    # Configuration du nom de l'experiment\n",
        "    mlflow.set_experiment(exp_name)\n",
        "\n",
        "    with mlflow.start_run(run_name=run):\n",
        "        # Log des informations de base\n",
        "        mlflow.log_param('n_folds', n_folds)\n",
        "\n",
        "        # Créer le dossier de sauvegarde s'il n'existe pas\n",
        "        os.makedirs(save_path, exist_ok=True)\n",
        "\n",
        "        # Extraire les identifiants\n",
        "        train_ids = features['SK_ID_CURR']\n",
        "        test_ids = test_features['SK_ID_CURR']\n",
        "\n",
        "        # Extraire les étiquettes pour l'entraînement\n",
        "        labels = features['TARGET']\n",
        "\n",
        "        # Supprimer les identifiants et la cible\n",
        "        features = features.drop(columns=['SK_ID_CURR', 'TARGET'])\n",
        "        test_features = test_features.drop(columns=['SK_ID_CURR'])\n",
        "\n",
        "        # Remplacer les valeurs NaN dans les caractéristiques catégorielles par 'missing'\n",
        "        for cat_feature in cat_features:\n",
        "            features[cat_feature].fillna('missing', inplace=True)\n",
        "            test_features[cat_feature].fillna('missing', inplace=True)\n",
        "\n",
        "        # Calculer les poids des classes pour gérer le déséquilibre\n",
        "        class_weights = {0: len(labels) / (2 * (len(labels[labels == 0]))),\n",
        "                     1: len(labels) / (2 * (len(labels[labels == 1])))}\n",
        "\n",
        "        def objective(trial):\n",
        "            \"\"\"Fonction objectif pour l'optimisation Optuna.\"\"\"\n",
        "            model = CatBoostClassifier(\n",
        "            iterations=trial.suggest_int('iterations', 5000, 10000),\n",
        "            learning_rate=trial.suggest_loguniform('learning_rate', 0.01, 0.1),\n",
        "            depth=trial.suggest_int('depth', 4, 10),\n",
        "            l2_leaf_reg=trial.suggest_loguniform('l2_leaf_reg', 1, 10),\n",
        "            loss_function='Logloss',\n",
        "            eval_metric='AUC',\n",
        "            random_seed=50,\n",
        "            cat_features=cat_features,\n",
        "            class_weights=class_weights,  # Ajout des poids de classes\n",
        "            logging_level='Silent',\n",
        "            early_stopping_rounds=100,\n",
        "            task_type='GPU' if get_gpu_device_count() > 0 else 'CPU'\n",
        "        )\n",
        "\n",
        "            out_of_fold = np.zeros(features.shape[0])\n",
        "            valid_scores = []\n",
        "            train_scores = []\n",
        "\n",
        "            k_fold = KFold(n_splits=n_folds, shuffle=True, random_state=50)\n",
        "\n",
        "            for fold, (train_indices, valid_indices) in enumerate(k_fold.split(features)):\n",
        "                print(f\"Entraînement du pli {fold+1}/{n_folds}...\")\n",
        "\n",
        "                train_features, train_labels = features.iloc[train_indices], labels.iloc[train_indices]\n",
        "                valid_features, valid_labels = features.iloc[valid_indices], labels.iloc[valid_indices]\n",
        "\n",
        "                model.fit(\n",
        "                    train_features, train_labels,\n",
        "                    eval_set=(valid_features, valid_labels),\n",
        "                    use_best_model=True\n",
        "                )\n",
        "\n",
        "                out_of_fold[valid_indices] = model.predict_proba(valid_features)[:, 1]\n",
        "\n",
        "                valid_auc = roc_auc_score(valid_labels, out_of_fold[valid_indices])\n",
        "                train_auc = roc_auc_score(train_labels, model.predict_proba(train_features)[:, 1])\n",
        "                valid_scores.append(valid_auc)\n",
        "                train_scores.append(train_auc)\n",
        "\n",
        "            overall_valid_auc = roc_auc_score(labels, out_of_fold)\n",
        "            mean_train_auc = np.mean(train_scores)\n",
        "\n",
        "            return overall_valid_auc\n",
        "\n",
        "        # Exécuter l'optimisation Optuna\n",
        "        study = optuna.create_study(direction='maximize')\n",
        "        study.optimize(objective, n_trials=5)\n",
        "\n",
        "        # Meilleurs paramètres trouvés\n",
        "        best_params = study.best_params\n",
        "        print(f\"Meilleurs paramètres trouvés : {best_params}\")\n",
        "\n",
        "        # Log des meilleurs paramètres\n",
        "        mlflow.log_params(best_params)\n",
        "\n",
        "        # Entraîner le modèle final avec les meilleurs paramètres\n",
        "        model = CatBoostClassifier(\n",
        "            **best_params,\n",
        "            loss_function='Logloss',\n",
        "            eval_metric='AUC',\n",
        "            random_seed=50,\n",
        "            cat_features=cat_features,\n",
        "            logging_level='Silent',\n",
        "            early_stopping_rounds=100,\n",
        "            task_type='GPU' if get_gpu_device_count() > 0 else 'CPU'\n",
        "        )\n",
        "\n",
        "        out_of_fold = np.zeros(features.shape[0])\n",
        "        valid_scores = []\n",
        "        train_scores = []\n",
        "        weighted_costs = []  # Liste pour stocker les coûts pondérés de chaque pli\n",
        "        accuracies = []  # Liste pour stocker l'accuracy de chaque pli\n",
        "        feature_importances = pd.DataFrame()\n",
        "\n",
        "        k_fold = KFold(n_splits=n_folds, shuffle=True, random_state=50)\n",
        "\n",
        "        for fold, (train_indices, valid_indices) in enumerate(k_fold.split(features)):\n",
        "            print(f\"Entraînement du pli {fold+1}/{n_folds}...\")\n",
        "\n",
        "            train_features, train_labels = features.iloc[train_indices], labels.iloc[train_indices]\n",
        "            valid_features, valid_labels = features.iloc[valid_indices], labels.iloc[valid_indices]\n",
        "\n",
        "            model.fit(\n",
        "                train_features, train_labels,\n",
        "                eval_set=(valid_features, valid_labels),\n",
        "                use_best_model=True\n",
        "            )\n",
        "\n",
        "            out_of_fold[valid_indices] = model.predict_proba(valid_features)[:, 1]\n",
        "\n",
        "            valid_auc = roc_auc_score(valid_labels, out_of_fold[valid_indices])\n",
        "            train_auc = roc_auc_score(train_labels, model.predict_proba(train_features)[:, 1])\n",
        "            valid_scores.append(valid_auc)\n",
        "            train_scores.append(train_auc)\n",
        "\n",
        "            # Calcul du coût pondéré pour ce pli\n",
        "            valid_predictions = (out_of_fold[valid_indices] > 0.5).astype(int)\n",
        "            weighted_cost = weighted_cost_metric(valid_labels, valid_predictions)\n",
        "            weighted_costs.append(weighted_cost)  # Ajout du coût pondéré à la liste\n",
        "            mlflow.log_metric(f'weighted_cost_fold_{fold+1}', weighted_cost)\n",
        "\n",
        "            # Calcul et log de l'accuracy pour ce pli\n",
        "            accuracy = accuracy_score(valid_labels, valid_predictions)\n",
        "            accuracies.append(accuracy)  # Stocke l'accuracy pour chaque pli\n",
        "            mlflow.log_metric(f'accuracy_fold_{fold+1}', accuracy)  # Log de l'accuracy\n",
        "\n",
        "            # Stocker les importances des caractéristiques\n",
        "            fold_importances = pd.DataFrame()\n",
        "            fold_importances['feature'] = features.columns\n",
        "            fold_importances['importance'] = model.get_feature_importance()\n",
        "            fold_importances['fold'] = fold + 1\n",
        "            feature_importances = pd.concat([feature_importances, fold_importances], axis=0)\n",
        "\n",
        "        overall_valid_auc = roc_auc_score(labels, out_of_fold)\n",
        "        mean_train_auc = np.mean(train_scores)\n",
        "\n",
        "        # Calcul du Weighted Cost global moyen\n",
        "        mean_weighted_cost = np.mean(weighted_costs)  # Calcul du coût pondéré moyen\n",
        "        mlflow.log_metric('mean_weighted_cost', mean_weighted_cost)\n",
        "\n",
        "        # Calcul de l'accuracy moyenne\n",
        "        mean_accuracy = np.mean(accuracies)\n",
        "        mlflow.log_metric('mean_accuracy', mean_accuracy)  # Log de l'accuracy moyenne\n",
        "\n",
        "        # Log des scores AUC\n",
        "        mlflow.log_metric('mean_train_auc', mean_train_auc)\n",
        "        mlflow.log_metric('overall_valid_auc', overall_valid_auc)\n",
        "\n",
        "        # Prédictions sur les données de test\n",
        "        test_predictions = model.predict_proba(test_features)[:, 1]\n",
        "        submission = pd.DataFrame({'SK_ID_CURR': test_ids, 'TARGET': test_predictions})\n",
        "\n",
        "        metrics = pd.DataFrame({\n",
        "            'fold': list(range(1, n_folds + 1)),\n",
        "            'train_auc': train_scores,\n",
        "            'valid_auc': valid_scores,\n",
        "            'weighted_cost': weighted_costs,\n",
        "            'accuracy': accuracies\n",
        "        })\n",
        "\n",
        "        # Sauvegarder le modèle, les FI et les métriques\n",
        "        model_path = f'{save_path}/best_model_weighted_class.cbm'\n",
        "        model.save_model(model_path)\n",
        "        mlflow.log_artifact(model_path)\n",
        "        print(f\"Modèle CatBoost sauvegardé à : {model_path}\")\n",
        "\n",
        "        feature_importances_path = f'{save_path}/feature_importances_weighted_class.csv'\n",
        "        feature_importances.to_csv(feature_importances_path, index=False)\n",
        "        mlflow.log_artifact(feature_importances_path)\n",
        "        print(f\"Importances des caractéristiques sauvegardées à : {feature_importances_path}\")\n",
        "\n",
        "        metrics_path = f'{save_path}/metrics_weighted_class.csv'\n",
        "        metrics.to_csv(metrics_path, index=False)\n",
        "        mlflow.log_artifact(metrics_path)\n",
        "        print(f\"Métriques sauvegardées à : {metrics_path}\")\n",
        "\n",
        "    return submission, feature_importances, metrics"
      ]
    },
    {
      "cell_type": "code",
      "execution_count": 37,
      "metadata": {
        "colab": {
          "base_uri": "https://localhost:8080/"
        },
        "id": "hYE_DdFOXe85",
        "outputId": "5f337c7f-239e-418a-c66e-20422132324e"
      },
      "outputs": [
        {
          "output_type": "stream",
          "name": "stderr",
          "text": [
            "2024/10/07 11:33:16 INFO mlflow.tracking.fluent: Experiment with name 'catboost_weighted_class' does not exist. Creating a new experiment.\n",
            "[I 2024-10-07 11:33:16,912] A new study created in memory with name: no-name-b6194008-b50e-4f79-874b-5852f5457b7f\n"
          ]
        },
        {
          "output_type": "stream",
          "name": "stdout",
          "text": [
            "Entraînement du pli 1/4...\n"
          ]
        },
        {
          "output_type": "stream",
          "name": "stderr",
          "text": [
            "Default metric period is 5 because AUC is/are not implemented for GPU\n"
          ]
        },
        {
          "output_type": "stream",
          "name": "stdout",
          "text": [
            "Entraînement du pli 2/4...\n"
          ]
        },
        {
          "output_type": "stream",
          "name": "stderr",
          "text": [
            "Default metric period is 5 because AUC is/are not implemented for GPU\n"
          ]
        },
        {
          "output_type": "stream",
          "name": "stdout",
          "text": [
            "Entraînement du pli 3/4...\n"
          ]
        },
        {
          "output_type": "stream",
          "name": "stderr",
          "text": [
            "Default metric period is 5 because AUC is/are not implemented for GPU\n"
          ]
        },
        {
          "output_type": "stream",
          "name": "stdout",
          "text": [
            "Entraînement du pli 4/4...\n"
          ]
        },
        {
          "output_type": "stream",
          "name": "stderr",
          "text": [
            "Default metric period is 5 because AUC is/are not implemented for GPU\n",
            "[I 2024-10-07 11:34:42,323] Trial 0 finished with value: 0.766342492435837 and parameters: {'iterations': 9695, 'learning_rate': 0.052007731299878054, 'depth': 4, 'l2_leaf_reg': 1.8966448465673849}. Best is trial 0 with value: 0.766342492435837.\n"
          ]
        },
        {
          "output_type": "stream",
          "name": "stdout",
          "text": [
            "Entraînement du pli 1/4...\n"
          ]
        },
        {
          "output_type": "stream",
          "name": "stderr",
          "text": [
            "Default metric period is 5 because AUC is/are not implemented for GPU\n"
          ]
        },
        {
          "output_type": "stream",
          "name": "stdout",
          "text": [
            "Entraînement du pli 2/4...\n"
          ]
        },
        {
          "output_type": "stream",
          "name": "stderr",
          "text": [
            "Default metric period is 5 because AUC is/are not implemented for GPU\n"
          ]
        },
        {
          "output_type": "stream",
          "name": "stdout",
          "text": [
            "Entraînement du pli 3/4...\n"
          ]
        },
        {
          "output_type": "stream",
          "name": "stderr",
          "text": [
            "Default metric period is 5 because AUC is/are not implemented for GPU\n"
          ]
        },
        {
          "output_type": "stream",
          "name": "stdout",
          "text": [
            "Entraînement du pli 4/4...\n"
          ]
        },
        {
          "output_type": "stream",
          "name": "stderr",
          "text": [
            "Default metric period is 5 because AUC is/are not implemented for GPU\n",
            "[I 2024-10-07 11:39:33,247] Trial 1 finished with value: 0.7670259668938023 and parameters: {'iterations': 8053, 'learning_rate': 0.01202599668447783, 'depth': 4, 'l2_leaf_reg': 8.571966148670116}. Best is trial 1 with value: 0.7670259668938023.\n"
          ]
        },
        {
          "output_type": "stream",
          "name": "stdout",
          "text": [
            "Entraînement du pli 1/4...\n"
          ]
        },
        {
          "output_type": "stream",
          "name": "stderr",
          "text": [
            "Default metric period is 5 because AUC is/are not implemented for GPU\n"
          ]
        },
        {
          "output_type": "stream",
          "name": "stdout",
          "text": [
            "Entraînement du pli 2/4...\n"
          ]
        },
        {
          "output_type": "stream",
          "name": "stderr",
          "text": [
            "Default metric period is 5 because AUC is/are not implemented for GPU\n"
          ]
        },
        {
          "output_type": "stream",
          "name": "stdout",
          "text": [
            "Entraînement du pli 3/4...\n"
          ]
        },
        {
          "output_type": "stream",
          "name": "stderr",
          "text": [
            "Default metric period is 5 because AUC is/are not implemented for GPU\n"
          ]
        },
        {
          "output_type": "stream",
          "name": "stdout",
          "text": [
            "Entraînement du pli 4/4...\n"
          ]
        },
        {
          "output_type": "stream",
          "name": "stderr",
          "text": [
            "Default metric period is 5 because AUC is/are not implemented for GPU\n",
            "[I 2024-10-07 11:43:12,393] Trial 2 finished with value: 0.7664978051613767 and parameters: {'iterations': 5403, 'learning_rate': 0.01385146968801198, 'depth': 4, 'l2_leaf_reg': 6.172920537027834}. Best is trial 1 with value: 0.7670259668938023.\n"
          ]
        },
        {
          "output_type": "stream",
          "name": "stdout",
          "text": [
            "Entraînement du pli 1/4...\n"
          ]
        },
        {
          "output_type": "stream",
          "name": "stderr",
          "text": [
            "Default metric period is 5 because AUC is/are not implemented for GPU\n"
          ]
        },
        {
          "output_type": "stream",
          "name": "stdout",
          "text": [
            "Entraînement du pli 2/4...\n"
          ]
        },
        {
          "output_type": "stream",
          "name": "stderr",
          "text": [
            "Default metric period is 5 because AUC is/are not implemented for GPU\n"
          ]
        },
        {
          "output_type": "stream",
          "name": "stdout",
          "text": [
            "Entraînement du pli 3/4...\n"
          ]
        },
        {
          "output_type": "stream",
          "name": "stderr",
          "text": [
            "Default metric period is 5 because AUC is/are not implemented for GPU\n"
          ]
        },
        {
          "output_type": "stream",
          "name": "stdout",
          "text": [
            "Entraînement du pli 4/4...\n"
          ]
        },
        {
          "output_type": "stream",
          "name": "stderr",
          "text": [
            "Default metric period is 5 because AUC is/are not implemented for GPU\n",
            "[I 2024-10-07 11:47:06,502] Trial 3 finished with value: 0.7666942955983621 and parameters: {'iterations': 6490, 'learning_rate': 0.013470290585392059, 'depth': 4, 'l2_leaf_reg': 3.099168804286132}. Best is trial 1 with value: 0.7670259668938023.\n"
          ]
        },
        {
          "output_type": "stream",
          "name": "stdout",
          "text": [
            "Entraînement du pli 1/4...\n"
          ]
        },
        {
          "output_type": "stream",
          "name": "stderr",
          "text": [
            "Default metric period is 5 because AUC is/are not implemented for GPU\n"
          ]
        },
        {
          "output_type": "stream",
          "name": "stdout",
          "text": [
            "Entraînement du pli 2/4...\n"
          ]
        },
        {
          "output_type": "stream",
          "name": "stderr",
          "text": [
            "Default metric period is 5 because AUC is/are not implemented for GPU\n"
          ]
        },
        {
          "output_type": "stream",
          "name": "stdout",
          "text": [
            "Entraînement du pli 3/4...\n"
          ]
        },
        {
          "output_type": "stream",
          "name": "stderr",
          "text": [
            "Default metric period is 5 because AUC is/are not implemented for GPU\n"
          ]
        },
        {
          "output_type": "stream",
          "name": "stdout",
          "text": [
            "Entraînement du pli 4/4...\n"
          ]
        },
        {
          "output_type": "stream",
          "name": "stderr",
          "text": [
            "Default metric period is 5 because AUC is/are not implemented for GPU\n",
            "[I 2024-10-07 11:48:38,781] Trial 4 finished with value: 0.7649344074176536 and parameters: {'iterations': 5220, 'learning_rate': 0.034048392484436404, 'depth': 6, 'l2_leaf_reg': 2.422568922949322}. Best is trial 1 with value: 0.7670259668938023.\n"
          ]
        },
        {
          "output_type": "stream",
          "name": "stdout",
          "text": [
            "Meilleurs paramètres trouvés : {'iterations': 8053, 'learning_rate': 0.01202599668447783, 'depth': 4, 'l2_leaf_reg': 8.571966148670116}\n",
            "Entraînement du pli 1/4...\n"
          ]
        },
        {
          "output_type": "stream",
          "name": "stderr",
          "text": [
            "Default metric period is 5 because AUC is/are not implemented for GPU\n"
          ]
        },
        {
          "output_type": "stream",
          "name": "stdout",
          "text": [
            "Entraînement du pli 2/4...\n"
          ]
        },
        {
          "output_type": "stream",
          "name": "stderr",
          "text": [
            "Default metric period is 5 because AUC is/are not implemented for GPU\n"
          ]
        },
        {
          "output_type": "stream",
          "name": "stdout",
          "text": [
            "Entraînement du pli 3/4...\n"
          ]
        },
        {
          "output_type": "stream",
          "name": "stderr",
          "text": [
            "Default metric period is 5 because AUC is/are not implemented for GPU\n"
          ]
        },
        {
          "output_type": "stream",
          "name": "stdout",
          "text": [
            "Entraînement du pli 4/4...\n"
          ]
        },
        {
          "output_type": "stream",
          "name": "stderr",
          "text": [
            "Default metric period is 5 because AUC is/are not implemented for GPU\n"
          ]
        },
        {
          "output_type": "stream",
          "name": "stdout",
          "text": [
            "Modèle CatBoost sauvegardé à : /content/drive/MyDrive/Colab Notebooks/data_scoring/model_20241007_111048/best_model_weighted_class.cbm\n",
            "Importances des caractéristiques sauvegardées à : /content/drive/MyDrive/Colab Notebooks/data_scoring/model_20241007_111048/feature_importances_weighted_class.csv\n",
            "Métriques sauvegardées à : /content/drive/MyDrive/Colab Notebooks/data_scoring/model_20241007_111048/metrics_weighted_class.csv\n",
            "Baseline metrics with weight\n",
            "   fold  train_auc  valid_auc  weighted_cost  accuracy\n",
            "0     1   0.825463   0.763029           6869  0.920836\n",
            "1     2   0.842178   0.768767           7548  0.918676\n",
            "2     3   0.822499   0.768699           7099  0.921356\n",
            "3     4   0.822724   0.766161           7339  0.917765\n"
          ]
        }
      ],
      "source": [
        "submission_weight, fi_weight, metrics_weight = catboost_model_with_weights_and_mlflow_optimise(app_train, app_test, categorical_features, n_folds=4, save_path=model_folder, exp_name=\"catboost_weighted_class\", run=\"catboost_weighted\")\n",
        "print('Baseline metrics with weight')\n",
        "print(metrics)"
      ]
    },
    {
      "cell_type": "markdown",
      "metadata": {
        "id": "VarEaAeMiTX3"
      },
      "source": [
        "test avec le dataset balanced"
      ]
    },
    {
      "cell_type": "code",
      "source": [
        "\n",
        ""
      ],
      "metadata": {
        "id": "3KSb8b4pD7fG"
      },
      "execution_count": 37,
      "outputs": []
    },
    {
      "cell_type": "code",
      "source": [],
      "metadata": {
        "id": "ydrSjdirEDjS"
      },
      "execution_count": 37,
      "outputs": []
    },
    {
      "cell_type": "code",
      "source": [],
      "metadata": {
        "id": "O4bLzB7HUDf7"
      },
      "execution_count": 37,
      "outputs": []
    },
    {
      "cell_type": "code",
      "execution_count": 38,
      "metadata": {
        "id": "PqMZp6PSiXKG"
      },
      "outputs": [],
      "source": [
        "import pandas as pd\n",
        "\n",
        "def balance_classes_subsample(df, target_col):\n",
        "    \"\"\"\n",
        "    Effectue un sous-échantillonnage pour équilibrer les classes dans un DataFrame.\n",
        "\n",
        "    Paramètres\n",
        "    ----------\n",
        "    df (pd.DataFrame): DataFrame contenant les données avec une colonne cible déséquilibrée.\n",
        "    target_col (str): Nom de la colonne cible indiquant les classes.\n",
        "\n",
        "    Retourne\n",
        "    -------\n",
        "    df_balanced (pd.DataFrame): DataFrame avec des classes équilibrées par sous-échantillonnage.\n",
        "    \"\"\"\n",
        "    # Séparer les classes\n",
        "    class_counts = df[target_col].value_counts()\n",
        "    class_minority = class_counts.idxmin()  # La classe minoritaire\n",
        "    class_majority = class_counts.idxmax()  # La classe majoritaire\n",
        "\n",
        "    print(f\"Classe minoritaire: {class_minority} ({class_counts[class_minority]} exemples)\")\n",
        "    print(f\"Classe majoritaire: {class_majority} ({class_counts[class_majority]} exemples)\")\n",
        "\n",
        "    # Obtenir les échantillons de chaque classe\n",
        "    df_minority = df[df[target_col] == class_minority]\n",
        "    df_majority = df[df[target_col] == class_majority]\n",
        "\n",
        "    # Sous-échantillonnage de la classe majoritaire pour qu'elle ait le même nombre que la classe minoritaire\n",
        "    df_majority_subsampled = df_majority.sample(n=len(df_minority), random_state=50)\n",
        "\n",
        "    # Combiner les échantillons sous-échantillonnés avec la classe minoritaire\n",
        "    df_balanced = pd.concat([df_minority, df_majority_subsampled], axis=0)\n",
        "\n",
        "    # Mélanger les données pour éviter l'ordre\n",
        "    df_balanced = df_balanced.sample(frac=1, random_state=50).reset_index(drop=True)\n",
        "\n",
        "    print(f\"Nouvelle distribution des classes : \\n{df_balanced[target_col].value_counts()}\")\n",
        "\n",
        "    return df_balanced\n"
      ]
    },
    {
      "cell_type": "code",
      "execution_count": 39,
      "metadata": {
        "colab": {
          "base_uri": "https://localhost:8080/"
        },
        "id": "KRUGN8aOiftX",
        "outputId": "4c640a5d-f899-4b8a-c53a-9deb2493eaaf"
      },
      "outputs": [
        {
          "output_type": "stream",
          "name": "stdout",
          "text": [
            "Classe minoritaire: 1 (24825 exemples)\n",
            "Classe majoritaire: 0 (282686 exemples)\n",
            "Nouvelle distribution des classes : \n",
            "TARGET\n",
            "0    24825\n",
            "1    24825\n",
            "Name: count, dtype: int64\n"
          ]
        }
      ],
      "source": [
        "app_train = balance_classes_subsample(app_train, \"TARGET\")"
      ]
    },
    {
      "cell_type": "code",
      "execution_count": 40,
      "metadata": {
        "id": "Rn2wy72kiwfU",
        "colab": {
          "base_uri": "https://localhost:8080/"
        },
        "outputId": "2a56aab0-ecd4-4f7d-80e7-130487913f3b"
      },
      "outputs": [
        {
          "output_type": "stream",
          "name": "stderr",
          "text": [
            "2024/10/07 11:54:08 INFO mlflow.tracking.fluent: Experiment with name 'catboost with balanced dataset' does not exist. Creating a new experiment.\n",
            "[I 2024-10-07 11:54:08,700] A new study created in memory with name: no-name-64d91843-6d33-4dbe-a26f-7f7f31449c56\n"
          ]
        },
        {
          "output_type": "stream",
          "name": "stdout",
          "text": [
            "Entraînement du pli 1/4...\n"
          ]
        },
        {
          "output_type": "stream",
          "name": "stderr",
          "text": [
            "Default metric period is 5 because AUC is/are not implemented for GPU\n"
          ]
        },
        {
          "output_type": "stream",
          "name": "stdout",
          "text": [
            "Entraînement du pli 2/4...\n"
          ]
        },
        {
          "output_type": "stream",
          "name": "stderr",
          "text": [
            "Default metric period is 5 because AUC is/are not implemented for GPU\n"
          ]
        },
        {
          "output_type": "stream",
          "name": "stdout",
          "text": [
            "Entraînement du pli 3/4...\n"
          ]
        },
        {
          "output_type": "stream",
          "name": "stderr",
          "text": [
            "Default metric period is 5 because AUC is/are not implemented for GPU\n"
          ]
        },
        {
          "output_type": "stream",
          "name": "stdout",
          "text": [
            "Entraînement du pli 4/4...\n"
          ]
        },
        {
          "output_type": "stream",
          "name": "stderr",
          "text": [
            "Default metric period is 5 because AUC is/are not implemented for GPU\n",
            "[I 2024-10-07 12:01:08,329] Trial 0 finished with value: 0.7623761366828626 and parameters: {'iterations': 5929, 'learning_rate': 0.017330391472872058, 'depth': 5, 'l2_leaf_reg': 6.487883023076299}. Best is trial 0 with value: 0.7623761366828626.\n"
          ]
        },
        {
          "output_type": "stream",
          "name": "stdout",
          "text": [
            "Entraînement du pli 1/4...\n"
          ]
        },
        {
          "output_type": "stream",
          "name": "stderr",
          "text": [
            "Default metric period is 5 because AUC is/are not implemented for GPU\n"
          ]
        },
        {
          "output_type": "stream",
          "name": "stdout",
          "text": [
            "Entraînement du pli 2/4...\n"
          ]
        },
        {
          "output_type": "stream",
          "name": "stderr",
          "text": [
            "Default metric period is 5 because AUC is/are not implemented for GPU\n"
          ]
        },
        {
          "output_type": "stream",
          "name": "stdout",
          "text": [
            "Entraînement du pli 3/4...\n"
          ]
        },
        {
          "output_type": "stream",
          "name": "stderr",
          "text": [
            "Default metric period is 5 because AUC is/are not implemented for GPU\n"
          ]
        },
        {
          "output_type": "stream",
          "name": "stdout",
          "text": [
            "Entraînement du pli 4/4...\n"
          ]
        },
        {
          "output_type": "stream",
          "name": "stderr",
          "text": [
            "Default metric period is 5 because AUC is/are not implemented for GPU\n",
            "[I 2024-10-07 12:06:25,579] Trial 1 finished with value: 0.7588705113031908 and parameters: {'iterations': 9951, 'learning_rate': 0.09404904754937903, 'depth': 9, 'l2_leaf_reg': 1.8228596436219757}. Best is trial 0 with value: 0.7623761366828626.\n"
          ]
        },
        {
          "output_type": "stream",
          "name": "stdout",
          "text": [
            "Entraînement du pli 1/4...\n"
          ]
        },
        {
          "output_type": "stream",
          "name": "stderr",
          "text": [
            "Default metric period is 5 because AUC is/are not implemented for GPU\n"
          ]
        },
        {
          "output_type": "stream",
          "name": "stdout",
          "text": [
            "Entraînement du pli 2/4...\n"
          ]
        },
        {
          "output_type": "stream",
          "name": "stderr",
          "text": [
            "Default metric period is 5 because AUC is/are not implemented for GPU\n"
          ]
        },
        {
          "output_type": "stream",
          "name": "stdout",
          "text": [
            "Entraînement du pli 3/4...\n"
          ]
        },
        {
          "output_type": "stream",
          "name": "stderr",
          "text": [
            "Default metric period is 5 because AUC is/are not implemented for GPU\n"
          ]
        },
        {
          "output_type": "stream",
          "name": "stdout",
          "text": [
            "Entraînement du pli 4/4...\n"
          ]
        },
        {
          "output_type": "stream",
          "name": "stderr",
          "text": [
            "Default metric period is 5 because AUC is/are not implemented for GPU\n",
            "[I 2024-10-07 12:30:15,947] Trial 2 finished with value: 0.761063763768332 and parameters: {'iterations': 5896, 'learning_rate': 0.03417890846558148, 'depth': 10, 'l2_leaf_reg': 3.9806127876213067}. Best is trial 0 with value: 0.7623761366828626.\n"
          ]
        },
        {
          "output_type": "stream",
          "name": "stdout",
          "text": [
            "Entraînement du pli 1/4...\n"
          ]
        },
        {
          "output_type": "stream",
          "name": "stderr",
          "text": [
            "Default metric period is 5 because AUC is/are not implemented for GPU\n"
          ]
        },
        {
          "output_type": "stream",
          "name": "stdout",
          "text": [
            "Entraînement du pli 2/4...\n"
          ]
        },
        {
          "output_type": "stream",
          "name": "stderr",
          "text": [
            "Default metric period is 5 because AUC is/are not implemented for GPU\n"
          ]
        },
        {
          "output_type": "stream",
          "name": "stdout",
          "text": [
            "Entraînement du pli 3/4...\n"
          ]
        },
        {
          "output_type": "stream",
          "name": "stderr",
          "text": [
            "Default metric period is 5 because AUC is/are not implemented for GPU\n"
          ]
        },
        {
          "output_type": "stream",
          "name": "stdout",
          "text": [
            "Entraînement du pli 4/4...\n"
          ]
        },
        {
          "output_type": "stream",
          "name": "stderr",
          "text": [
            "Default metric period is 5 because AUC is/are not implemented for GPU\n",
            "[I 2024-10-07 12:31:48,976] Trial 3 finished with value: 0.761301825771336 and parameters: {'iterations': 5317, 'learning_rate': 0.08974096551124112, 'depth': 4, 'l2_leaf_reg': 3.8822724895115464}. Best is trial 0 with value: 0.7623761366828626.\n"
          ]
        },
        {
          "output_type": "stream",
          "name": "stdout",
          "text": [
            "Entraînement du pli 1/4...\n"
          ]
        },
        {
          "output_type": "stream",
          "name": "stderr",
          "text": [
            "Default metric period is 5 because AUC is/are not implemented for GPU\n"
          ]
        },
        {
          "output_type": "stream",
          "name": "stdout",
          "text": [
            "Entraînement du pli 2/4...\n"
          ]
        },
        {
          "output_type": "stream",
          "name": "stderr",
          "text": [
            "Default metric period is 5 because AUC is/are not implemented for GPU\n"
          ]
        },
        {
          "output_type": "stream",
          "name": "stdout",
          "text": [
            "Entraînement du pli 3/4...\n"
          ]
        },
        {
          "output_type": "stream",
          "name": "stderr",
          "text": [
            "Default metric period is 5 because AUC is/are not implemented for GPU\n"
          ]
        },
        {
          "output_type": "stream",
          "name": "stdout",
          "text": [
            "Entraînement du pli 4/4...\n"
          ]
        },
        {
          "output_type": "stream",
          "name": "stderr",
          "text": [
            "Default metric period is 5 because AUC is/are not implemented for GPU\n",
            "[I 2024-10-07 12:34:19,948] Trial 4 finished with value: 0.7609745268237177 and parameters: {'iterations': 7053, 'learning_rate': 0.07997479923259045, 'depth': 6, 'l2_leaf_reg': 5.802028981434348}. Best is trial 0 with value: 0.7623761366828626.\n"
          ]
        },
        {
          "output_type": "stream",
          "name": "stdout",
          "text": [
            "Meilleurs paramètres trouvés : {'iterations': 5929, 'learning_rate': 0.017330391472872058, 'depth': 5, 'l2_leaf_reg': 6.487883023076299}\n",
            "Entraînement du pli 1/4...\n"
          ]
        },
        {
          "output_type": "stream",
          "name": "stderr",
          "text": [
            "Default metric period is 5 because AUC is/are not implemented for GPU\n"
          ]
        },
        {
          "output_type": "stream",
          "name": "stdout",
          "text": [
            "Entraînement du pli 2/4...\n"
          ]
        },
        {
          "output_type": "stream",
          "name": "stderr",
          "text": [
            "Default metric period is 5 because AUC is/are not implemented for GPU\n"
          ]
        },
        {
          "output_type": "stream",
          "name": "stdout",
          "text": [
            "Entraînement du pli 3/4...\n"
          ]
        },
        {
          "output_type": "stream",
          "name": "stderr",
          "text": [
            "Default metric period is 5 because AUC is/are not implemented for GPU\n"
          ]
        },
        {
          "output_type": "stream",
          "name": "stdout",
          "text": [
            "Entraînement du pli 4/4...\n"
          ]
        },
        {
          "output_type": "stream",
          "name": "stderr",
          "text": [
            "Default metric period is 5 because AUC is/are not implemented for GPU\n"
          ]
        },
        {
          "output_type": "stream",
          "name": "stdout",
          "text": [
            "Modèle CatBoost sauvegardé à : /content/drive/MyDrive/Colab Notebooks/data_scoring/model_20241007_111048/best_model.cbm\n",
            "Importances des caractéristiques sauvegardées à : /content/drive/MyDrive/Colab Notebooks/data_scoring/model_20241007_111048/feature_importances.csv\n",
            "Métriques sauvegardées à : /content/drive/MyDrive/Colab Notebooks/data_scoring/model_20241007_111048/metrics.csv\n",
            "Baseline metrics\n",
            "   fold  train_auc  valid_auc  weighted_cost  accuracy\n",
            "0     1   0.825463   0.763029           6869  0.920836\n",
            "1     2   0.842178   0.768767           7548  0.918676\n",
            "2     3   0.822499   0.768699           7099  0.921356\n",
            "3     4   0.822724   0.766161           7339  0.917765\n"
          ]
        }
      ],
      "source": [
        "submission_balanced, fi_balanced, metrics_balanced = catboost_model_with_mlflow_optimise(app_train, app_test, categorical_features, n_folds=4, save_path=model_folder,  exp_name=\"catboost with balanced dataset\", run=\"catboost_balanced_dataset\")\n",
        "print('Baseline metrics')\n",
        "print(metrics)"
      ]
    },
    {
      "cell_type": "code",
      "execution_count": 41,
      "metadata": {
        "id": "23TOba33L4qf",
        "colab": {
          "base_uri": "https://localhost:8080/"
        },
        "outputId": "72f82d06-a0bd-4c75-a949-d2bdc1946281"
      },
      "outputs": [
        {
          "output_type": "stream",
          "name": "stdout",
          "text": [
            "Mon Oct  7 12:42:15 2024       \n",
            "+---------------------------------------------------------------------------------------+\n",
            "| NVIDIA-SMI 535.104.05             Driver Version: 535.104.05   CUDA Version: 12.2     |\n",
            "|-----------------------------------------+----------------------+----------------------+\n",
            "| GPU  Name                 Persistence-M | Bus-Id        Disp.A | Volatile Uncorr. ECC |\n",
            "| Fan  Temp   Perf          Pwr:Usage/Cap |         Memory-Usage | GPU-Util  Compute M. |\n",
            "|                                         |                      |               MIG M. |\n",
            "|=========================================+======================+======================|\n",
            "|   0  Tesla T4                       Off | 00000000:00:04.0 Off |                    0 |\n",
            "| N/A   76C    P0              44W /  70W |    107MiB / 15360MiB |      0%      Default |\n",
            "|                                         |                      |                  N/A |\n",
            "+-----------------------------------------+----------------------+----------------------+\n",
            "                                                                                         \n",
            "+---------------------------------------------------------------------------------------+\n",
            "| Processes:                                                                            |\n",
            "|  GPU   GI   CI        PID   Type   Process name                            GPU Memory |\n",
            "|        ID   ID                                                             Usage      |\n",
            "|=======================================================================================|\n",
            "+---------------------------------------------------------------------------------------+\n"
          ]
        }
      ],
      "source": [
        "gpu_info = !nvidia-smi\n",
        "gpu_info = '\\n'.join(gpu_info)\n",
        "if gpu_info.find('failed') >= 0:\n",
        "  print('Not connected to a GPU')\n",
        "else:\n",
        "  print(gpu_info)"
      ]
    },
    {
      "cell_type": "code",
      "execution_count": 42,
      "metadata": {
        "id": "d0fbpoImoDhI",
        "colab": {
          "base_uri": "https://localhost:8080/"
        },
        "outputId": "e7213589-a285-4f6b-dc51-72f00ecf1496"
      },
      "outputs": [
        {
          "output_type": "stream",
          "name": "stdout",
          "text": [
            "Token utilisé : None\n"
          ]
        }
      ],
      "source": [
        "token = os.getenv('GITHUB_TOKEN')\n",
        "print(f\"Token utilisé : {token}\")\n"
      ]
    },
    {
      "cell_type": "code",
      "source": [],
      "metadata": {
        "id": "LPWIwjIaAWMV"
      },
      "execution_count": 50,
      "outputs": []
    }
  ],
  "metadata": {
    "colab": {
      "provenance": [],
      "gpuType": "T4"
    },
    "kernelspec": {
      "display_name": "Python 3",
      "name": "python3"
    },
    "language_info": {
      "name": "python"
    },
    "accelerator": "GPU"
  },
  "nbformat": 4,
  "nbformat_minor": 0
}